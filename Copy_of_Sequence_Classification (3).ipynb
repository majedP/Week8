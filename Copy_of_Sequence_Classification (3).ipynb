{
  "cells": [
    {
      "cell_type": "markdown",
      "id": "6338e9cf",
      "metadata": {
        "id": "6338e9cf"
      },
      "source": [
        "# Fine-tuning a Sequence Classification Model Exam"
      ]
    },
    {
      "cell_type": "markdown",
      "id": "cc78efcc",
      "metadata": {
        "id": "cc78efcc"
      },
      "source": [
        "In this exam, you will be tasked with performing dataset preprocessing and fine-tuning a model for sequence classification. Complete each step carefully according to the instructions provided.\n",
        "\n",
        "### Model and Dataset Information\n",
        "\n",
        "For this task, you will be working with the following:\n",
        "\n",
        "- **Model Checkpoint**: Use the pre-trained model checkpoint `aubmindlab/bert-base-arabertv02` for both the model and tokenizer.\n",
        "- **Dataset**: You will be using the `CUTD/sanad_df` dataset. Ensure to load and preprocess the dataset correctly for training and evaluation.\n",
        "\n",
        "**Note:**\n",
        "- Any additional steps or methods you include that improve or enhance the results will be rewarded with bonus points if they are justified.\n",
        "- The steps outlined here are suggestions. You are free to implement alternative methods or approaches to achieve the task, as long as you explain the reasoning and the process at the bottom of the notebook.\n",
        "- You can use either TensorFlow or PyTorch for this task. If you prefer TensorFlow, feel free to use it when working with Hugging Face Transformers.\n",
        "- The number of data samples you choose to work with is flexible. However, if you select a very low number of samples and the training time is too short, this could affect the evaluation of your work."
      ]
    },
    {
      "cell_type": "markdown",
      "id": "e4aded80",
      "metadata": {
        "id": "e4aded80"
      },
      "source": [
        "## Step 1: Load the Dataset"
      ]
    },
    {
      "cell_type": "markdown",
      "id": "d54930f9",
      "metadata": {
        "id": "d54930f9"
      },
      "source": [
        "Load the dataset and split it into training and test sets. Use 20% of the data for testing."
      ]
    },
    {
      "cell_type": "code",
      "source": [
        "!pip install datasets"
      ],
      "metadata": {
        "collapsed": true,
        "id": "1j9DWPtPLLSG",
        "outputId": "797b6653-08e6-4ac8-d707-ca75e0ad7799",
        "colab": {
          "base_uri": "https://localhost:8080/"
        }
      },
      "id": "1j9DWPtPLLSG",
      "execution_count": null,
      "outputs": [
        {
          "output_type": "stream",
          "name": "stdout",
          "text": [
            "Collecting datasets\n",
            "  Downloading datasets-3.0.0-py3-none-any.whl.metadata (19 kB)\n",
            "Requirement already satisfied: filelock in /usr/local/lib/python3.10/dist-packages (from datasets) (3.16.0)\n",
            "Requirement already satisfied: numpy>=1.17 in /usr/local/lib/python3.10/dist-packages (from datasets) (1.26.4)\n",
            "Collecting pyarrow>=15.0.0 (from datasets)\n",
            "  Downloading pyarrow-17.0.0-cp310-cp310-manylinux_2_28_x86_64.whl.metadata (3.3 kB)\n",
            "Collecting dill<0.3.9,>=0.3.0 (from datasets)\n",
            "  Downloading dill-0.3.8-py3-none-any.whl.metadata (10 kB)\n",
            "Requirement already satisfied: pandas in /usr/local/lib/python3.10/dist-packages (from datasets) (2.1.4)\n",
            "Requirement already satisfied: requests>=2.32.2 in /usr/local/lib/python3.10/dist-packages (from datasets) (2.32.3)\n",
            "Requirement already satisfied: tqdm>=4.66.3 in /usr/local/lib/python3.10/dist-packages (from datasets) (4.66.5)\n",
            "Collecting xxhash (from datasets)\n",
            "  Downloading xxhash-3.5.0-cp310-cp310-manylinux_2_17_x86_64.manylinux2014_x86_64.whl.metadata (12 kB)\n",
            "Collecting multiprocess (from datasets)\n",
            "  Downloading multiprocess-0.70.16-py310-none-any.whl.metadata (7.2 kB)\n",
            "Requirement already satisfied: fsspec<=2024.6.1,>=2023.1.0 in /usr/local/lib/python3.10/dist-packages (from fsspec[http]<=2024.6.1,>=2023.1.0->datasets) (2024.6.1)\n",
            "Requirement already satisfied: aiohttp in /usr/local/lib/python3.10/dist-packages (from datasets) (3.10.5)\n",
            "Requirement already satisfied: huggingface-hub>=0.22.0 in /usr/local/lib/python3.10/dist-packages (from datasets) (0.24.6)\n",
            "Requirement already satisfied: packaging in /usr/local/lib/python3.10/dist-packages (from datasets) (24.1)\n",
            "Requirement already satisfied: pyyaml>=5.1 in /usr/local/lib/python3.10/dist-packages (from datasets) (6.0.2)\n",
            "Requirement already satisfied: aiohappyeyeballs>=2.3.0 in /usr/local/lib/python3.10/dist-packages (from aiohttp->datasets) (2.4.0)\n",
            "Requirement already satisfied: aiosignal>=1.1.2 in /usr/local/lib/python3.10/dist-packages (from aiohttp->datasets) (1.3.1)\n",
            "Requirement already satisfied: attrs>=17.3.0 in /usr/local/lib/python3.10/dist-packages (from aiohttp->datasets) (24.2.0)\n",
            "Requirement already satisfied: frozenlist>=1.1.1 in /usr/local/lib/python3.10/dist-packages (from aiohttp->datasets) (1.4.1)\n",
            "Requirement already satisfied: multidict<7.0,>=4.5 in /usr/local/lib/python3.10/dist-packages (from aiohttp->datasets) (6.1.0)\n",
            "Requirement already satisfied: yarl<2.0,>=1.0 in /usr/local/lib/python3.10/dist-packages (from aiohttp->datasets) (1.11.1)\n",
            "Requirement already satisfied: async-timeout<5.0,>=4.0 in /usr/local/lib/python3.10/dist-packages (from aiohttp->datasets) (4.0.3)\n",
            "Requirement already satisfied: typing-extensions>=3.7.4.3 in /usr/local/lib/python3.10/dist-packages (from huggingface-hub>=0.22.0->datasets) (4.12.2)\n",
            "Requirement already satisfied: charset-normalizer<4,>=2 in /usr/local/lib/python3.10/dist-packages (from requests>=2.32.2->datasets) (3.3.2)\n",
            "Requirement already satisfied: idna<4,>=2.5 in /usr/local/lib/python3.10/dist-packages (from requests>=2.32.2->datasets) (3.8)\n",
            "Requirement already satisfied: urllib3<3,>=1.21.1 in /usr/local/lib/python3.10/dist-packages (from requests>=2.32.2->datasets) (2.0.7)\n",
            "Requirement already satisfied: certifi>=2017.4.17 in /usr/local/lib/python3.10/dist-packages (from requests>=2.32.2->datasets) (2024.8.30)\n",
            "Requirement already satisfied: python-dateutil>=2.8.2 in /usr/local/lib/python3.10/dist-packages (from pandas->datasets) (2.8.2)\n",
            "Requirement already satisfied: pytz>=2020.1 in /usr/local/lib/python3.10/dist-packages (from pandas->datasets) (2024.2)\n",
            "Requirement already satisfied: tzdata>=2022.1 in /usr/local/lib/python3.10/dist-packages (from pandas->datasets) (2024.1)\n",
            "Requirement already satisfied: six>=1.5 in /usr/local/lib/python3.10/dist-packages (from python-dateutil>=2.8.2->pandas->datasets) (1.16.0)\n",
            "Downloading datasets-3.0.0-py3-none-any.whl (474 kB)\n",
            "\u001b[2K   \u001b[90m━━━━━━━━━━━━━━━━━━━━━━━━━━━━━━━━━━━━━━━━\u001b[0m \u001b[32m474.3/474.3 kB\u001b[0m \u001b[31m7.4 MB/s\u001b[0m eta \u001b[36m0:00:00\u001b[0m\n",
            "\u001b[?25hDownloading dill-0.3.8-py3-none-any.whl (116 kB)\n",
            "\u001b[2K   \u001b[90m━━━━━━━━━━━━━━━━━━━━━━━━━━━━━━━━━━━━━━━━\u001b[0m \u001b[32m116.3/116.3 kB\u001b[0m \u001b[31m7.1 MB/s\u001b[0m eta \u001b[36m0:00:00\u001b[0m\n",
            "\u001b[?25hDownloading pyarrow-17.0.0-cp310-cp310-manylinux_2_28_x86_64.whl (39.9 MB)\n",
            "\u001b[2K   \u001b[90m━━━━━━━━━━━━━━━━━━━━━━━━━━━━━━━━━━━━━━━━\u001b[0m \u001b[32m39.9/39.9 MB\u001b[0m \u001b[31m16.1 MB/s\u001b[0m eta \u001b[36m0:00:00\u001b[0m\n",
            "\u001b[?25hDownloading multiprocess-0.70.16-py310-none-any.whl (134 kB)\n",
            "\u001b[2K   \u001b[90m━━━━━━━━━━━━━━━━━━━━━━━━━━━━━━━━━━━━━━━━\u001b[0m \u001b[32m134.8/134.8 kB\u001b[0m \u001b[31m4.6 MB/s\u001b[0m eta \u001b[36m0:00:00\u001b[0m\n",
            "\u001b[?25hDownloading xxhash-3.5.0-cp310-cp310-manylinux_2_17_x86_64.manylinux2014_x86_64.whl (194 kB)\n",
            "\u001b[2K   \u001b[90m━━━━━━━━━━━━━━━━━━━━━━━━━━━━━━━━━━━━━━━━\u001b[0m \u001b[32m194.1/194.1 kB\u001b[0m \u001b[31m9.8 MB/s\u001b[0m eta \u001b[36m0:00:00\u001b[0m\n",
            "\u001b[?25hInstalling collected packages: xxhash, pyarrow, dill, multiprocess, datasets\n",
            "  Attempting uninstall: pyarrow\n",
            "    Found existing installation: pyarrow 14.0.2\n",
            "    Uninstalling pyarrow-14.0.2:\n",
            "      Successfully uninstalled pyarrow-14.0.2\n",
            "\u001b[31mERROR: pip's dependency resolver does not currently take into account all the packages that are installed. This behaviour is the source of the following dependency conflicts.\n",
            "cudf-cu12 24.4.1 requires pyarrow<15.0.0a0,>=14.0.1, but you have pyarrow 17.0.0 which is incompatible.\n",
            "ibis-framework 8.0.0 requires pyarrow<16,>=2, but you have pyarrow 17.0.0 which is incompatible.\u001b[0m\u001b[31m\n",
            "\u001b[0mSuccessfully installed datasets-3.0.0 dill-0.3.8 multiprocess-0.70.16 pyarrow-17.0.0 xxhash-3.5.0\n"
          ]
        }
      ]
    },
    {
      "cell_type": "code",
      "source": [
        "# Load model directly\n",
        "from transformers import AutoTokenizer, AutoModelForMaskedLM\n",
        "\n",
        "tokenizer = AutoTokenizer.from_pretrained(\"aubmindlab/bert-base-arabertv02\")\n",
        "model = AutoModelForMaskedLM.from_pretrained(\"aubmindlab/bert-base-arabertv02\")"
      ],
      "metadata": {
        "id": "IxHwTqUM4sEh",
        "outputId": "0a61fc50-2a10-4fc4-a6ca-b4434e51a220",
        "colab": {
          "base_uri": "https://localhost:8080/",
          "height": 123,
          "referenced_widgets": [
            "0c3bf1dae4a4411a8bd83ba75d422805",
            "391b219fbfbb4a9989ea79f904eeffba",
            "58fe914d69294ea4852c4c650d67fff7",
            "8b4505994f684254beea3c41ee692c38",
            "c149b79561f9472eae59956cc5b2748c",
            "2ddb08c65c89458db3a525ab44799507",
            "8a91b3fba1404c94946edae01d62cdd1",
            "2997a074785344c788b9ea708b37fe5f",
            "4e0ce52717a947db84b2d7dcdeee3a31",
            "5a361c42c7c34bd28b6baf9f1d389f37",
            "d8e4c42a601043bb83ccb9118b98e79f"
          ]
        }
      },
      "id": "IxHwTqUM4sEh",
      "execution_count": null,
      "outputs": [
        {
          "output_type": "display_data",
          "data": {
            "text/plain": [
              "model.safetensors:   0%|          | 0.00/543M [00:00<?, ?B/s]"
            ],
            "application/vnd.jupyter.widget-view+json": {
              "version_major": 2,
              "version_minor": 0,
              "model_id": "0c3bf1dae4a4411a8bd83ba75d422805"
            }
          },
          "metadata": {}
        },
        {
          "output_type": "stream",
          "name": "stderr",
          "text": [
            "Some weights of the model checkpoint at aubmindlab/bert-base-arabertv02 were not used when initializing BertForMaskedLM: ['bert.pooler.dense.bias', 'bert.pooler.dense.weight', 'cls.seq_relationship.bias', 'cls.seq_relationship.weight']\n",
            "- This IS expected if you are initializing BertForMaskedLM from the checkpoint of a model trained on another task or with another architecture (e.g. initializing a BertForSequenceClassification model from a BertForPreTraining model).\n",
            "- This IS NOT expected if you are initializing BertForMaskedLM from the checkpoint of a model that you expect to be exactly identical (initializing a BertForSequenceClassification model from a BertForSequenceClassification model).\n"
          ]
        }
      ]
    },
    {
      "cell_type": "code",
      "execution_count": null,
      "id": "ef64e03c",
      "metadata": {
        "collapsed": true,
        "id": "ef64e03c",
        "colab": {
          "base_uri": "https://localhost:8080/",
          "height": 81,
          "referenced_widgets": [
            "8b7a427e5baa4bc9a7521900de94b984",
            "2410de4fe0474b35bd4751eb636cd1e0",
            "9ab0e107c1244a4888465c82fcdf273c",
            "f17f104563054276b7fe489ecd0cd60e",
            "aa7bd696685246a9b87978a9e96a0818",
            "3775fb8d6a7f42f7a53bda4675c19627",
            "fd7018eacdb6478a9763af8c4fdfbaf3",
            "cb36586857534acc9ef04ec7a46f7197",
            "5bdfa8df1507444e9f55b5e187d312bf",
            "3ff3d2aa0d184539a2303aea612a5222",
            "9a9fc3e2333948c1bfc4091cc2b210e9",
            "4e460051e62640b6834dcc582107f730",
            "091c67f0895448d7bd642f9b795c9a03",
            "9ea85897c7ef49e48ea139bc6ce53e3f",
            "d8f0448efaed455d9f10135d405233db",
            "3be256b7d30a42d19bf50ec0ae778d90",
            "089901e215754769b6ff21a8abeeb9f2",
            "d0d798992c914bff8d7bd959ea7855d3",
            "d013542e18e94d22b0cb2756e8d56e00",
            "87552c61d23a4154b29a05c5ad266408",
            "68bd08479d014d2194974f035f97285f",
            "cadda7a41933456a90fe09f39372d520"
          ]
        },
        "outputId": "b70c8777-7dc5-4dde-a388-4f4942cfc587"
      },
      "outputs": [
        {
          "output_type": "display_data",
          "data": {
            "text/plain": [
              "sanad_df.csv:   0%|          | 0.00/50.3M [00:00<?, ?B/s]"
            ],
            "application/vnd.jupyter.widget-view+json": {
              "version_major": 2,
              "version_minor": 0,
              "model_id": "8b7a427e5baa4bc9a7521900de94b984"
            }
          },
          "metadata": {}
        },
        {
          "output_type": "display_data",
          "data": {
            "text/plain": [
              "Generating train split:   0%|          | 0/15000 [00:00<?, ? examples/s]"
            ],
            "application/vnd.jupyter.widget-view+json": {
              "version_major": 2,
              "version_minor": 0,
              "model_id": "4e460051e62640b6834dcc582107f730"
            }
          },
          "metadata": {}
        }
      ],
      "source": [
        "from datasets import load_dataset\n",
        "data = load_dataset(\"CUTD/sanad_df\")\n"
      ]
    },
    {
      "cell_type": "code",
      "source": [
        "print(data)"
      ],
      "metadata": {
        "collapsed": true,
        "id": "l2DIDX62MUTU",
        "outputId": "4ad32a2a-8ccb-4af9-bc45-5f7ac4bea811",
        "colab": {
          "base_uri": "https://localhost:8080/"
        }
      },
      "id": "l2DIDX62MUTU",
      "execution_count": null,
      "outputs": [
        {
          "output_type": "stream",
          "name": "stdout",
          "text": [
            "DatasetDict({\n",
            "    train: Dataset({\n",
            "        features: ['Unnamed: 0', 'text', 'label'],\n",
            "        num_rows: 15000\n",
            "    })\n",
            "})\n"
          ]
        }
      ]
    },
    {
      "cell_type": "code",
      "source": [
        "train_data=data['train']"
      ],
      "metadata": {
        "id": "GNKb8So_MdEb"
      },
      "id": "GNKb8So_MdEb",
      "execution_count": null,
      "outputs": []
    },
    {
      "cell_type": "code",
      "source": [
        "data.set_format('pandas')\n",
        "df = data['train'][:]\n",
        "df.head(10)"
      ],
      "metadata": {
        "id": "XQUOkLFANpB5",
        "outputId": "fdacb2da-2a21-4c6f-d5b1-b5cd6ae5a438",
        "colab": {
          "base_uri": "https://localhost:8080/",
          "height": 362
        }
      },
      "id": "XQUOkLFANpB5",
      "execution_count": null,
      "outputs": [
        {
          "output_type": "execute_result",
          "data": {
            "text/plain": [
              "   Unnamed: 0                                               text    label\n",
              "0           0  الشارقة - محمد ولد محمد سالمعرضت مساء أمس الأو...  Culture\n",
              "1           1  عبدالحكيم الزبيدي شاعر وقاص وناقد، جاءت نصوصه ...  Culture\n",
              "2           2  انطلقت في مثل هذه الأيام من العام الفائت فعالي...  Culture\n",
              "3           3  أقيمت مساء أمس الأول في إكسبو الشارقة ندوة حوا...  Culture\n",
              "4           4  باسمة يونس حينما قال صاحب السموّ الشيخ الدكتور...  Culture\n",
              "5           5  قرر اتحاد الأدباء والكتّاب الموريتانيين عقد مؤ...  Culture\n",
              "6           6  تتناول الرواية الإماراتية المرأة ومكانتها في ا...  Culture\n",
              "7           7  أعلنت هيئة دبي للثقافة والفنون (دبي للثقافة)، ...  Culture\n",
              "8           8  توفي أمس الأديب الإسباني ميجيل ديليبس الذي يعت...  Culture\n",
              "9           9  نظم مركز الشارقة للشعر الشعبي في مجلس ضاحية مغ...  Culture"
            ],
            "text/html": [
              "\n",
              "  <div id=\"df-5fd6100b-728d-4d5c-926f-0ad7e81b2a40\" class=\"colab-df-container\">\n",
              "    <div>\n",
              "<style scoped>\n",
              "    .dataframe tbody tr th:only-of-type {\n",
              "        vertical-align: middle;\n",
              "    }\n",
              "\n",
              "    .dataframe tbody tr th {\n",
              "        vertical-align: top;\n",
              "    }\n",
              "\n",
              "    .dataframe thead th {\n",
              "        text-align: right;\n",
              "    }\n",
              "</style>\n",
              "<table border=\"1\" class=\"dataframe\">\n",
              "  <thead>\n",
              "    <tr style=\"text-align: right;\">\n",
              "      <th></th>\n",
              "      <th>Unnamed: 0</th>\n",
              "      <th>text</th>\n",
              "      <th>label</th>\n",
              "    </tr>\n",
              "  </thead>\n",
              "  <tbody>\n",
              "    <tr>\n",
              "      <th>0</th>\n",
              "      <td>0</td>\n",
              "      <td>الشارقة - محمد ولد محمد سالمعرضت مساء أمس الأو...</td>\n",
              "      <td>Culture</td>\n",
              "    </tr>\n",
              "    <tr>\n",
              "      <th>1</th>\n",
              "      <td>1</td>\n",
              "      <td>عبدالحكيم الزبيدي شاعر وقاص وناقد، جاءت نصوصه ...</td>\n",
              "      <td>Culture</td>\n",
              "    </tr>\n",
              "    <tr>\n",
              "      <th>2</th>\n",
              "      <td>2</td>\n",
              "      <td>انطلقت في مثل هذه الأيام من العام الفائت فعالي...</td>\n",
              "      <td>Culture</td>\n",
              "    </tr>\n",
              "    <tr>\n",
              "      <th>3</th>\n",
              "      <td>3</td>\n",
              "      <td>أقيمت مساء أمس الأول في إكسبو الشارقة ندوة حوا...</td>\n",
              "      <td>Culture</td>\n",
              "    </tr>\n",
              "    <tr>\n",
              "      <th>4</th>\n",
              "      <td>4</td>\n",
              "      <td>باسمة يونس حينما قال صاحب السموّ الشيخ الدكتور...</td>\n",
              "      <td>Culture</td>\n",
              "    </tr>\n",
              "    <tr>\n",
              "      <th>5</th>\n",
              "      <td>5</td>\n",
              "      <td>قرر اتحاد الأدباء والكتّاب الموريتانيين عقد مؤ...</td>\n",
              "      <td>Culture</td>\n",
              "    </tr>\n",
              "    <tr>\n",
              "      <th>6</th>\n",
              "      <td>6</td>\n",
              "      <td>تتناول الرواية الإماراتية المرأة ومكانتها في ا...</td>\n",
              "      <td>Culture</td>\n",
              "    </tr>\n",
              "    <tr>\n",
              "      <th>7</th>\n",
              "      <td>7</td>\n",
              "      <td>أعلنت هيئة دبي للثقافة والفنون (دبي للثقافة)، ...</td>\n",
              "      <td>Culture</td>\n",
              "    </tr>\n",
              "    <tr>\n",
              "      <th>8</th>\n",
              "      <td>8</td>\n",
              "      <td>توفي أمس الأديب الإسباني ميجيل ديليبس الذي يعت...</td>\n",
              "      <td>Culture</td>\n",
              "    </tr>\n",
              "    <tr>\n",
              "      <th>9</th>\n",
              "      <td>9</td>\n",
              "      <td>نظم مركز الشارقة للشعر الشعبي في مجلس ضاحية مغ...</td>\n",
              "      <td>Culture</td>\n",
              "    </tr>\n",
              "  </tbody>\n",
              "</table>\n",
              "</div>\n",
              "    <div class=\"colab-df-buttons\">\n",
              "\n",
              "  <div class=\"colab-df-container\">\n",
              "    <button class=\"colab-df-convert\" onclick=\"convertToInteractive('df-5fd6100b-728d-4d5c-926f-0ad7e81b2a40')\"\n",
              "            title=\"Convert this dataframe to an interactive table.\"\n",
              "            style=\"display:none;\">\n",
              "\n",
              "  <svg xmlns=\"http://www.w3.org/2000/svg\" height=\"24px\" viewBox=\"0 -960 960 960\">\n",
              "    <path d=\"M120-120v-720h720v720H120Zm60-500h600v-160H180v160Zm220 220h160v-160H400v160Zm0 220h160v-160H400v160ZM180-400h160v-160H180v160Zm440 0h160v-160H620v160ZM180-180h160v-160H180v160Zm440 0h160v-160H620v160Z\"/>\n",
              "  </svg>\n",
              "    </button>\n",
              "\n",
              "  <style>\n",
              "    .colab-df-container {\n",
              "      display:flex;\n",
              "      gap: 12px;\n",
              "    }\n",
              "\n",
              "    .colab-df-convert {\n",
              "      background-color: #E8F0FE;\n",
              "      border: none;\n",
              "      border-radius: 50%;\n",
              "      cursor: pointer;\n",
              "      display: none;\n",
              "      fill: #1967D2;\n",
              "      height: 32px;\n",
              "      padding: 0 0 0 0;\n",
              "      width: 32px;\n",
              "    }\n",
              "\n",
              "    .colab-df-convert:hover {\n",
              "      background-color: #E2EBFA;\n",
              "      box-shadow: 0px 1px 2px rgba(60, 64, 67, 0.3), 0px 1px 3px 1px rgba(60, 64, 67, 0.15);\n",
              "      fill: #174EA6;\n",
              "    }\n",
              "\n",
              "    .colab-df-buttons div {\n",
              "      margin-bottom: 4px;\n",
              "    }\n",
              "\n",
              "    [theme=dark] .colab-df-convert {\n",
              "      background-color: #3B4455;\n",
              "      fill: #D2E3FC;\n",
              "    }\n",
              "\n",
              "    [theme=dark] .colab-df-convert:hover {\n",
              "      background-color: #434B5C;\n",
              "      box-shadow: 0px 1px 3px 1px rgba(0, 0, 0, 0.15);\n",
              "      filter: drop-shadow(0px 1px 2px rgba(0, 0, 0, 0.3));\n",
              "      fill: #FFFFFF;\n",
              "    }\n",
              "  </style>\n",
              "\n",
              "    <script>\n",
              "      const buttonEl =\n",
              "        document.querySelector('#df-5fd6100b-728d-4d5c-926f-0ad7e81b2a40 button.colab-df-convert');\n",
              "      buttonEl.style.display =\n",
              "        google.colab.kernel.accessAllowed ? 'block' : 'none';\n",
              "\n",
              "      async function convertToInteractive(key) {\n",
              "        const element = document.querySelector('#df-5fd6100b-728d-4d5c-926f-0ad7e81b2a40');\n",
              "        const dataTable =\n",
              "          await google.colab.kernel.invokeFunction('convertToInteractive',\n",
              "                                                    [key], {});\n",
              "        if (!dataTable) return;\n",
              "\n",
              "        const docLinkHtml = 'Like what you see? Visit the ' +\n",
              "          '<a target=\"_blank\" href=https://colab.research.google.com/notebooks/data_table.ipynb>data table notebook</a>'\n",
              "          + ' to learn more about interactive tables.';\n",
              "        element.innerHTML = '';\n",
              "        dataTable['output_type'] = 'display_data';\n",
              "        await google.colab.output.renderOutput(dataTable, element);\n",
              "        const docLink = document.createElement('div');\n",
              "        docLink.innerHTML = docLinkHtml;\n",
              "        element.appendChild(docLink);\n",
              "      }\n",
              "    </script>\n",
              "  </div>\n",
              "\n",
              "\n",
              "<div id=\"df-dd5691ed-5947-45fa-a565-4c6d7470c1f0\">\n",
              "  <button class=\"colab-df-quickchart\" onclick=\"quickchart('df-dd5691ed-5947-45fa-a565-4c6d7470c1f0')\"\n",
              "            title=\"Suggest charts\"\n",
              "            style=\"display:none;\">\n",
              "\n",
              "<svg xmlns=\"http://www.w3.org/2000/svg\" height=\"24px\"viewBox=\"0 0 24 24\"\n",
              "     width=\"24px\">\n",
              "    <g>\n",
              "        <path d=\"M19 3H5c-1.1 0-2 .9-2 2v14c0 1.1.9 2 2 2h14c1.1 0 2-.9 2-2V5c0-1.1-.9-2-2-2zM9 17H7v-7h2v7zm4 0h-2V7h2v10zm4 0h-2v-4h2v4z\"/>\n",
              "    </g>\n",
              "</svg>\n",
              "  </button>\n",
              "\n",
              "<style>\n",
              "  .colab-df-quickchart {\n",
              "      --bg-color: #E8F0FE;\n",
              "      --fill-color: #1967D2;\n",
              "      --hover-bg-color: #E2EBFA;\n",
              "      --hover-fill-color: #174EA6;\n",
              "      --disabled-fill-color: #AAA;\n",
              "      --disabled-bg-color: #DDD;\n",
              "  }\n",
              "\n",
              "  [theme=dark] .colab-df-quickchart {\n",
              "      --bg-color: #3B4455;\n",
              "      --fill-color: #D2E3FC;\n",
              "      --hover-bg-color: #434B5C;\n",
              "      --hover-fill-color: #FFFFFF;\n",
              "      --disabled-bg-color: #3B4455;\n",
              "      --disabled-fill-color: #666;\n",
              "  }\n",
              "\n",
              "  .colab-df-quickchart {\n",
              "    background-color: var(--bg-color);\n",
              "    border: none;\n",
              "    border-radius: 50%;\n",
              "    cursor: pointer;\n",
              "    display: none;\n",
              "    fill: var(--fill-color);\n",
              "    height: 32px;\n",
              "    padding: 0;\n",
              "    width: 32px;\n",
              "  }\n",
              "\n",
              "  .colab-df-quickchart:hover {\n",
              "    background-color: var(--hover-bg-color);\n",
              "    box-shadow: 0 1px 2px rgba(60, 64, 67, 0.3), 0 1px 3px 1px rgba(60, 64, 67, 0.15);\n",
              "    fill: var(--button-hover-fill-color);\n",
              "  }\n",
              "\n",
              "  .colab-df-quickchart-complete:disabled,\n",
              "  .colab-df-quickchart-complete:disabled:hover {\n",
              "    background-color: var(--disabled-bg-color);\n",
              "    fill: var(--disabled-fill-color);\n",
              "    box-shadow: none;\n",
              "  }\n",
              "\n",
              "  .colab-df-spinner {\n",
              "    border: 2px solid var(--fill-color);\n",
              "    border-color: transparent;\n",
              "    border-bottom-color: var(--fill-color);\n",
              "    animation:\n",
              "      spin 1s steps(1) infinite;\n",
              "  }\n",
              "\n",
              "  @keyframes spin {\n",
              "    0% {\n",
              "      border-color: transparent;\n",
              "      border-bottom-color: var(--fill-color);\n",
              "      border-left-color: var(--fill-color);\n",
              "    }\n",
              "    20% {\n",
              "      border-color: transparent;\n",
              "      border-left-color: var(--fill-color);\n",
              "      border-top-color: var(--fill-color);\n",
              "    }\n",
              "    30% {\n",
              "      border-color: transparent;\n",
              "      border-left-color: var(--fill-color);\n",
              "      border-top-color: var(--fill-color);\n",
              "      border-right-color: var(--fill-color);\n",
              "    }\n",
              "    40% {\n",
              "      border-color: transparent;\n",
              "      border-right-color: var(--fill-color);\n",
              "      border-top-color: var(--fill-color);\n",
              "    }\n",
              "    60% {\n",
              "      border-color: transparent;\n",
              "      border-right-color: var(--fill-color);\n",
              "    }\n",
              "    80% {\n",
              "      border-color: transparent;\n",
              "      border-right-color: var(--fill-color);\n",
              "      border-bottom-color: var(--fill-color);\n",
              "    }\n",
              "    90% {\n",
              "      border-color: transparent;\n",
              "      border-bottom-color: var(--fill-color);\n",
              "    }\n",
              "  }\n",
              "</style>\n",
              "\n",
              "  <script>\n",
              "    async function quickchart(key) {\n",
              "      const quickchartButtonEl =\n",
              "        document.querySelector('#' + key + ' button');\n",
              "      quickchartButtonEl.disabled = true;  // To prevent multiple clicks.\n",
              "      quickchartButtonEl.classList.add('colab-df-spinner');\n",
              "      try {\n",
              "        const charts = await google.colab.kernel.invokeFunction(\n",
              "            'suggestCharts', [key], {});\n",
              "      } catch (error) {\n",
              "        console.error('Error during call to suggestCharts:', error);\n",
              "      }\n",
              "      quickchartButtonEl.classList.remove('colab-df-spinner');\n",
              "      quickchartButtonEl.classList.add('colab-df-quickchart-complete');\n",
              "    }\n",
              "    (() => {\n",
              "      let quickchartButtonEl =\n",
              "        document.querySelector('#df-dd5691ed-5947-45fa-a565-4c6d7470c1f0 button');\n",
              "      quickchartButtonEl.style.display =\n",
              "        google.colab.kernel.accessAllowed ? 'block' : 'none';\n",
              "    })();\n",
              "  </script>\n",
              "</div>\n",
              "\n",
              "    </div>\n",
              "  </div>\n"
            ],
            "application/vnd.google.colaboratory.intrinsic+json": {
              "type": "dataframe",
              "variable_name": "df",
              "summary": "{\n  \"name\": \"df\",\n  \"rows\": 15000,\n  \"fields\": [\n    {\n      \"column\": \"Unnamed: 0\",\n      \"properties\": {\n        \"dtype\": \"number\",\n        \"std\": 4330,\n        \"min\": 0,\n        \"max\": 14999,\n        \"num_unique_values\": 15000,\n        \"samples\": [\n          11499,\n          6475,\n          13167\n        ],\n        \"semantic_type\": \"\",\n        \"description\": \"\"\n      }\n    },\n    {\n      \"column\": \"text\",\n      \"properties\": {\n        \"dtype\": \"string\",\n        \"num_unique_values\": 14994,\n        \"samples\": [\n          \"\\u0646\\u0638\\u0645\\u062a \\u0645\\u0624\\u0633\\u0633\\u0629 \\u062d\\u0643\\u0648\\u0645\\u0629 \\u062f\\u0628\\u064a \\u0627\\u0644\\u0630\\u0643\\u064a\\u0629 \\u0628\\u0627\\u0644\\u062a\\u0639\\u0627\\u0648\\u0646 \\u0645\\u0639 \\u0647\\u064a\\u0626\\u0629 \\u062a\\u0646\\u0645\\u064a\\u0629 \\u0627\\u0644\\u0645\\u062c\\u062a\\u0645\\u0639\\u060c \\u0648\\u0631\\u0634\\u0629 \\u0639\\u0645\\u0644 \\u062a\\u0636\\u0645\\u0646\\u062a \\u062c\\u0644\\u0633\\u0627\\u062a \\u062d\\u0648\\u0627\\u0631\\u064a\\u0629 \\u062d\\u0648\\u0644 \\u0627\\u0644\\u0645\\u0639\\u0627\\u064a\\u064a\\u0631 \\u0627\\u0644\\u062a\\u064a \\u062a\\u0644\\u0628\\u064a \\u0627\\u062d\\u062a\\u064a\\u0627\\u062c\\u0627\\u062a \\u0648\\u0645\\u062a\\u0637\\u0644\\u0628\\u0627\\u062a \\u0623\\u0635\\u062d\\u0627\\u0628 \\u0627\\u0644\\u0647\\u0645\\u0645 \\u0645\\u0646 \\u0627\\u0644\\u0645\\u0648\\u0627\\u0642\\u0639 \\u0627\\u0644\\u0625\\u0644\\u0643\\u062a\\u0631\\u0648\\u0646\\u064a\\u0629 \\u0648\\u0627\\u0644\\u062a\\u0637\\u0628\\u064a\\u0642\\u0627\\u062a \\u0627\\u0644\\u0630\\u0643\\u064a\\u0629 \\u0627\\u0644\\u062a\\u0627\\u0628\\u0639\\u0629 \\u0644\\u062c\\u0647\\u0627\\u062a \\u0648\\u0645\\u0624\\u0633\\u0633\\u0627\\u062a \\u0627\\u0644\\u0642\\u0637\\u0627\\u0639 \\u0627\\u0644\\u062e\\u0627\\u0635 \\u0641\\u064a \\u062f\\u0628\\u064a\\u060c \\u0633\\u0639\\u064a\\u0627\\u064b \\u0646\\u062d\\u0648 \\u062a\\u0637\\u0648\\u064a\\u0631\\u0647\\u0627 \\u0644\\u062a\\u0643\\u0648\\u0646 \\u0635\\u062f\\u064a\\u0642\\u0629 \\u0644\\u0647\\u0645 \\u0648\\u0642\\u0627\\u062f\\u0631\\u0629 \\u0639\\u0644\\u0649 \\u062a\\u0648\\u0641\\u064a\\u0631 \\u062a\\u062c\\u0627\\u0631\\u0628 \\u0633\\u0639\\u064a\\u062f\\u0629 \\u062a\\u0644\\u0628\\u064a \\u0627\\u062d\\u062a\\u064a\\u0627\\u062c\\u0627\\u062a\\u0647\\u0645. \\u0648\\u0623\\u062a\\u062a \\u0647\\u0630\\u0647 \\u0627\\u0644\\u062c\\u0644\\u0633\\u0627\\u062a \\u0627\\u0644\\u062d\\u0648\\u0627\\u0631\\u064a\\u0629 \\u0627\\u0644\\u062a\\u064a \\u062a\\u0636\\u0645 \\u0641\\u0626\\u0627\\u062a \\u0645\\u062e\\u062a\\u0627\\u0631\\u0629 \\u0645\\u0646 \\u0623\\u0635\\u062d\\u0627\\u0628 \\u0627\\u0644\\u0647\\u0645\\u0645 \\u0643\\u0645\\u0631\\u062d\\u0644\\u0629 \\u0623\\u0648\\u0644\\u0649 \\u0645\\u0646 \\u0645\\u0628\\u0627\\u062f\\u0631\\u0629 \\u0646\\u0648\\u0639\\u064a\\u0629 \\u0648\\u0634\\u0627\\u0645\\u0644\\u0629\\u060c \\u0628\\u0647\\u062f\\u0641 \\u062a\\u0648\\u062c\\u064a\\u0647 \\u0645\\u0624\\u0633\\u0633\\u0627\\u062a \\u0627\\u0644\\u0642\\u0637\\u0627\\u0639 \\u0627\\u0644\\u062e\\u0627\\u0635 \\u0627\\u0644\\u0639\\u0627\\u0645\\u0644\\u0629 \\u0641\\u064a \\u0625\\u0645\\u0627\\u0631\\u0629 \\u062f\\u0628\\u064a \\u0644\\u062a\\u0623\\u0647\\u064a\\u0644 \\u0645\\u0648\\u0627\\u0642\\u0639\\u0647\\u0627 \\u0627\\u0644\\u0625\\u0644\\u0643\\u062a\\u0631\\u0648\\u0646\\u064a\\u0629 \\u0648\\u062a\\u0637\\u0628\\u064a\\u0642\\u0627\\u062a\\u0647\\u0627 \\u0627\\u0644\\u0630\\u0643\\u064a\\u0629 \\u0644\\u062a\\u0635\\u0628\\u062d \\u0645\\u062a\\u0637\\u0627\\u0628\\u0642\\u0629 \\u0645\\u0639 \\u0627\\u0644\\u0645\\u0639\\u0627\\u064a\\u064a\\u0631 \\u0627\\u0644\\u0642\\u064a\\u0627\\u0633\\u064a\\u0629 \\u0644\\u0625\\u0645\\u0643\\u0627\\u0646\\u064a\\u0629 \\u0648\\u0635\\u0648\\u0644 \\u0648\\u0627\\u0633\\u062a\\u062e\\u062f\\u0627\\u0645 \\u0623\\u0635\\u062d\\u0627\\u0628 \\u0627\\u0644\\u0647\\u0645\\u0645\\u060c \\u0648\\u0644\\u062a\\u062a\\u064a\\u062d \\u0644\\u0647\\u0645 \\u0625\\u0645\\u0643\\u0627\\u0646 \\u0627\\u0644\\u0648\\u0635\\u0648\\u0644 \\u0628\\u0643\\u0644 \\u0633\\u0647\\u0648\\u0644\\u0629 \\u0648\\u0633\\u0644\\u0627\\u0633\\u0629. \\u0648\\u062a\\u0645 \\u062e\\u0644\\u0627\\u0644 \\u0627\\u0644\\u062c\\u0644\\u0633\\u0627\\u062a \\u0625\\u0634\\u0631\\u0627\\u0643 \\u0623\\u0635\\u062d\\u0627\\u0628 \\u0627\\u0644\\u0647\\u0645\\u0645 \\u0641\\u064a \\u062a\\u062d\\u062f\\u064a\\u062f \\u0625\\u0631\\u0634\\u0627\\u062f\\u0627\\u062a \\u0627\\u0644\\u062a\\u0635\\u0645\\u064a\\u0645 \\u0627\\u0644\\u0645\\u064f\\u062a\\u0639\\u0644\\u0642\\u0629 \\u0628\\u0648\\u0627\\u062c\\u0647\\u0629 \\u0627\\u0644\\u062a\\u0637\\u0628\\u064a\\u0642\\u0627\\u062a \\u0627\\u0644\\u0630\\u0643\\u064a\\u0629 \\u0648\\u0627\\u0644\\u0645\\u0648\\u0627\\u0642\\u0639 \\u0627\\u0644\\u0625\\u0644\\u0643\\u062a\\u0631\\u0648\\u0646\\u064a\\u0629\\u060c \\u0648\\u0627\\u0644\\u0623\\u0644\\u0648\\u0627\\u0646 \\u0627\\u0644\\u0645\\u0631\\u064a\\u062d\\u0629 \\u0627\\u0644\\u0645\\u0641\\u0636\\u0644\\u0629 \\u0644\\u062f\\u064a\\u0647\\u0645. \\u0648\\u0623\\u0643\\u062f\\u062a \\u0627\\u0644\\u062f\\u0643\\u062a\\u0648\\u0631\\u0629 \\u0639\\u0627\\u0626\\u0634\\u0629 \\u0628\\u0646\\u062a \\u0628\\u0637\\u064a \\u0628\\u0646 \\u0628\\u0634\\u0631\\u060c \\u0645\\u062f\\u064a\\u0631 \\u0639\\u0627\\u0645 \\u0645\\u0643\\u062a\\u0628 \\u062f\\u0628\\u064a \\u0627\\u0644\\u0630\\u0643\\u064a\\u0629 \\u0636\\u0631\\u0648\\u0631\\u0629 \\u062a\\u0636\\u0627\\u0641\\u0631 \\u0627\\u0644\\u062c\\u0647\\u0648\\u062f \\u0628\\u064a\\u0646 \\u062c\\u0645\\u064a\\u0639 \\u0627\\u0644\\u062c\\u0647\\u0627\\u062a \\u0627\\u0644\\u062d\\u0643\\u0648\\u0645\\u064a\\u0629 \\u0648\\u0627\\u0644\\u062e\\u0627\\u0635\\u0629 \\u0641\\u064a \\u062f\\u0628\\u064a\\u060c \\u0648\\u0627\\u0644\\u0639\\u0645\\u0644 \\u0627\\u0644\\u062f\\u0624\\u0648\\u0628 \\u0648\\u0627\\u0644\\u062a\\u0631\\u0643\\u064a\\u0632 \\u0639\\u0644\\u0649 \\u062a\\u0646\\u0641\\u064a\\u0630 \\u062c\\u0645\\u064a\\u0639 \\u0627\\u0644\\u0645\\u0628\\u0627\\u062f\\u0631\\u0627\\u062a. \\u0648\\u0642\\u0627\\u0644 \\u0648\\u0633\\u0627\\u0645 \\u0644\\u0648\\u062a\\u0627\\u0647\\u060c \\u0627\\u0644\\u0645\\u062f\\u064a\\u0631 \\u0627\\u0644\\u062a\\u0646\\u0641\\u064a\\u0630\\u064a \\u0644\\u0645\\u0624\\u0633\\u0633\\u0629 \\u062d\\u0643\\u0648\\u0645\\u0629 \\u062f\\u0628\\u064a \\u0627\\u0644\\u0630\\u0643\\u064a\\u0629: \\u0625\\u0646 \\u0639\\u0645\\u0644\\u064a\\u0629 \\u062a\\u0623\\u0647\\u064a\\u0644 \\u0627\\u0644\\u0645\\u0648\\u0627\\u0642\\u0639 \\u0627\\u0644\\u0625\\u0644\\u0643\\u062a\\u0631\\u0648\\u0646\\u064a\\u0629 \\u0648\\u0627\\u0644\\u062a\\u0637\\u0628\\u064a\\u0642\\u0627\\u062a \\u0627\\u0644\\u0630\\u0643\\u064a\\u0629 \\u0641\\u064a \\u062c\\u0647\\u0627\\u062a \\u0627\\u0644\\u0642\\u0637\\u0627\\u0639 \\u0627\\u0644\\u062e\\u0627\\u0635 \\u0628\\u062f\\u0628\\u064a\\u060c \\u062a\\u0623\\u062a\\u064a \\u0641\\u064a \\u0625\\u0637\\u0627\\u0631 \\u062c\\u0647\\u0648\\u062f \\u00ab\\u062f\\u0628\\u064a \\u0627\\u0644\\u0630\\u0643\\u064a\\u0629\\u00bb \\u0627\\u0644\\u0647\\u0627\\u062f\\u0641\\u0629 \\u0625\\u0644\\u0649 \\u062a\\u062d\\u0648\\u064a\\u0644 \\u062f\\u0628\\u064a \\u0628\\u0627\\u0644\\u0643\\u0627\\u0645\\u0644 \\u0625\\u0644\\u0649 \\u0645\\u062f\\u064a\\u0646\\u0629 \\u0635\\u062f\\u064a\\u0642\\u0629 \\u0644\\u0623\\u0635\\u062d\\u0627\\u0628 \\u0627\\u0644\\u0647\\u0645\\u0645 \\u0628\\u062d\\u0644\\u0648\\u0644 \\u0639\\u0627\\u0645 2020. \\u0645\\u0646 \\u062c\\u0647\\u062a\\u0647 \\u0623\\u0643\\u062f \\u0623\\u062d\\u0645\\u062f \\u0639\\u0628\\u062f \\u0627\\u0644\\u0643\\u0631\\u064a\\u0645 \\u062c\\u0644\\u0641\\u0627\\u0631\\u060c \\u0645\\u062f\\u064a\\u0631 \\u0639\\u0627\\u0645 \\u0647\\u064a\\u0626\\u0629 \\u062a\\u0646\\u0645\\u064a\\u0629 \\u0627\\u0644\\u0645\\u062c\\u062a\\u0645\\u0639 \\u0636\\u0631\\u0648\\u0631\\u0629 \\u062a\\u0648\\u0641\\u064a\\u0631 \\u0628\\u064a\\u0626\\u0629 \\u062f\\u0627\\u0645\\u062c\\u0629 \\u0648\\u0645\\u0645\\u0643\\u0646\\u0629 \\u0644\\u0623\\u0635\\u062d\\u0627\\u0628 \\u0627\\u0644\\u0647\\u0645\\u0645 \\u062a\\u062a\\u064a\\u062d \\u0644\\u0647\\u0645 \\u0627\\u0644\\u0648\\u0635\\u0648\\u0644 \\u0627\\u0644\\u0643\\u0627\\u0645\\u0644 \\u0644\\u0643\\u0627\\u0641\\u0629 \\u062d\\u0642\\u0648\\u0642\\u0647\\u0645\\u060c \\u0644\\u0627\\u0641\\u062a\\u0627\\u064b \\u0625\\u0644\\u0649 \\u0623\\u0646 \\u0627\\u0644\\u062a\\u062d\\u0648\\u0644 \\u0627\\u0644\\u0630\\u0643\\u064a \\u0627\\u0644\\u0630\\u064a \\u062a\\u0634\\u0647\\u062f\\u0647 \\u062d\\u0643\\u0648\\u0645\\u0629 \\u062f\\u0628\\u064a \\u0628\\u062c\\u0645\\u064a\\u0639 \\u062e\\u062f\\u0645\\u0627\\u062a\\u0647\\u0627 \\u0645\\u0646 \\u0634\\u0623\\u0646\\u0647 \\u0623\\u0646 \\u064a\\u062a\\u064a\\u062d \\u0633\\u0647\\u0648\\u0644\\u0629 \\u0623\\u0643\\u0628\\u0631 \\u0641\\u064a \\u0645\\u0648\\u0627\\u0621\\u0645\\u0629 \\u0627\\u0644\\u062e\\u062f\\u0645\\u0627\\u062a \\u0644\\u0627\\u062d\\u062a\\u064a\\u0627\\u062c\\u0627\\u062a \\u0623\\u0635\\u062d\\u0627\\u0628 \\u0627\\u0644\\u0647\\u0645\\u0645.\",\n          \"\\u062d\\u0648\\u0627\\u0631: \\u0646\\u062c\\u0627\\u0629 \\u0627\\u0644\\u0641\\u0627\\u0631\\u0633 \\u0645\\u062d\\u0645\\u062f \\u0627\\u0644\\u062d\\u0645\\u0627\\u062f\\u064a \\u0643\\u0627\\u062a\\u0628 \\u0625\\u0645\\u0627\\u0631\\u0627\\u062a\\u064a \\u0641\\u0627\\u0632 \\u0628\\u0627\\u0644\\u0645\\u0631\\u0643\\u0632 \\u0627\\u0644\\u062b\\u0627\\u0644\\u062b \\u0628\\u062c\\u0627\\u0626\\u0632\\u0629 \\u0627\\u0644\\u0625\\u0645\\u0627\\u0631\\u0627\\u062a \\u0644\\u0644\\u0631\\u0648\\u0627\\u064a\\u0629 \\u0641\\u064a \\u062f\\u0648\\u0631\\u062a\\u0647\\u0627 \\u0627\\u0644\\u062b\\u0627\\u0644\\u062b\\u0629 \\u0639\\u0646 \\u0631\\u0648\\u0627\\u064a\\u062a\\u0647 \\u00ab\\u0627\\u0644\\u0628\\u062d\\u062b \\u0639\\u0646 \\u0645\\u0645\\u0644\\u0643\\u0629 \\u0627\\u0644\\u0634\\u0645\\u0633\\u00bb\\u060c \\u0643\\u0645\\u0627 \\u0641\\u0627\\u0632\\u062a \\u0631\\u0648\\u0627\\u064a\\u062a\\u0647 \\u00ab\\u0627\\u0644\\u064a\\u0648\\u0645 \\u0627\\u0644\\u0623\\u062e\\u064a\\u0631.. \\u064a\\u0648\\u0645\\u064a\\u0627\\u062a \\u0627\\u0644\\u0628\\u0631\\u0648\\u0641\\u064a\\u0633\\u0648\\u0631 \\u0645\\u0627\\u0643 \\u0622\\u064a\\u062f\\u064a\\u00bb\\u060c \\u0628\\u0627\\u0644\\u0645\\u0631\\u0643\\u0632 \\u0627\\u0644\\u0623\\u0648\\u0644 \\u0641\\u064a \\u0627\\u0644\\u062f\\u0648\\u0631\\u0629 \\u0627\\u0644\\u062b\\u0627\\u0646\\u064a\\u0629 \\u0644\\u062c\\u0627\\u0626\\u0632\\u0629 \\u0627\\u0644\\u0625\\u0645\\u0627\\u0631\\u0627\\u062a \\u0644\\u0644\\u0631\\u0648\\u0627\\u064a\\u0629 \\u0641\\u0626\\u0629 \\u0627\\u0644\\u0631\\u0648\\u0627\\u064a\\u0629 \\u0627\\u0644\\u0637\\u0648\\u064a\\u0644\\u0629\\u060c \\u062a\\u0633\\u062a\\u0647\\u0648\\u064a\\u0647 \\u0643\\u062a\\u0628 \\u0627\\u0644\\u0639\\u0644\\u0648\\u0645 \\u0643\\u0627\\u0644\\u0630\\u0631\\u0651\\u0629 \\u0648\\u0627\\u0644\\u0641\\u064a\\u0632\\u064a\\u0627\\u0621 \\u0648\\u0627\\u0644\\u0643\\u064a\\u0645\\u064a\\u0627\\u0621\\u060c \\u0625\\u0636\\u0627\\u0641\\u0629 \\u0625\\u0644\\u0649 \\u0627\\u0644\\u062a\\u0627\\u0631\\u064a\\u062e \\u0648\\u0627\\u0644\\u0633\\u064a\\u0631 \\u0627\\u0644\\u0630\\u0627\\u062a\\u064a\\u0629\\u060c \\u064a\\u0639\\u0645\\u0644 \\u062d\\u0627\\u0644\\u064a\\u0627\\u064b \\u0639\\u0644\\u0649 \\u0643\\u062a\\u0627\\u0628\\u0629 \\u0631\\u0648\\u0627\\u064a\\u0629 \\u062a\\u0627\\u0631\\u064a\\u062e\\u064a\\u0629 \\u062a\\u062d\\u062a \\u0639\\u0646\\u0648\\u0627\\u0646 \\u00ab\\u0627\\u0644\\u0646\\u062e\\u0644\\u0629\\u00bb \\u062a\\u062f\\u0648\\u0631 \\u0623\\u062d\\u062f\\u0627\\u062b\\u0647\\u0627 \\u0641\\u064a \\u0645\\u0635\\u0631 \\u0627\\u0644\\u0641\\u0631\\u0639\\u0648\\u0646\\u064a\\u0629 \\u0648\\u0627\\u0644\\u0628\\u062a\\u0631\\u0627\\u0621\\u060c \\u0648\\u0631\\u0648\\u0627\\u064a\\u0629 \\u0623\\u062e\\u0631\\u0649 \\u0628\\u0639\\u0646\\u0648\\u0627\\u0646 \\u00ab\\u0644\\u063a\\u0632 \\u0635\\u0648\\u0631\\u0629 \\u0645\\u0646 \\u0627\\u0644\\u0643\\u0648\\u0643\\u0628 \\u0627\\u0644\\u0623\\u062d\\u0645\\u0631\\u00bb\\u060c \\u0648\\u0647\\u064a \\u062c\\u0631\\u064a\\u0645\\u0629 \\u0645\\u0645\\u0632\\u0648\\u062c\\u0629 \\u0628\\u0627\\u0644\\u062e\\u064a\\u0627\\u0644 \\u0627\\u0644\\u0639\\u0644\\u0645\\u064a\\u060c \\u0643\\u062a\\u0628\\u0647\\u0627 \\u062a\\u0632\\u0627\\u0645\\u0646\\u0627\\u064b \\u0645\\u0639 \\u0627\\u0647\\u062a\\u0645\\u0627\\u0645 \\u0627\\u0644\\u0625\\u0645\\u0627\\u0631\\u0627\\u062a \\u0645\\u0624\\u062e\\u0631\\u0627\\u064b \\u0628\\u0627\\u0644\\u0641\\u0636\\u0627\\u0621 \\u0648\\u0643\\u0648\\u0643\\u0628 \\u0627\\u0644\\u0645\\u0631\\u064a\\u062e \\u062a\\u062d\\u062f\\u064a\\u062f\\u0627\\u064b\\u060c \\u0644\\u064a\\u0642\\u0631\\u0628 \\u0635\\u0648\\u0631\\u0629 \\u0627\\u0644\\u0645\\u0631\\u064a\\u062e \\u0648\\u0623\\u062c\\u0648\\u0627\\u0621\\u0647 \\u0644\\u0644\\u0642\\u0627\\u0631\\u0626 \\u0627\\u0644\\u0625\\u0645\\u0627\\u0631\\u0627\\u062a\\u064a \\u0648\\u0627\\u0644\\u0639\\u0631\\u0628\\u064a. \\u0648\\u0643\\u0627\\u0646 \\u0644\\u0640\\u00ab\\u0627\\u0644\\u062e\\u0644\\u064a\\u062c\\u00bb \\u0627\\u0644\\u062d\\u0648\\u0627\\u0631 \\u0627\\u0644\\u0622\\u062a\\u064a \\u0645\\u0639\\u0647: *\\u0643\\u064a\\u0641 \\u0648\\u0645\\u062a\\u0649 \\u0628\\u062f\\u0623\\u062a \\u0631\\u062d\\u0644\\u062a\\u0643 \\u0645\\u0639 \\u0627\\u0644\\u0643\\u062a\\u0627\\u0628\\u0629\\u061f- \\u0628\\u062f\\u0623\\u062a \\u0627\\u0644\\u0643\\u062a\\u0627\\u0628\\u0629 \\u0628\\u0631\\u0648\\u0627\\u064a\\u0629 \\u00ab\\u0627\\u0644\\u064a\\u0648\\u0645 \\u0627\\u0644\\u0623\\u062e\\u064a\\u0631\\u00bb \\u0648\\u0643\\u0627\\u0646\\u062a \\u062a\\u062c\\u0631\\u0628\\u062a\\u064a \\u0627\\u0644\\u0623\\u0648\\u0644\\u0649\\u060c \\u0648\\u0628\\u0639\\u062f \\u0641\\u0631\\u0627\\u063a\\u064a \\u0645\\u0646\\u0647\\u0627 \\u0628\\u0642\\u064a\\u062a \\u0627\\u0644\\u0631\\u0648\\u0627\\u064a\\u0629 \\u0641\\u0648\\u0642 \\u0627\\u0644\\u0631\\u0641 \\u0644\\u0633\\u0646\\u062a\\u064a\\u0646 \\u0625\\u0644\\u0649 \\u0623\\u0646 \\u0634\\u0627\\u0647\\u062f\\u062a \\u0639\\u0631\\u0636 \\u062c\\u0627\\u0626\\u0632\\u0629 \\u0627\\u0644\\u0625\\u0645\\u0627\\u0631\\u0627\\u062a \\u0644\\u0644\\u0631\\u0648\\u0627\\u064a\\u0629 \\u0641\\u064a \\u0645\\u0639\\u0631\\u0636 \\u0627\\u0644\\u0634\\u0627\\u0631\\u0642\\u0629 \\u0627\\u0644\\u062f\\u0648\\u0644\\u064a \\u0644\\u0644\\u0643\\u062a\\u0627\\u0628\\u060c \\u0648\\u0647\\u0646\\u0627\\u0643 \\u0642\\u0631\\u0631\\u062a \\u0625\\u0631\\u0633\\u0627\\u0644\\u0647\\u0627\\u060c \\u0648\\u0644\\u0645 \\u0623\\u062a\\u0648\\u0642\\u0639 \\u0627\\u0644\\u0641\\u0648\\u0632 \\u0625\\u0637\\u0644\\u0627\\u0642\\u0627\\u060c \\u0643\\u0646\\u062a \\u0645\\u062a\\u0634\\u0627\\u0626\\u0645\\u0627\\u064b \\u0628\\u0639\\u0636 \\u0627\\u0644\\u0634\\u064a\\u0621\\u060c \\u0644\\u0643\\u0646 \\u0641\\u0648\\u0632\\u0647\\u0627 \\u062f\\u0648\\u0646 \\u0645\\u0646\\u0627\\u0641\\u0633 \\u0645\\u0646\\u062d\\u0646\\u064a \\u0637\\u0627\\u0642\\u0629 \\u0644\\u0644\\u0625\\u0628\\u062f\\u0627\\u0639 \\u0623\\u0643\\u062b\\u0631\\u060c \\u0648\\u0639\\u0646\\u062f\\u0647\\u0627 \\u0643\\u062a\\u0628\\u062a \\u0631\\u0648\\u0627\\u064a\\u062a\\u064a \\u0627\\u0644\\u062b\\u0627\\u0646\\u064a\\u0629 \\u00ab\\u0628\\u0648\\u0646\\u063a\\u0627\\u0646\\u064a \\u0627\\u0644\\u0634\\u0627\\u0641\\u064a.. \\u062d\\u0643\\u0627\\u064a\\u0629 \\u0623\\u0645 \\u0625\\u0641\\u0631\\u064a\\u0642\\u064a\\u0629\\u00bb\\u060c \\u0648\\u0623\\u0639\\u062a\\u0628\\u0631\\u0647\\u0627 \\u0627\\u0644\\u0631\\u0648\\u0627\\u064a\\u0629 \\u0627\\u0644\\u0623\\u0642\\u0631\\u0628 \\u0625\\u0644\\u0649 \\u0642\\u0644\\u0628\\u064a\\u060c \\u0648\\u062a\\u0644\\u0642\\u0641\\u062a \\u0627\\u0644\\u0639\\u0645\\u0644 \\u062f\\u0627\\u0631 \\u0646\\u0634\\u0631 \\u00ab\\u0631\\u0648\\u0627\\u064a\\u0627\\u062a\\u00bb \\u0648\\u0644\\u0642\\u064a\\u062a \\u0627\\u0644\\u0631\\u0648\\u0627\\u064a\\u0629 \\u0646\\u062c\\u0627\\u062d\\u0627\\u064b \\u0637\\u064a\\u0628\\u0627\\u064b. *\\u0645\\u0627\\u0630\\u0627 \\u0639\\u0646 \\u0645\\u0634\\u0631\\u0648\\u0639\\u0643 \\u0627\\u0644\\u0623\\u062f\\u0628\\u064a \\u0627\\u0644\\u0642\\u0627\\u062f\\u0645\\u061f- \\u0645\\u0624\\u062e\\u0631\\u0627\\u064b \\u0628\\u062f\\u0623\\u062a \\u0628\\u0643\\u062a\\u0627\\u0628\\u0629 \\u0631\\u0648\\u0627\\u064a\\u0629 \\u062a\\u0627\\u0631\\u064a\\u062e\\u064a\\u0629 \\u062a\\u062d\\u062a \\u0639\\u0646\\u0648\\u0627\\u0646 \\u00ab\\u0627\\u0644\\u0646\\u062e\\u0644\\u0629\\u00bb \\u062a\\u062f\\u0648\\u0631 \\u0623\\u062d\\u062f\\u0627\\u062b\\u0647\\u0627 \\u0641\\u064a \\u0645\\u0635\\u0631 \\u0627\\u0644\\u0641\\u0631\\u0639\\u0648\\u0646\\u064a\\u0629 \\u0648\\u0627\\u0644\\u0628\\u062a\\u0631\\u0627\\u0621\\u060c \\u0641\\u064a \\u0627\\u0644\\u0623\\u0632\\u0645\\u0646\\u0629 \\u0627\\u0644\\u063a\\u0627\\u0628\\u0631\\u0629 \\u062d\\u064a\\u062b \\u062d\\u062f\\u062b\\u062a \\u0645\\u062c\\u0627\\u0639\\u0629 \\u0643\\u0628\\u0631\\u0649 \\u062f\\u0627\\u0631\\u062a \\u0628\\u0639\\u062f\\u0647\\u0627 \\u062d\\u0631\\u0648\\u0628 \\u0637\\u0627\\u062d\\u0646\\u0629\\u060c \\u062a\\u0642\\u0648\\u062f \\u0623\\u062d\\u062f\\u0627\\u062b \\u0627\\u0644\\u0631\\u0648\\u0627\\u064a\\u0629 \\u0628\\u0637\\u0644\\u062a\\u064a\\u0647\\u0627 \\u062a\\u0648\\u064a\\u0627 \\u0648\\u0623\\u062e\\u062a\\u0647\\u0627 \\u0628\\u0627\\u062a\\u0648\\u064a\\u0627 \\u0625\\u0644\\u0627 \\u0623\\u0646\\u0646\\u064a \\u062a\\u0648\\u0642\\u0641\\u062a \\u0639\\u0646 \\u0643\\u062a\\u0627\\u0628\\u062a\\u0647\\u0627 \\u0644\\u0623\\u0646\\u0646\\u064a \\u0623\\u0646\\u0634\\u0623\\u062a \\u062d\\u0633\\u0627\\u0628\\u0627\\u064b \\u0641\\u064a \\u0623\\u062d\\u062f \\u0645\\u0648\\u0627\\u0642\\u0639 \\u0627\\u0644\\u062a\\u0648\\u0627\\u0635\\u0644 \\u0627\\u0644\\u0627\\u062c\\u062a\\u0645\\u0627\\u0639\\u064a\\u060c \\u0648\\u0627\\u0646\\u0634\\u063a\\u0644\\u062a \\u0628\\u0625\\u0639\\u062f\\u0627\\u062f\\u0647 \\u0648\\u062a\\u062c\\u0647\\u064a\\u0632\\u0647 \\u0641\\u0623\\u062e\\u0630 \\u0645\\u0646\\u064a \\u0623\\u063a\\u0644\\u0628 \\u0648\\u0642\\u062a \\u0641\\u0631\\u0627\\u063a\\u064a\\u060c \\u0648\\u0623\\u0638\\u0646 \\u0623\\u0646\\u0646\\u064a \\u0633\\u0623\\u062a\\u0627\\u0628\\u0639 \\u0643\\u062a\\u0627\\u0628\\u062a\\u0647\\u0627 \\u0641\\u064a \\u0648\\u0642\\u062a \\u0644\\u0627\\u062d\\u0642 \\u0644\\u0627 \\u0623\\u0633\\u062a\\u0637\\u064a\\u0639 \\u062a\\u062d\\u062f\\u064a\\u062f\\u0647. *\\u0643\\u064a\\u0641 \\u062a\\u062e\\u062a\\u0627\\u0631 \\u0623\\u0628\\u0637\\u0627\\u0644 \\u0623\\u0639\\u0645\\u0627\\u0644\\u0643 \\u0627\\u0644\\u0623\\u062f\\u0628\\u064a\\u0629\\u061f- \\u0623\\u062e\\u062a\\u0627\\u0631 \\u0623\\u0628\\u0637\\u0627\\u0644 \\u0631\\u0648\\u0627\\u064a\\u0627\\u062a\\u064a \\u0645\\u0646 \\u0645\\u062e\\u064a\\u0644\\u062a\\u064a\\u060c \\u0644\\u0643\\u0646 \\u0623\\u062d\\u064a\\u0627\\u0646\\u0627 \\u0623\\u0636\\u0637\\u0631 \\u0644\\u0644\\u0627\\u0633\\u062a\\u0639\\u0627\\u0646\\u0629 \\u0628\\u0645\\u0639\\u0627\\u062c\\u0645 \\u0627\\u0644\\u0623\\u0633\\u0645\\u0627\\u0621 \\u0644\\u0627\\u0633\\u062a\\u0646\\u0628\\u0627\\u0637 \\u0627\\u0644\\u0627\\u0633\\u0645 \\u0627\\u0644\\u0645\\u0646\\u0627\\u0633\\u0628 \\u0645\\u062b\\u0644\\u0645\\u0627 \\u062d\\u062f\\u062b \\u0645\\u0639 \\u0631\\u0648\\u0627\\u064a\\u0629 \\u00ab\\u0628\\u0648\\u0646\\u063a\\u0627\\u0646\\u064a \\u0627\\u0644\\u0634\\u0627\\u0641\\u064a\\u00bb \\u0630\\u0627\\u062a \\u0627\\u0644\\u0623\\u0633\\u0645\\u0627\\u0621 \\u0627\\u0644\\u0625\\u0641\\u0631\\u064a\\u0642\\u064a\\u0629\\u060c \\u0648\\u0631\\u0648\\u0627\\u064a\\u0629 \\u00ab\\u0644\\u063a\\u0632 \\u0635\\u0648\\u0631\\u0629 \\u0645\\u0646 \\u0627\\u0644\\u0643\\u0648\\u0643\\u0628 \\u0627\\u0644\\u0623\\u062d\\u0645\\u0631\\u00bb \\u0630\\u0627\\u062a \\u0627\\u0644\\u0623\\u0633\\u0645\\u0627\\u0621 \\u0627\\u0644\\u0647\\u0648\\u0644\\u0646\\u062f\\u064a\\u0629 \\u0648\\u0627\\u0644\\u0631\\u0648\\u0633\\u064a\\u0629 \\u0648\\u0627\\u0644\\u0647\\u0646\\u062f\\u064a\\u0629\\u060c \\u0641\\u0628\\u0648\\u0646\\u063a\\u0627\\u0646\\u064a \\u0627\\u0633\\u0645 \\u0625\\u0641\\u0631\\u064a\\u0642\\u064a \\u0623\\u0635\\u064a\\u0644 \\u0645\\u0627 \\u0632\\u0627\\u0644 \\u0645\\u0633\\u062a\\u062e\\u062f\\u0645\\u0627\\u064b \\u062d\\u062a\\u0649 \\u0627\\u0644\\u0622\\u0646 \\u0648\\u064a\\u0639\\u0646\\u064a \\u0627\\u0644\\u0648\\u0641\\u064a \\u0627\\u0644\\u0645\\u062e\\u0644\\u0635\\u060c \\u0648\\u0627\\u0633\\u0645 \\u0627\\u0644\\u0623\\u0645 \\u0645\\u0627\\u0631\\u064a\\u062a \\u064a\\u0639\\u0646\\u064a \\u0644\\u0624\\u0644\\u0624\\u0629\\u060c \\u0648\\u0647\\u0646\\u0627\\u0643 \\u0627\\u0644\\u0637\\u0628\\u064a\\u0628 \\u0632\\u0627\\u064a\\u0631\\u064a \\u0623\\u064a \\u0646\\u0647\\u0631\\u060c \\u0648\\u0646\\u0648\\u0645\\u0627\\u0644\\u0627\\u063a\\u0627 \\u0646\\u0648\\u0631 \\u0627\\u0644\\u0634\\u0645\\u0633\\u060c \\u0648\\u0644\\u064a\\u0633\\u064a\\u062f\\u064a \\u0627\\u0645\\u0631\\u0623\\u0629 \\u0645\\u0646 \\u0646\\u0648\\u0631 \\u0648\\u0647\\u0643\\u0630\\u0627 \\u062f\\u0648\\u0627\\u0644\\u064a\\u0643. *\\u0645\\u0627 \\u0647\\u064a \\u0637\\u0628\\u064a\\u0639\\u0629 \\u0642\\u0631\\u0627\\u0621\\u0627\\u062a\\u0643\\u061f \\u0648\\u0645\\u0646 \\u0647\\u0648 \\u0627\\u0644\\u0643\\u0627\\u062a\\u0628 \\u0627\\u0644\\u0645\\u0641\\u0636\\u0644 \\u0644\\u062f\\u064a\\u0643 \\u0648\\u0644\\u0645\\u0627\\u0630\\u0627\\u061f- \\u0628\\u0627\\u0644\\u0646\\u0633\\u0628\\u0629 \\u0644\\u0642\\u0631\\u0627\\u0621\\u0627\\u062a\\u064a \\u0646\\u0627\\u062f\\u0631\\u0627\\u064b \\u0645\\u0627 \\u0623\\u0642\\u0631\\u0623 \\u0627\\u0644\\u0631\\u0648\\u0627\\u064a\\u0627\\u062a\\u060c \\u0625\\u0630 \\u062a\\u0633\\u062a\\u0647\\u0648\\u064a\\u0646\\u064a \\u0643\\u062a\\u0628 \\u0627\\u0644\\u0639\\u0644\\u0648\\u0645 \\u0643\\u0627\\u0644\\u0630\\u0631\\u0651\\u0629 \\u0648\\u0627\\u0644\\u0641\\u064a\\u0632\\u064a\\u0627\\u0621 \\u0648\\u0627\\u0644\\u0643\\u064a\\u0645\\u064a\\u0627\\u0621\\u060c \\u0625\\u0636\\u0627\\u0641\\u0629 \\u0625\\u0644\\u0649 \\u0627\\u0644\\u062a\\u0627\\u0631\\u064a\\u062e \\u0648\\u0627\\u0644\\u0633\\u064a\\u0631 \\u0627\\u0644\\u0630\\u0627\\u062a\\u064a\\u0629\\u060c \\u0648\\u0625\\u0646 \\u0643\\u0627\\u0646 \\u0647\\u0646\\u0627\\u0644\\u0643 \\u0643\\u0627\\u062a\\u0628 \\u0623\\u0639\\u0634\\u0642 \\u0643\\u062a\\u0628\\u0647 \\u0641\\u0647\\u0648 \\u062c\\u0648\\u0644 \\u0641\\u064a\\u0631\\u0646 \\u0627\\u0644\\u0645\\u0644\\u0642\\u0628 \\u0628\\u0623\\u0628\\u064a \\u0627\\u0644\\u062e\\u064a\\u0627\\u0644 \\u0627\\u0644\\u0639\\u0644\\u0645\\u064a\\u060c \\u0648\\u0623\\u0645\\u064a\\u0644 \\u0623\\u062d\\u064a\\u0627\\u0646\\u0627\\u064b \\u0644\\u0642\\u0631\\u0627\\u0621\\u0629 \\u0623\\u0639\\u0645\\u0627\\u0644 \\u062c\\u064a \\u0643\\u064a \\u0631\\u0648\\u0644\\u0646\\u063a \\u0645\\u0624\\u0644\\u0641\\u0629 \\u0633\\u0644\\u0633\\u0644\\u0629 \\u0647\\u0627\\u0631\\u064a \\u0628\\u0648\\u062a\\u0631 \\u0648\\u0628\\u0639\\u0636 \\u0627\\u0644\\u0642\\u0635\\u0635 \\u0627\\u0644\\u0623\\u062e\\u0631\\u0649\\u060c \\u0625\\u0630 \\u064a\\u0639\\u062c\\u0628\\u0646\\u064a \\u0623\\u0633\\u0644\\u0648\\u0628\\u0647\\u0627 \\u0627\\u0644\\u0645\\u0628\\u0647\\u0631 \\u062c\\u062f\\u0627\\u064b \\u0641\\u064a \\u0627\\u0644\\u062e\\u064a\\u0627\\u0644\\u060c \\u0648\\u0642\\u0635\\u0629 \\u0646\\u062c\\u0627\\u062d\\u0647\\u0627 \\u0627\\u0644\\u0645\\u0644\\u0647\\u0645\\u0629 \\u062c\\u062f\\u0627\\u064b \\u0628\\u0627\\u0644\\u0646\\u0633\\u0628\\u0629 \\u0644\\u064a\\u060c \\u0648\\u0645\\u0646 \\u0627\\u0644\\u0643\\u062a\\u0628 \\u0627\\u0644\\u0639\\u0631\\u0628\\u064a\\u0629 \\u062a\\u0633\\u062a\\u0647\\u0648\\u064a\\u0646\\u064a \\u0643\\u062a\\u0627\\u0628\\u0627\\u062a \\u062c\\u0645\\u0627\\u0644 \\u0627\\u0644\\u0634\\u062d\\u064a\\u060c \\u0625\\u0630 \\u0625\\u0646 \\u0633\\u0637\\u0648\\u0631 \\u0643\\u062a\\u0627\\u0628\\u0627\\u062a\\u0647 \\u062a\\u062d\\u062a\\u0648\\u064a \\u0639\\u0644\\u0649 \\u062c\\u0645\\u0644 \\u0641\\u0644\\u0633\\u0641\\u064a\\u0629 \\u0639\\u0645\\u064a\\u0642\\u0629 \\u0644\\u0647\\u0627 \\u0644\\u0630\\u062a\\u0647\\u0627 \\u0627\\u0644\\u062e\\u0627\\u0635\\u0629 \\u0641\\u064a \\u0646\\u0641\\u0633\\u064a\\u060c \\u0641\\u0647\\u0648 \\u064a\\u0633\\u062a\\u0637\\u064a\\u0639 \\u0623\\u0646 \\u064a\\u0634\\u0627\\u0647\\u062f \\u0627\\u0644\\u0623\\u0645\\u0648\\u0631 \\u0645\\u0646 \\u0632\\u0627\\u0648\\u064a\\u0629 \\u0645\\u062e\\u062a\\u0644\\u0641\\u0629. *\\u0645\\u0627 \\u0623\\u0647\\u0645 \\u0627\\u0644\\u062a\\u062d\\u062f\\u064a\\u0627\\u062a \\u0627\\u0644\\u062a\\u064a \\u0648\\u0627\\u062c\\u0647\\u062a\\u0643 \\u0623\\u062b\\u0646\\u0627\\u0621 \\u0631\\u062d\\u0644\\u062a\\u0643 \\u0645\\u0639 \\u0627\\u0644\\u0643\\u0644\\u0645\\u0629\\u061f- \\u0627\\u0644\\u062a\\u062d\\u062f\\u064a\\u0627\\u062a \\u0627\\u0644\\u062a\\u064a \\u062a\\u0648\\u0627\\u062c\\u0647 \\u0627\\u0644\\u0643\\u0627\\u062a\\u0628 \\u0643\\u062b\\u064a\\u0631\\u0629\\u060c \\u0641\\u0641\\u064a \\u0627\\u0644\\u0628\\u062f\\u0627\\u064a\\u0629 \\u064a\\u062a\\u0631\\u062a\\u0628 \\u0639\\u0644\\u064a\\u0647 \\u0623\\u0646 \\u064a\\u062a\\u063a\\u0644\\u0628 \\u0639\\u0644\\u0649 \\u0646\\u0641\\u0633\\u0647\\u060c \\u0641\\u0627\\u0644\\u0643\\u062a\\u0627\\u0628\\u0629 \\u0623\\u0645\\u0631 \\u0645\\u0631\\u0647\\u0642 \\u0648\\u064a\\u062a\\u0637\\u0644\\u0628 \\u0645\\u062c\\u0647\\u0648\\u062f\\u0627\\u064b \\u0641\\u0643\\u0631\\u064a\\u0627\\u064b \\u0648\\u062d\\u062a\\u0649 \\u062c\\u0633\\u062f\\u064a\\u0627\\u064b \\u0643\\u0628\\u064a\\u0631\\u0627\\u064b\\u060c \\u0641\\u0639\\u0644\\u064a\\u0647 \\u0623\\u0646 \\u064a\\u0624\\u0644\\u0641 \\u0639\\u0627\\u0644\\u0645\\u0627\\u064b \\u0645\\u062a\\u0643\\u0627\\u0645\\u0644\\u0627\\u064b \\u0628\\u0643\\u0644 \\u062a\\u0641\\u0627\\u0635\\u064a\\u0644\\u0647 \\u0648\\u064a\\u062a\\u062e\\u064a\\u0644 \\u0643\\u0644 \\u0630\\u0644\\u0643\\u060c \\u062b\\u0645 \\u0625\\u0646 \\u0627\\u0644\\u062c\\u0644\\u0648\\u0633 \\u0644\\u0641\\u062a\\u0631\\u0627\\u062a \\u0637\\u0648\\u064a\\u0644\\u0629 \\u0623\\u0645\\u0627\\u0645 \\u0627\\u0644\\u062d\\u0627\\u0633\\u0648\\u0628 \\u0623\\u0645\\u0631 \\u0645\\u0631\\u0647\\u0642 \\u0644\\u0644\\u0639\\u064a\\u0646\\u064a\\u0646 \\u0648\\u0627\\u0644\\u0638\\u0647\\u0631\\u060c \\u0623\\u0636\\u064a\\u0641\\u064a \\u0625\\u0644\\u0649 \\u0630\\u0644\\u0643 \\u0627\\u0644\\u062a\\u063a\\u0644\\u0628 \\u0639\\u0644\\u0649 \\u0627\\u0644\\u0623\\u0641\\u0643\\u0627\\u0631 \\u0627\\u0644\\u0633\\u0644\\u0628\\u064a\\u0629 \\u0627\\u0644\\u062a\\u064a \\u062a\\u062f\\u0639\\u0648\\u0647 \\u0644\\u0644\\u0631\\u0627\\u062d\\u0629 \\u0648\\u062a\\u0631\\u0643 \\u0627\\u0644\\u0639\\u0645\\u0644\\u060c \\u0641\\u0625\\u0646 \\u0646\\u062c\\u062d \\u0641\\u064a \\u0630\\u0644\\u0643 \\u0633\\u064a\\u0643\\u0648\\u0646 \\u0627\\u0644\\u0628\\u0627\\u0642\\u064a \\u0623\\u0633\\u0647\\u0644 \\u0644\\u0643\\u0646 \\u0644\\u0627 \\u064a\\u062e\\u0644\\u0648 \\u0645\\u0646 \\u0627\\u0644\\u062a\\u062d\\u062f\\u064a\\u060c \\u0641\\u0627\\u0644\\u0628\\u062d\\u062b \\u0639\\u0646 \\u0646\\u0627\\u0634\\u0631 \\u064a\\u0642\\u0628\\u0644 \\u0628\\u0646\\u0634\\u0631 \\u0627\\u0644\\u0639\\u0645\\u0644 \\u0623\\u0645\\u0631 \\u0645\\u062a\\u0639\\u0628\\u060c \\u0648\\u0625\\u0646 \\u0642\\u0628\\u0644 \\u0623\\u062d\\u062f\\u0647\\u0645 \\u0628\\u0627\\u0644\\u0639\\u0645\\u0644 \\u0641\\u0625\\u0646\\u0647 \\u0641\\u064a \\u0627\\u0644\\u063a\\u0627\\u0644\\u0628 \\u064a\\u0637\\u0644\\u0628 \\u0627\\u0644\\u0643\\u062b\\u064a\\u0631 \\u0645\\u0646 \\u0627\\u0644\\u062a\\u0635\\u062d\\u064a\\u062d \\u0648\\u0627\\u0644\\u062a\\u063a\\u064a\\u064a\\u0631\\u060c \\u0648\\u0645\\u0646\\u0647\\u0645 \\u0645\\u0646 \\u064a\\u0637\\u0627\\u0644\\u0628 \\u0627\\u0644\\u0643\\u0627\\u062a\\u0628 \\u0628\\u0627\\u0633\\u062a\\u062e\\u0631\\u0627\\u062c \\u0627\\u0644\\u0623\\u0648\\u0631\\u0627\\u0642 \\u0627\\u0644\\u0631\\u0633\\u0645\\u064a\\u0629 \\u0644\\u0644\\u0639\\u0645\\u0644 \\u0628\\u0646\\u0641\\u0633\\u0647 \\u0645\\u0627 \\u064a\\u062c\\u0644\\u0628 \\u0627\\u0644\\u0645\\u0634\\u0642\\u0629 \\u0648\\u0627\\u0644\\u0639\\u0646\\u0627\\u0621\\u060c \\u0648\\u0628\\u0639\\u062f \\u0643\\u0644 \\u0630\\u0644\\u0643 \\u064a\\u0642\\u0648\\u0645 \\u0627\\u0644\\u0646\\u0627\\u0634\\u0631 \\u0628\\u062a\\u062c\\u0647\\u064a\\u0632 \\u0627\\u0644\\u0646\\u0633\\u062e\\u0629 \\u0644\\u0644\\u0643\\u062a\\u0627\\u0628\\u0629 \\u0648\\u064a\\u0631\\u0633\\u0644\\u0647\\u0627 \\u0644\\u0644\\u0643\\u0627\\u062a\\u0628 \\u0644\\u064a\\u0631\\u0627\\u062c\\u0639\\u0647\\u0627 \\u0645\\u062c\\u062f\\u062f\\u0627\\u064b \\u0648\\u0644\\u0644\\u0645\\u0631\\u0629 \\u0627\\u0644\\u0623\\u062e\\u064a\\u0631\\u0629 \\u0648\\u064a\\u0645\\u0647\\u0644\\u0647 \\u0641\\u062a\\u0631\\u0629 \\u0644\\u0627 \\u062a\\u062a\\u0639\\u062f\\u0649 \\u0627\\u0644\\u062e\\u0645\\u0633\\u0629 \\u0639\\u0634\\u0631 \\u064a\\u0648\\u0645\\u0627\\u064b \\u0641\\u064a \\u0623\\u063a\\u0644\\u0628 \\u0627\\u0644\\u0623\\u062d\\u064a\\u0627\\u0646\\u060c \\u0648\\u062a\\u0643\\u0648\\u0646 \\u0647\\u064a \\u0627\\u0644\\u0641\\u0631\\u0635\\u0629 \\u0627\\u0644\\u0623\\u062e\\u064a\\u0631\\u0629 \\u0644\\u0644\\u0643\\u0627\\u062a\\u0628 \\u0644\\u0625\\u062c\\u0631\\u0627\\u0621 \\u0627\\u0644\\u062a\\u063a\\u064a\\u064a\\u0631\\u0627\\u062a\\u060c \\u0645\\u0627 \\u064a\\u062f\\u0641\\u0639\\u0647 \\u0644\\u0644\\u0627\\u0646\\u0634\\u063a\\u0627\\u0644 \\u0641\\u064a \\u0647\\u0630\\u0647 \\u0627\\u0644\\u0641\\u062a\\u0631\\u0629 \\u0648\\u0627\\u0644\\u063a\\u0631\\u0642 \\u0641\\u064a \\u0639\\u0645\\u0644\\u0647 \\u0625\\u0644\\u0649 \\u062c\\u0627\\u0646\\u0628 \\u0623\\u0639\\u0628\\u0627\\u0621 \\u062d\\u064a\\u0627\\u062a\\u0647 \\u0627\\u0644\\u064a\\u0648\\u0645\\u064a\\u0629 \\u0645\\u0646 \\u0639\\u0645\\u0644\\u064d \\u0648\\u0639\\u0627\\u0626\\u0644\\u0629\\u060c \\u0648\\u0647\\u0630\\u0627 \\u0641\\u064a \\u062d\\u062f \\u0630\\u0627\\u062a\\u0647 \\u064a\\u0634\\u0643\\u0644 \\u0636\\u063a\\u0637\\u0627\\u064b \\u0643\\u0628\\u064a\\u0631\\u0627\\u064b \\u0639\\u0644\\u064a\\u0647 \\u0648\\u0645\\u062f\\u0639\\u0627\\u0629 \\u0644\\u0644\\u062a\\u0631\\u0627\\u062c\\u0639\\u060c \\u0644\\u0643\\u0646 \\u0645\\u0627 \\u0623\\u0646 \\u064a\\u062a\\u0645 \\u0637\\u0628\\u0627\\u0639\\u0629 \\u0627\\u0644\\u0639\\u0645\\u0644 \\u0648\\u064a\\u0645\\u0633\\u0643\\u0647 \\u0627\\u0644\\u0643\\u0627\\u062a\\u0628 \\u0628\\u064a\\u0646 \\u064a\\u062f\\u064a\\u0647 \\u062d\\u062a\\u0649 \\u064a\\u062a\\u0628\\u062f\\u0644 \\u0627\\u0644\\u062a\\u0639\\u0628 \\u0625\\u0644\\u0649 \\u0633\\u0631\\u0648\\u0631\\u064d \\u063a\\u0627\\u0645\\u0631\\u060c \\u0647\\u0648 \\u0634\\u0639\\u0648\\u0631 \\u064a\\u0634\\u0628\\u0647 \\u0625\\u0644\\u0649 \\u062d\\u062f \\u0643\\u0628\\u064a\\u0631 \\u0627\\u0644\\u0634\\u0639\\u0648\\u0631 \\u0628\\u0648\\u0644\\u0627\\u062f\\u0629 \\u0637\\u0641\\u0644.\",\n          \"\\u0623\\u0628\\u0648\\u0638\\u0628\\u064a - \\u0639\\u0644\\u064a \\u0623\\u0633\\u0639\\u062f:\\u062d\\u0642\\u0642\\u062a \\u0627\\u0644\\u0623\\u0633\\u0647\\u0645 \\u0645\\u0643\\u0627\\u0633\\u0628 \\u062c\\u062f\\u064a\\u062f\\u0629 \\u0641\\u064a \\u0642\\u064a\\u0645\\u062a\\u0647\\u0627 \\u0627\\u0644\\u0633\\u0648\\u0642\\u064a\\u0629 \\u0628\\u0642\\u064a\\u0645\\u0629 239 \\u0645\\u0644\\u064a\\u0648\\u0646 \\u062f\\u0631\\u0647\\u0645 \\u0644\\u062a\\u0631\\u062a\\u0641\\u0639 \\u0625\\u0644\\u0649 54 .803 \\u0645\\u0644\\u064a\\u0627\\u0631 \\u062f\\u0631\\u0647\\u0645\\u060c \\u0648\\u0633\\u0637 \\u062a\\u062d\\u0633\\u0646 \\u062c\\u064a\\u062f \\u0641\\u064a \\u0627\\u0644\\u0633\\u064a\\u0648\\u0644\\u0629 \\u0627\\u0644\\u062a\\u064a \\u062a\\u062c\\u0627\\u0648\\u0632\\u062a 267 .2 \\u0645\\u0644\\u064a\\u0627\\u0631 \\u062f\\u0631\\u0647\\u0645\\u060c \\u0648\\u0627\\u0633\\u062a\\u062d\\u0648\\u0630 \\u0633\\u0647\\u0645 \\u0623\\u0631\\u0627\\u0628\\u062a\\u0643 \\u0627\\u0644\\u0642\\u0627\\u0628\\u0636\\u0629 \\u0639\\u0644\\u0649 1 .51% \\u0645\\u0646 \\u0625\\u062c\\u0645\\u0627\\u0644\\u064a \\u0627\\u0644\\u062a\\u062f\\u0627\\u0648\\u0644 \\u0641\\u064a \\u0633\\u0648\\u0642\\u064a \\u0623\\u0628\\u0648\\u0638\\u0628\\u064a \\u0648\\u062f\\u0628\\u064a \\u0627\\u0644\\u0645\\u0627\\u0644\\u064a\\u064a\\u0646\\u060c \\u0648\\u0647\\u0648 \\u0645\\u0627 \\u0623\\u062f\\u0649 \\u0625\\u0644\\u0649 \\u0636\\u063a\\u0637 \\u0627\\u0644\\u062a\\u062f\\u0627\\u0648\\u0644 \\u0639\\u0644\\u0649 \\u0627\\u0644\\u0639\\u062f\\u064a\\u062f \\u0645\\u0646 \\u0627\\u0644\\u0623\\u0633\\u0647\\u0645 \\u0628\\u0639\\u062f \\u0642\\u064a\\u0627\\u0645 \\u0645\\u0633\\u062a\\u062b\\u0645\\u0631\\u064a\\u0646 \\u0628\\u0627\\u0644\\u062a\\u0633\\u064a\\u064a\\u0644 \\u0639\\u0644\\u0649 \\u0628\\u0639\\u0636 \\u0627\\u0644\\u0623\\u0633\\u0647\\u0645 \\u0644\\u0634\\u0631\\u0627\\u0621 \\\"\\u0623\\u0631\\u0627\\u0628\\u062a\\u0643\\\" \\u0627\\u0644\\u0630\\u064a \\u0623\\u063a\\u0644\\u0642 \\u0639\\u0644\\u0649 \\u0627\\u0631\\u062a\\u0641\\u0627\\u0639 \\u0628\\u0646\\u0633\\u0628\\u0629 81 .4% \\u0639\\u0646\\u062f 79 .4 \\u062f\\u0631\\u0647\\u0645 \\u0645\\u062a\\u0623\\u062b\\u0631\\u0627\\u064b \\u0628\\u062a\\u0648\\u0642\\u0639\\u0627\\u062a \\u0628\\u0639\\u0636 \\u0627\\u0644\\u0645\\u0633\\u062a\\u062b\\u0645\\u0631\\u064a\\u0646 \\u0628\\u0642\\u064a\\u0627\\u0645 \\u062d\\u0633\\u0646 \\u0623\\u0633\\u0645\\u064a\\u0643 \\u0627\\u0644\\u0631\\u0626\\u064a\\u0633 \\u0627\\u0644\\u062a\\u0646\\u0641\\u064a\\u0630\\u064a \\u0627\\u0644\\u0633\\u0627\\u0628\\u0642 \\u0644\\u0644\\u0634\\u0631\\u0643\\u0629 \\u0628\\u0628\\u064a\\u0639 \\u062b\\u0644\\u062b \\u062d\\u0635\\u062a\\u0647 \\u0641\\u064a \\u0627\\u0644\\u0634\\u0631\\u0643\\u0629 \\u0628\\u0633\\u0639\\u0631 5 \\u062f\\u0631\\u0627\\u0647\\u0645 \\u0644\\u0644\\u0633\\u0647\\u0645 \\u0627\\u0644\\u0648\\u0627\\u062d\\u062f .\\u0648\\u0627\\u0631\\u062a\\u0641\\u0639 \\u0645\\u0624\\u0634\\u0631 \\u0633\\u0648\\u0642 \\u062f\\u0628\\u064a \\u0627\\u0644\\u0645\\u0627\\u0644\\u064a 23 .0% \\u0639\\u0646\\u062f \\u0645\\u0633\\u062a\\u0648\\u0649 13 .4986 \\u0646\\u0642\\u0637\\u0629\\u060c \\u0648\\u0645\\u0624\\u0634\\u0631 \\u0633\\u0648\\u0642 \\u0623\\u0628\\u0648\\u0638\\u0628\\u064a 26 .0% \\u0639\\u0646\\u062f \\u0645\\u0633\\u062a\\u0648\\u0649 82 .5128 \\u0646\\u0642\\u0637\\u0629 . \\u0648\\u0627\\u0631\\u062a\\u0641\\u0639 \\u0645\\u0624\\u0634\\u0631 \\u0633\\u0648\\u0642 \\u0627\\u0644\\u0625\\u0645\\u0627\\u0631\\u0627\\u062a 03 .0% \\u0639\\u0646\\u062f 12 .5350 \\u0646\\u0642\\u0637\\u0629 \\u0628\\u062f\\u0639\\u0645 \\u0631\\u0626\\u064a\\u0633 \\u0645\\u0646 \\u0623\\u0633\\u0647\\u0645 \\u0634\\u0631\\u0643\\u0627\\u062a \\u0627\\u0644\\u0639\\u0642\\u0627\\u0631 \\u0648\\u0627\\u0644\\u0635\\u0646\\u0627\\u0639\\u0629 \\u0648\\u0627\\u0644\\u062a\\u0623\\u0645\\u064a\\u0646 \\u0627\\u0644\\u062a\\u064a \\u0627\\u0631\\u062a\\u0641\\u0639\\u062a \\u0645\\u0624\\u0634\\u0631\\u0627\\u062a\\u0647\\u0627 \\u0627\\u0644\\u0642\\u0637\\u0627\\u0639\\u064a\\u0629 \\u0628\\u0646\\u0633\\u0628 \\u0645\\u062a\\u0641\\u0627\\u0648\\u062a\\u0629 \\u0623\\u0643\\u062b\\u0631\\u0647\\u0627 \\u0627\\u0631\\u062a\\u0641\\u0627\\u0639\\u0627\\u064b \\u0645\\u0624\\u0634\\u0631 \\u0627\\u0644\\u0639\\u0642\\u0627\\u0631 \\u0628\\u0646\\u0633\\u0628\\u0629 877 .0% . \\u0648\\u062a\\u0645 \\u062a\\u062f\\u0627\\u0648\\u0644 \\u0623\\u0633\\u0647\\u0645 65 \\u0634\\u0631\\u0643\\u0629 \\u0628\\u0645\\u0642\\u062f\\u0627\\u0631 27 .748 \\u0645\\u0644\\u064a\\u0648\\u0646 \\u0633\\u0647\\u0645 \\u0646\\u0641\\u0630\\u062a \\u0645\\u0646 \\u062e\\u0644\\u0627\\u0644 11991 \\u0635\\u0641\\u0642\\u0629 \\u0628\\u0642\\u064a\\u0645\\u0629 267 .2 \\u0645\\u0644\\u064a\\u0627\\u0631 \\u062f\\u0631\\u0647\\u0645\\u060c \\u0648\\u0627\\u0633\\u062a\\u062d\\u0648\\u0630\\u062a \\u0623\\u0633\\u0647\\u0645 \\u0634\\u0631\\u0643\\u0627\\u062a \\u0627\\u0644\\u0639\\u0642\\u0627\\u0631 \\u0639\\u0644\\u0649 \\u0627\\u0644\\u062d\\u0635\\u0629 \\u0627\\u0644\\u0623\\u0643\\u0628\\u0631 \\u0645\\u0646 \\u0627\\u0644\\u0633\\u064a\\u0648\\u0644\\u0629 \\u0628\\u0642\\u064a\\u0645\\u0629 805 .1 \\u0645\\u0644\\u064a\\u0627\\u0631 \\u062f\\u0631\\u0647\\u0645 .\\u0648\\u062a\\u0635\\u062f\\u0631 \\u0633\\u0647\\u0645 \\u0623\\u0631\\u0627\\u0628\\u062a\\u0643 \\u0642\\u0627\\u0626\\u0645\\u0629 \\u0627\\u0644\\u0623\\u0633\\u0647\\u0645 \\u0627\\u0644\\u0623\\u0643\\u062b\\u0631 \\u062a\\u062f\\u0627\\u0648\\u0644\\u0627\\u064b \\u0628\\u0642\\u064a\\u0645\\u0629 159 .1 \\u0645\\u0644\\u064a\\u0627\\u0631 \\u062f\\u0631\\u0647\\u0645\\u060c \\u0648\\u0623\\u063a\\u0644\\u0642 \\u0633\\u0639\\u0631 \\u0627\\u0644\\u0633\\u0647\\u0645 \\u0639\\u0644\\u0649 \\u0627\\u0631\\u062a\\u0641\\u0627\\u0639 \\u0628\\u0646\\u0633\\u0628\\u0629 81 .4% \\u0639\\u0646\\u062f 79 .4 \\u062f\\u0631\\u0647\\u0645\\u060c \\u0648\\u0646\\u0641\\u0630\\u062a \\u0635\\u0641\\u0642\\u0627\\u062a \\u0639\\u0644\\u0649 \\u0627\\u0644\\u0633\\u0647\\u0645 \\u0639\\u0646\\u062f \\u0633\\u0639\\u0631 94 .4 \\u062f\\u0631\\u0647\\u0645\\u060c \\u0648\\u0647\\u0648 \\u0623\\u0639\\u0644\\u0649 \\u0633\\u0639\\u0631 \\u0646\\u0641\\u0630 \\u0639\\u0644\\u064a\\u0629 \\u062e\\u0644\\u0627\\u0644 \\u062c\\u0644\\u0633\\u0629 \\u064a\\u0648\\u0645 \\u0623\\u0645\\u0633\\u060c \\u0648\\u0639\\u0627\\u062f \\u0627\\u0644\\u0633\\u0647\\u0645 \\u0648\\u062a\\u0631\\u0627\\u062c\\u0639 \\u0625\\u0644\\u0649 79 .4 \\u062f\\u0631\\u0647\\u0645 \\u062a\\u062d\\u062a \\u0636\\u063a\\u0637 \\u0639\\u0645\\u0644\\u064a\\u0627\\u062a \\u062c\\u0646\\u064a \\u0627\\u0644\\u0623\\u0631\\u0628\\u0627\\u062d \\u062e\\u0644\\u0627\\u0644 \\u0627\\u0644\\u062c\\u0644\\u0633\\u0629 \\u0646\\u0641\\u0633\\u0647\\u0627 . \\u0648\\u062c\\u0627\\u0621 \\u0633\\u0647\\u0645 \\u0627\\u0644\\u062f\\u0627\\u0631 \\u0627\\u0644\\u0639\\u0642\\u0627\\u0631\\u064a\\u0629 \\u0641\\u064a \\u0627\\u0644\\u0645\\u0631\\u0643\\u0632 \\u0627\\u0644\\u062b\\u0627\\u0646\\u064a \\u0628\\u062a\\u062f\\u0627\\u0648\\u0644 2 .268 \\u0645\\u0644\\u064a\\u0648\\u0646 \\u062f\\u0631\\u0647\\u0645\\u060c \\u0648\\u0627\\u0631\\u062a\\u0641\\u0639 \\u0633\\u0639\\u0631 \\u0627\\u0644\\u0633\\u0647\\u0645 8 \\u0641\\u0644\\u0648\\u0633 \\u0639\\u0646\\u062f 02 .4 \\u062f\\u0631\\u0647\\u0645 . \\u0648\\u062c\\u0627\\u0621 \\u0633\\u0647\\u0645 \\u0625\\u0639\\u0645\\u0627\\u0631 \\u0627\\u0644\\u0639\\u0642\\u0627\\u0631\\u064a\\u0629 \\u0641\\u064a \\u0627\\u0644\\u0645\\u0631\\u0643\\u0632 \\u0627\\u0644\\u062b\\u0627\\u0644\\u062b \\u0628\\u062a\\u062f\\u0627\\u0648\\u0644 8 .125 \\u0645\\u0644\\u064a\\u0648\\u0646 \\u062f\\u0631\\u0647\\u0645\\u060c \\u0648\\u062a\\u0631\\u0627\\u062c\\u0639 \\u0627\\u0644\\u0633\\u0647\\u0645 5 \\u0641\\u0644\\u0648\\u0633 \\u0646\\u062d\\u0648 48 .0% \\u0639\\u0646\\u062f 4 .10 \\u062f\\u0631\\u0647\\u0645 . \\u0648\\u0627\\u062d\\u062a\\u0644 \\u0633\\u0647\\u0645 \\u0627\\u0644\\u0627\\u062a\\u062d\\u0627\\u062f \\u0627\\u0644\\u0639\\u0642\\u0627\\u0631\\u064a\\u0629 \\u0627\\u0644\\u0645\\u0631\\u0643\\u0632 \\u0627\\u0644\\u0631\\u0627\\u0628\\u0639 \\u0628\\u062a\\u062f\\u0627\\u0648\\u0644 123 \\u0645\\u0644\\u064a\\u0648\\u0646 \\u062f\\u0631\\u0647\\u0645 \\u0648\\u062a\\u0631\\u0627\\u062c\\u0639 \\u0627\\u0644\\u0633\\u0647\\u0645 \\u0641\\u0644\\u0633\\u0627\\u064b \\u0648\\u0627\\u062d\\u062f\\u0627\\u064b \\u0646\\u062d\\u0648 44 .0% \\u0639\\u0646\\u062f 28 .2 \\u062f\\u0631\\u0647\\u0645 . \\u0648\\u062c\\u0627\\u0621 \\u0633\\u0647\\u0645 \\u0633\\u0648\\u0642 \\u062f\\u0628\\u064a \\u0627\\u0644\\u0645\\u0627\\u0644\\u064a \\u0641\\u064a \\u0627\\u0644\\u0645\\u0631\\u0643\\u0632 \\u0627\\u0644\\u062e\\u0627\\u0645\\u0633 \\u0628\\u062a\\u062f\\u0627\\u0648\\u0644 3 .83 \\u0645\\u0644\\u064a\\u0648\\u0646 \\u062f\\u0631\\u0647\\u0645\\u060c \\u0648\\u062a\\u0631\\u0627\\u062c\\u0639 \\u0627\\u0644\\u0633\\u0647\\u0645 14 .1 % \\u0639\\u0646\\u062f 47 .3 \\u062f\\u0631\\u0647\\u0645 .\\u0648\\u062a\\u0635\\u062f\\u0631 \\u0633\\u0647\\u0645 \\u062f\\u0628\\u064a \\u0627\\u0644\\u0648\\u0637\\u0646\\u064a\\u0629 \\u0644\\u0644\\u062a\\u0623\\u0645\\u064a\\u0646 \\u0642\\u0627\\u0626\\u0645\\u0629 \\u0627\\u0644\\u0623\\u0633\\u0647\\u0645 \\u0627\\u0644\\u0623\\u0643\\u062b\\u0631 \\u0627\\u0631\\u062a\\u0641\\u0627\\u0639\\u0627\\u064b \\u0641\\u064a \\u0627\\u0644\\u0623\\u0633\\u0639\\u0627\\u0631\\u060c \\u0648\\u0635\\u0639\\u062f \\u0627\\u0644\\u0633\\u0647\\u0645 \\u0628\\u0627\\u0644\\u062d\\u062f \\u0627\\u0644\\u0623\\u0639\\u0644\\u0649 71 .14% \\u0639\\u0646\\u062f 9 .3 \\u062f\\u0631\\u0647\\u0645 \\u0645\\u062d\\u0642\\u0642\\u0627\\u064b \\u0645\\u0643\\u0627\\u0633\\u0628 \\u0645\\u0642\\u062f\\u0627\\u0631\\u0647\\u0627 50 \\u0641\\u0644\\u0633\\u0627\\u064b \\u0648\\u0633\\u0637 \\u062a\\u062f\\u0627\\u0648\\u0644\\u0627\\u062a \\u0636\\u0639\\u064a\\u0641\\u0629 \\u0628\\u0644\\u063a\\u062a \\u0623\\u0642\\u0644 \\u0645\\u0646 2000 \\u062f\\u0631\\u0647\\u0645 \\u0641\\u0642\\u0637 . \\u0643\\u0645\\u0627 \\u0627\\u0631\\u062a\\u0641\\u0639 \\u0633\\u0647\\u0645 \\u0627\\u0644\\u0647\\u0644\\u0627\\u0644 \\u0627\\u0644\\u0623\\u062e\\u0636\\u0631 \\u0644\\u0644\\u062a\\u0623\\u0645\\u064a\\u0646 12 .6% \\u0625\\u0644\\u0649 4_ .1 \\u062f\\u0631\\u0647\\u0645 . \\u0648\\u0641\\u064a \\u0627\\u0644\\u0645\\u0642\\u0627\\u0628\\u0644 \\u062a\\u0635\\u062f\\u0631 \\u0633\\u0647\\u0645 \\\"\\u0623\\u0631\\u064a\\u062c\\\" \\u0642\\u0627\\u0626\\u0645\\u0629 \\u0627\\u0644\\u0623\\u0633\\u0647\\u0645 \\u0627\\u0644\\u0623\\u0643\\u062b\\u0631 \\u062a\\u0631\\u0627\\u062c\\u0639\\u0627\\u064b \\u0641\\u064a \\u0627\\u0644\\u0623\\u0633\\u0639\\u0627\\u0631\\u060c \\u0648\\u0647\\u0628\\u0637 \\u0627\\u0644\\u0633\\u0647\\u0645 \\u0628\\u0627\\u0644\\u062d\\u062f \\u0627\\u0644\\u0623\\u062f\\u0646\\u0649 10% \\u0639\\u0646\\u062f 97 .2 \\u062f\\u0631\\u0647\\u0645 . \\u0643\\u0645\\u0627 \\u0647\\u0628\\u0637 \\u0633\\u0647\\u0645 \\u0627\\u0644\\u0628\\u0646\\u0643 \\u0627\\u0644\\u0639\\u0631\\u0628\\u064a \\u0627\\u0644\\u0645\\u062a\\u062d\\u062f 43 .8% \\u0639\\u0646\\u062f 41 .6 \\u062f\\u0631\\u0647\\u0645 .\\u0648\\u0627\\u062a\\u062c\\u0647 \\u0627\\u0644\\u0645\\u0633\\u062a\\u062b\\u0645\\u0631\\u0648\\u0646 \\u0627\\u0644\\u0645\\u0648\\u0627\\u0637\\u0646\\u0648\\u0646 \\u062e\\u0644\\u0627\\u0644 \\u062c\\u0644\\u0633\\u0629 \\u0623\\u0645\\u0633 \\u0646\\u062d\\u0648 \\u0634\\u0631\\u0627\\u0621 \\u0627\\u0644\\u0623\\u0633\\u0647\\u0645 \\u0628\\u0642\\u064a\\u0645\\u0629 437 .1 \\u0645\\u0644\\u064a\\u0627\\u0631 \\u062f\\u0631\\u0647\\u0645\\u060c \\u0648\\u0628\\u0644\\u063a\\u062a \\u0645\\u0628\\u064a\\u0639\\u0627\\u062a\\u0647\\u0645 376 .1 \\u0645\\u0644\\u064a\\u0627\\u0631 \\u062f\\u0631\\u0647\\u0645\\u060c \\u0648\\u0648\\u0635\\u0644 \\u0635\\u0627\\u0641\\u064a \\u0627\\u0633\\u062a\\u062b\\u0645\\u0627\\u0631\\u062a\\u0647\\u0645 \\u0625\\u0644\\u0649 6 .60 \\u0645\\u0644\\u064a\\u0648\\u0646 \\u062f\\u0631\\u0647\\u0645 \\u0645\\u062d\\u0635\\u0644\\u0629 \\u0634\\u0631\\u0627\\u0621 . \\u0643\\u0645\\u0627 \\u0627\\u062a\\u062c\\u0647 \\u0627\\u0644\\u0645\\u0633\\u062a\\u062b\\u0645\\u0631\\u0648\\u0646 \\u0627\\u0644\\u0623\\u062c\\u0627\\u0646\\u0628 \\u0645\\u0646 \\u063a\\u064a\\u0631 \\u0627\\u0644\\u0639\\u0631\\u0628 \\u0646\\u062d\\u0648 \\u0634\\u0631\\u0627\\u0621 \\u0627\\u0644\\u0623\\u0633\\u0647\\u0645 \\u0628\\u0642\\u064a\\u0645\\u0629 8 .267 \\u0645\\u0644\\u064a\\u0648\\u0646 \\u062f\\u0631\\u0647\\u0645\\u060c \\u0648\\u0628\\u0644\\u063a\\u062a \\u0645\\u0628\\u064a\\u0639\\u0627\\u062a\\u0647\\u0645 7 .237 \\u0645\\u0644\\u064a\\u0648\\u0646 \\u062f\\u0631\\u0647\\u0645\\u060c \\u0648\\u0648\\u0635\\u0644 \\u0635\\u0627\\u0641\\u064a \\u0627\\u0633\\u062a\\u062b\\u0645\\u0627\\u0631\\u0627\\u062a\\u0647\\u0645 \\u0625\\u0644\\u0649 2 .30 \\u0645\\u0644\\u064a\\u0648\\u0646 \\u062f\\u0631\\u0647\\u0645 \\u0645\\u062d\\u0635\\u0644\\u0629 \\u0634\\u0631\\u0627\\u0621 . \\u0648\\u0631\\u0643\\u0632 \\u0627\\u0644\\u0645\\u0633\\u062a\\u062b\\u0645\\u0631\\u0648\\u0646 \\u0627\\u0644\\u0623\\u062c\\u0627\\u0646\\u0628 \\u0645\\u0634\\u062a\\u0631\\u064a\\u0627\\u062a\\u0647\\u0645 \\u0639\\u0644\\u0649 \\u0623\\u0633\\u0647\\u0645 \\u0645\\u062d\\u062f\\u062f\\u0629\\u060c \\u0648\\u0632\\u0627\\u062f\\u0648\\u0627 \\u0645\\u0644\\u0643\\u064a\\u062a\\u0647\\u0645 \\u0641\\u064a \\u0627\\u0644\\u0627\\u062a\\u062d\\u0627\\u062f \\u0627\\u0644\\u0639\\u0642\\u0627\\u0631\\u064a\\u0629 \\u0628\\u0645\\u0642\\u062f\\u0627\\u0631 5 .3 \\u0645\\u0644\\u064a\\u0648\\u0646 \\u0633\\u0647\\u0645\\u060c \\u0648\\u0641\\u064a \\u0631\\u0623\\u0633 \\u0627\\u0644\\u062e\\u064a\\u0645\\u0629 \\u0628\\u0645\\u0642\\u062f\\u0627\\u063199 .2 \\u0645\\u0644\\u064a\\u0648\\u0646 \\u0633\\u0647\\u0645\\u060c \\u0648\\u0641\\u064a \\u0625\\u0639\\u0645\\u0627\\u0631 \\u0627\\u0644\\u0639\\u0642\\u0627\\u0631\\u064a\\u0629 \\u0628\\u0645\\u0642\\u062f\\u0627\\u0631 7 .2 \\u0645\\u0644\\u064a\\u0648\\u0646 \\u0633\\u0647\\u0645\\u060c \\u0648\\u0641\\u064a \\u0627\\u0644\\u062f\\u0627\\u0631 \\u0627\\u0644\\u0639\\u0642\\u0627\\u0631\\u064a\\u0629 \\u0628\\u0645\\u0642\\u062f\\u0627\\u0631 4 .1 \\u0645\\u0644\\u064a\\u0648\\u0646 \\u0633\\u0647\\u0645 . \\u0648\\u0641\\u064a \\u0627\\u0644\\u0645\\u0642\\u0627\\u0628\\u0644 \\u062e\\u0641\\u0636\\u0648\\u0627 \\u0645\\u0644\\u0643\\u064a\\u062a\\u0647\\u0645 \\u0641\\u064a \\u0623\\u0631\\u0627\\u0628\\u062a\\u0643 \\u0628\\u0645\\u0642\\u062f\\u0627\\u0631 7 .5 \\u0645\\u0644\\u064a\\u0648\\u0646 \\u0633\\u0647\\u0645\\u060c \\u0648\\u0641\\u064a \\u062f\\u0628\\u064a \\u0627\\u0644\\u0645\\u0627\\u0644\\u064a \\u0628\\u0645\\u0642\\u062f\\u0627\\u0631 4 .2 \\u0645\\u0644\\u064a\\u0648\\u0646 \\u0633\\u0647\\u0645\\u060c \\u0648\\u0641\\u064a \\u0633\\u064a\\u0631\\u0627\\u0645\\u064a\\u0643 \\u0631\\u0623\\u0633 \\u0627\\u0644\\u062e\\u064a\\u0645\\u0629 \\u0628\\u0645\\u0642\\u062f\\u0627\\u0631 4 .640 \\u0623\\u0644\\u0641 \\u0633\\u0647\\u0645 .\\u0648\\u0627\\u062a\\u062c\\u0647 \\u0627\\u0644\\u0645\\u0633\\u062a\\u062b\\u0645\\u0631\\u0648\\u0646 \\u0627\\u0644\\u062e\\u0644\\u064a\\u062c\\u064a\\u0648\\u0646 \\u0648\\u0627\\u0644\\u0639\\u0631\\u0628 \\u0646\\u062d\\u0648 \\u0628\\u064a\\u0639 \\u0627\\u0644\\u0623\\u0633\\u0647\\u0645\\u060c \\u0648\\u0634\\u0643\\u0644\\u062a \\u0645\\u0628\\u064a\\u0639\\u0627\\u062a\\u0647\\u0645 \\u0636\\u063a\\u0648\\u0637\\u0627\\u064b \\u0639\\u0644\\u0649 \\u062d\\u0631\\u0643\\u0629 \\u0627\\u0644\\u0623\\u0633\\u0648\\u0627\\u0642\\u060c \\u0648\\u0628\\u0644\\u063a \\u0635\\u0627\\u0641\\u064a \\u0627\\u0633\\u062a\\u062b\\u0645\\u0627\\u0631\\u0627\\u062a \\u0627\\u0644\\u0639\\u0631\\u0628 7 .27 \\u0645\\u0644\\u064a\\u0648\\u0646 \\u0633\\u0647\\u0645 \\u0645\\u062d\\u0635\\u0644\\u0629 \\u0628\\u064a\\u0639\\u060c \\u0641\\u064a\\u0645\\u0627 \\u0628\\u0644\\u063a \\u0635\\u0627\\u0641\\u064a \\u0627\\u0633\\u062a\\u062b\\u0645\\u0627\\u0631\\u0627\\u062a \\u0627\\u0644\\u062e\\u0644\\u064a\\u062c\\u064a\\u064a\\u0646 1 .63 \\u0645\\u0644\\u064a\\u0648\\u0646 \\u0633\\u0647\\u0645 \\u0645\\u062d\\u0635\\u0644\\u0629 \\u0628\\u064a\\u0639 . \\u0628\\u062f\\u0648\\u0631\\u0647\\u0627 \\u0627\\u062a\\u062c\\u0647\\u062a \\u0627\\u0644\\u0645\\u062d\\u0627\\u0641\\u0638 \\u0627\\u0644\\u0627\\u0633\\u062a\\u062b\\u0645\\u0627\\u0631\\u064a\\u0629 \\u0646\\u062d\\u0648 \\u0628\\u064a\\u0639 \\u0627\\u0644\\u0623\\u0633\\u0647\\u0645 \\u0648\\u0634\\u0643\\u0644\\u062a \\u0645\\u0628\\u064a\\u0639\\u0627\\u062a\\u0647\\u0627 \\u0627\\u0644\\u0628\\u0627\\u0644\\u063a\\u0629 3 .490 \\u0645\\u0644\\u064a\\u0648\\u0646 \\u062f\\u0631\\u0647\\u0645 \\u0636\\u063a\\u0648\\u0637\\u0627\\u064b \\u0639\\u0644\\u0649 \\u062d\\u0631\\u0643\\u0629 \\u0627\\u0644\\u0623\\u0633\\u0648\\u0627\\u0642\\u060c \\u0641\\u064a\\u0645\\u0627 \\u0628\\u0644\\u063a\\u062a \\u0645\\u0634\\u062a\\u0631\\u064a\\u0627\\u062a\\u0647\\u0627 7 .382 \\u0645\\u0644\\u064a\\u0648\\u0646 \\u062f\\u0631\\u0647\\u0645\\u060c \\u0648\\u0648\\u0635\\u0644 \\u0635\\u0627\\u0641\\u064a \\u0627\\u0633\\u062a\\u062b\\u0645\\u0627\\u0631\\u0627\\u062a\\u0647\\u0627 \\u0625\\u0644\\u0649 7 .107 \\u0645\\u0644\\u064a\\u0648\\u0646 \\u062f\\u0631\\u0647\\u0645 \\u0645\\u062d\\u0635\\u0644\\u0629 \\u0628\\u064a\\u0639\\u060c \\u0648\\u0641\\u064a \\u0627\\u0644\\u0645\\u0642\\u0627\\u0628\\u0644 \\u0627\\u062a\\u062c\\u0647 \\u0627\\u0644\\u0645\\u0633\\u062a\\u062b\\u0645\\u0631\\u0648\\u0646 \\u0627\\u0644\\u0623\\u0641\\u0631\\u0627\\u062f \\u0646\\u062d\\u0648 \\u0634\\u0631\\u0627\\u0621 \\u0627\\u0644\\u0623\\u0633\\u0647\\u0645 \\u0628\\u0635\\u0627\\u0641\\u064a \\u0627\\u0633\\u062a\\u062b\\u0645\\u0627\\u0631 \\u0648\\u0635\\u0644 \\u0625\\u0644\\u0649 7 .107 \\u0645\\u0644\\u064a\\u0648\\u0646 \\u062f\\u0631\\u0647\\u0645 \\u0645\\u062d\\u0635\\u0644\\u0629 \\u0634\\u0631\\u0627\\u0621 . \\u0623\\u0633\\u0645\\u064a\\u0643 \\u064a\\u0631\\u0641\\u0636 \\u0639\\u0631\\u0636\\u0627\\u064b \\u0644\\u0628\\u064a\\u0639 \\u062c\\u0632\\u0621 \\u0645\\u0646 \\u062d\\u0635\\u062a\\u0647 \\u0641\\u064a \\\"\\u0623\\u0631\\u0627\\u0628\\u062a\\u0643\\\" \\u0628\\u0640 5 \\u062f\\u0631\\u0627\\u0647\\u0645 \\u0644\\u0644\\u0633\\u0647\\u0645 \\u0631\\u0641\\u0636 \\u062d\\u0633\\u0646 \\u0623\\u0633\\u0645\\u064a\\u0643\\u060c \\u0627\\u0644\\u0631\\u0626\\u064a\\u0633 \\u0627\\u0644\\u062a\\u0646\\u0641\\u064a\\u0630\\u064a \\u0627\\u0644\\u0633\\u0627\\u0628\\u0642 \\u0644\\u0634\\u0631\\u0643\\u0629 \\\"\\u0623\\u0631\\u0627\\u0628\\u062a\\u0643 \\u0627\\u0644\\u0642\\u0627\\u0628\\u0636\\u0629\\\" \\u0639\\u0631\\u0636\\u0627\\u064b \\u0645\\u0646 \\u0642\\u0628\\u0644 \\u0634\\u0631\\u0643\\u0629 \\\"\\u0622\\u0628\\u0627\\u0631 \\u0644\\u0644\\u0627\\u0633\\u062a\\u062b\\u0645\\u0627\\u0631\\\" \\u0644\\u0628\\u064a\\u0639 \\u062c\\u0632\\u0621 \\u0645\\u0646 \\u062d\\u0635\\u062a\\u0647 \\u0641\\u064a \\\"\\u0623\\u0631\\u0627\\u0628\\u062a\\u0643\\\" \\u0628\\u0642\\u064a\\u0645\\u0629 5 \\u062f\\u0631\\u0627\\u0647\\u0645 \\u0644\\u0644\\u0633\\u0647\\u0645 \\u0627\\u0644\\u0648\\u0627\\u062d\\u062f . \\u0648\\u0623\\u0648\\u0636\\u062d \\u0623\\u0633\\u0645\\u064a\\u0643 \\u0641\\u064a \\u0645\\u0642\\u0627\\u0628\\u0644\\u0629 \\u0647\\u0627\\u062a\\u0641\\u064a\\u0629 \\u0645\\u0639 \\\"\\u0628\\u0644\\u0648\\u0645\\u0628\\u064a\\u0631\\u063a\\\" \\u0623\\u0646 \\\"\\u0622\\u0628\\u0627\\u0631\\\" \\u0644\\u0627 \\u062a\\u0632\\u0627\\u0644 \\u062a\\u062a\\u0641\\u0627\\u0648\\u0636 \\u0645\\u0639\\u0647 \\u0644\\u0628\\u064a\\u0639 \\u0646\\u0635\\u0641 \\u062d\\u0635\\u062a\\u0647 \\u0641\\u064a \\u0627\\u0644\\u0634\\u0631\\u0643\\u0629\\u060c \\u0645\\u0634\\u064a\\u0631\\u0627\\u064b \\u0625\\u0644\\u0649 \\u0623\\u0646\\u0647 \\u064a\\u0633\\u0639\\u0649 \\u0625\\u0644\\u0649 \\u0628\\u064a\\u0639 \\u062d\\u0635\\u062a\\u0647 \\u0628\\u0633\\u0639\\u0631 \\u064a\\u0632\\u064a\\u062f \\u0639\\u0644\\u0649 5 \\u062f\\u0631\\u0627\\u0647\\u0645 \\u0644\\u0644\\u0633\\u0647\\u0645 .\\u0645\\u0646 \\u062c\\u0647\\u0629 \\u0623\\u062e\\u0631\\u0649\\u060c \\u0642\\u0627\\u0644 \\u062d\\u0633\\u0646 \\u0623\\u0633\\u0645\\u064a\\u0643 \\u0625\\u0646\\u0647 \\u064a\\u062c\\u0631\\u064a \\u0645\\u062d\\u0627\\u062f\\u062b\\u0627\\u062a \\u062d\\u0648\\u0644 \\u0628\\u064a\\u0639 \\u062c\\u0632\\u0621 \\u0645\\u0646 \\u062d\\u0635\\u062a\\u0647 \\u0627\\u0644\\u0628\\u0627\\u0644\\u063a\\u0629 9 .27% \\u0644\\u0635\\u0646\\u062f\\u0648\\u0642 \\u0622\\u0628\\u0627\\u0631 \\u0644\\u0644\\u0627\\u0633\\u062a\\u062b\\u0645\\u0627\\u0631\\u0627\\u062a \\u0641\\u064a \\u0623\\u0628\\u0648\\u0638\\u0628\\u064a \\u0648\\u064a\\u0631\\u064a\\u062f \\u0633\\u0639\\u0631\\u0627\\u064b \\u064a\\u062a\\u062c\\u0627\\u0648\\u0632 5 \\u062f\\u0631\\u0627\\u0647\\u0645 \\u0644\\u0644\\u0633\\u0647\\u0645\\u060c \\u0648\\u0647\\u0648 \\u0645\\u0627 \\u064a\\u0641\\u0648\\u0642 \\u0633\\u0639\\u0631 \\u0627\\u0644\\u0633\\u0648\\u0642 \\u0627\\u0644\\u062d\\u0627\\u0644\\u064a \\u0628\\u0646\\u062d\\u0648 4% .\\u0648\\u0642\\u0627\\u0644 \\u0644\\\"\\u0631\\u0648\\u064a\\u062a\\u0631\\u0632\\\" \\u0639\\u0628\\u0631 \\u0627\\u0644\\u0647\\u0627\\u062a\\u0641: \\\"\\u062e\\u0645\\u0633\\u0629 \\u062f\\u0631\\u0627\\u0647\\u0645 \\u0644\\u0644\\u0633\\u0647\\u0645 \\u0644\\u064a\\u0633\\u062a \\u0645\\u0642\\u0628\\u0648\\u0644\\u0629 \\u0628\\u0627\\u0644\\u0646\\u0633\\u0628\\u0629 \\u0625\\u0644\\u064a\\\" .\\u0648\\u0642\\u0641\\u0632 \\u0633\\u0639\\u0631 \\u0633\\u0647\\u0645 \\u0623\\u0631\\u0627\\u0628\\u062a\\u0643 13% \\u0625\\u0644\\u0649 97 .4 \\u062f\\u0631\\u0647\\u0645 \\u0641\\u064a \\u0627\\u0644\\u062c\\u0644\\u0633\\u0627\\u062a \\u0627\\u0644\\u0623\\u0631\\u0628\\u0639 \\u0627\\u0644\\u0623\\u062e\\u064a\\u0631\\u0629 .\"\n        ],\n        \"semantic_type\": \"\",\n        \"description\": \"\"\n      }\n    },\n    {\n      \"column\": \"label\",\n      \"properties\": {\n        \"dtype\": \"category\",\n        \"num_unique_values\": 3,\n        \"samples\": [\n          \"Culture\",\n          \"Finance\",\n          \"Medical\"\n        ],\n        \"semantic_type\": \"\",\n        \"description\": \"\"\n      }\n    }\n  ]\n}"
            }
          },
          "metadata": {},
          "execution_count": 7
        }
      ]
    },
    {
      "cell_type": "markdown",
      "id": "d87ddcd5",
      "metadata": {
        "id": "d87ddcd5"
      },
      "source": [
        "## Step 2: Clean Unnecessary Columns"
      ]
    },
    {
      "cell_type": "markdown",
      "id": "bb10d4d4",
      "metadata": {
        "id": "bb10d4d4"
      },
      "source": [
        "Remove any columns from the dataset that are not needed for training."
      ]
    },
    {
      "cell_type": "code",
      "execution_count": null,
      "id": "7dd06b97",
      "metadata": {
        "id": "7dd06b97",
        "outputId": "630bafb8-d881-4910-9679-24e80aad3cb9",
        "colab": {
          "base_uri": "https://localhost:8080/"
        }
      },
      "outputs": [
        {
          "output_type": "execute_result",
          "data": {
            "text/plain": [
              "Index(['Unnamed: 0', 'text', 'label'], dtype='object')"
            ]
          },
          "metadata": {},
          "execution_count": 8
        }
      ],
      "source": [
        "df.columns"
      ]
    },
    {
      "cell_type": "code",
      "source": [
        "df = df[['text', 'label']]"
      ],
      "metadata": {
        "id": "_aIH_i8nQR35"
      },
      "id": "_aIH_i8nQR35",
      "execution_count": null,
      "outputs": []
    },
    {
      "cell_type": "code",
      "source": [
        "df.head()"
      ],
      "metadata": {
        "id": "UclfCbKfVU4I",
        "outputId": "9f8fb073-6f38-4f78-b92d-bd513559042c",
        "colab": {
          "base_uri": "https://localhost:8080/",
          "height": 206
        }
      },
      "id": "UclfCbKfVU4I",
      "execution_count": null,
      "outputs": [
        {
          "output_type": "execute_result",
          "data": {
            "text/plain": [
              "                                                text    label\n",
              "0  الشارقة - محمد ولد محمد سالمعرضت مساء أمس الأو...  Culture\n",
              "1  عبدالحكيم الزبيدي شاعر وقاص وناقد، جاءت نصوصه ...  Culture\n",
              "2  انطلقت في مثل هذه الأيام من العام الفائت فعالي...  Culture\n",
              "3  أقيمت مساء أمس الأول في إكسبو الشارقة ندوة حوا...  Culture\n",
              "4  باسمة يونس حينما قال صاحب السموّ الشيخ الدكتور...  Culture"
            ],
            "text/html": [
              "\n",
              "  <div id=\"df-e070abc3-8441-4f55-bbcb-bffa9b64aff9\" class=\"colab-df-container\">\n",
              "    <div>\n",
              "<style scoped>\n",
              "    .dataframe tbody tr th:only-of-type {\n",
              "        vertical-align: middle;\n",
              "    }\n",
              "\n",
              "    .dataframe tbody tr th {\n",
              "        vertical-align: top;\n",
              "    }\n",
              "\n",
              "    .dataframe thead th {\n",
              "        text-align: right;\n",
              "    }\n",
              "</style>\n",
              "<table border=\"1\" class=\"dataframe\">\n",
              "  <thead>\n",
              "    <tr style=\"text-align: right;\">\n",
              "      <th></th>\n",
              "      <th>text</th>\n",
              "      <th>label</th>\n",
              "    </tr>\n",
              "  </thead>\n",
              "  <tbody>\n",
              "    <tr>\n",
              "      <th>0</th>\n",
              "      <td>الشارقة - محمد ولد محمد سالمعرضت مساء أمس الأو...</td>\n",
              "      <td>Culture</td>\n",
              "    </tr>\n",
              "    <tr>\n",
              "      <th>1</th>\n",
              "      <td>عبدالحكيم الزبيدي شاعر وقاص وناقد، جاءت نصوصه ...</td>\n",
              "      <td>Culture</td>\n",
              "    </tr>\n",
              "    <tr>\n",
              "      <th>2</th>\n",
              "      <td>انطلقت في مثل هذه الأيام من العام الفائت فعالي...</td>\n",
              "      <td>Culture</td>\n",
              "    </tr>\n",
              "    <tr>\n",
              "      <th>3</th>\n",
              "      <td>أقيمت مساء أمس الأول في إكسبو الشارقة ندوة حوا...</td>\n",
              "      <td>Culture</td>\n",
              "    </tr>\n",
              "    <tr>\n",
              "      <th>4</th>\n",
              "      <td>باسمة يونس حينما قال صاحب السموّ الشيخ الدكتور...</td>\n",
              "      <td>Culture</td>\n",
              "    </tr>\n",
              "  </tbody>\n",
              "</table>\n",
              "</div>\n",
              "    <div class=\"colab-df-buttons\">\n",
              "\n",
              "  <div class=\"colab-df-container\">\n",
              "    <button class=\"colab-df-convert\" onclick=\"convertToInteractive('df-e070abc3-8441-4f55-bbcb-bffa9b64aff9')\"\n",
              "            title=\"Convert this dataframe to an interactive table.\"\n",
              "            style=\"display:none;\">\n",
              "\n",
              "  <svg xmlns=\"http://www.w3.org/2000/svg\" height=\"24px\" viewBox=\"0 -960 960 960\">\n",
              "    <path d=\"M120-120v-720h720v720H120Zm60-500h600v-160H180v160Zm220 220h160v-160H400v160Zm0 220h160v-160H400v160ZM180-400h160v-160H180v160Zm440 0h160v-160H620v160ZM180-180h160v-160H180v160Zm440 0h160v-160H620v160Z\"/>\n",
              "  </svg>\n",
              "    </button>\n",
              "\n",
              "  <style>\n",
              "    .colab-df-container {\n",
              "      display:flex;\n",
              "      gap: 12px;\n",
              "    }\n",
              "\n",
              "    .colab-df-convert {\n",
              "      background-color: #E8F0FE;\n",
              "      border: none;\n",
              "      border-radius: 50%;\n",
              "      cursor: pointer;\n",
              "      display: none;\n",
              "      fill: #1967D2;\n",
              "      height: 32px;\n",
              "      padding: 0 0 0 0;\n",
              "      width: 32px;\n",
              "    }\n",
              "\n",
              "    .colab-df-convert:hover {\n",
              "      background-color: #E2EBFA;\n",
              "      box-shadow: 0px 1px 2px rgba(60, 64, 67, 0.3), 0px 1px 3px 1px rgba(60, 64, 67, 0.15);\n",
              "      fill: #174EA6;\n",
              "    }\n",
              "\n",
              "    .colab-df-buttons div {\n",
              "      margin-bottom: 4px;\n",
              "    }\n",
              "\n",
              "    [theme=dark] .colab-df-convert {\n",
              "      background-color: #3B4455;\n",
              "      fill: #D2E3FC;\n",
              "    }\n",
              "\n",
              "    [theme=dark] .colab-df-convert:hover {\n",
              "      background-color: #434B5C;\n",
              "      box-shadow: 0px 1px 3px 1px rgba(0, 0, 0, 0.15);\n",
              "      filter: drop-shadow(0px 1px 2px rgba(0, 0, 0, 0.3));\n",
              "      fill: #FFFFFF;\n",
              "    }\n",
              "  </style>\n",
              "\n",
              "    <script>\n",
              "      const buttonEl =\n",
              "        document.querySelector('#df-e070abc3-8441-4f55-bbcb-bffa9b64aff9 button.colab-df-convert');\n",
              "      buttonEl.style.display =\n",
              "        google.colab.kernel.accessAllowed ? 'block' : 'none';\n",
              "\n",
              "      async function convertToInteractive(key) {\n",
              "        const element = document.querySelector('#df-e070abc3-8441-4f55-bbcb-bffa9b64aff9');\n",
              "        const dataTable =\n",
              "          await google.colab.kernel.invokeFunction('convertToInteractive',\n",
              "                                                    [key], {});\n",
              "        if (!dataTable) return;\n",
              "\n",
              "        const docLinkHtml = 'Like what you see? Visit the ' +\n",
              "          '<a target=\"_blank\" href=https://colab.research.google.com/notebooks/data_table.ipynb>data table notebook</a>'\n",
              "          + ' to learn more about interactive tables.';\n",
              "        element.innerHTML = '';\n",
              "        dataTable['output_type'] = 'display_data';\n",
              "        await google.colab.output.renderOutput(dataTable, element);\n",
              "        const docLink = document.createElement('div');\n",
              "        docLink.innerHTML = docLinkHtml;\n",
              "        element.appendChild(docLink);\n",
              "      }\n",
              "    </script>\n",
              "  </div>\n",
              "\n",
              "\n",
              "<div id=\"df-1ad40b56-7556-4804-aed8-2917d8eaffcc\">\n",
              "  <button class=\"colab-df-quickchart\" onclick=\"quickchart('df-1ad40b56-7556-4804-aed8-2917d8eaffcc')\"\n",
              "            title=\"Suggest charts\"\n",
              "            style=\"display:none;\">\n",
              "\n",
              "<svg xmlns=\"http://www.w3.org/2000/svg\" height=\"24px\"viewBox=\"0 0 24 24\"\n",
              "     width=\"24px\">\n",
              "    <g>\n",
              "        <path d=\"M19 3H5c-1.1 0-2 .9-2 2v14c0 1.1.9 2 2 2h14c1.1 0 2-.9 2-2V5c0-1.1-.9-2-2-2zM9 17H7v-7h2v7zm4 0h-2V7h2v10zm4 0h-2v-4h2v4z\"/>\n",
              "    </g>\n",
              "</svg>\n",
              "  </button>\n",
              "\n",
              "<style>\n",
              "  .colab-df-quickchart {\n",
              "      --bg-color: #E8F0FE;\n",
              "      --fill-color: #1967D2;\n",
              "      --hover-bg-color: #E2EBFA;\n",
              "      --hover-fill-color: #174EA6;\n",
              "      --disabled-fill-color: #AAA;\n",
              "      --disabled-bg-color: #DDD;\n",
              "  }\n",
              "\n",
              "  [theme=dark] .colab-df-quickchart {\n",
              "      --bg-color: #3B4455;\n",
              "      --fill-color: #D2E3FC;\n",
              "      --hover-bg-color: #434B5C;\n",
              "      --hover-fill-color: #FFFFFF;\n",
              "      --disabled-bg-color: #3B4455;\n",
              "      --disabled-fill-color: #666;\n",
              "  }\n",
              "\n",
              "  .colab-df-quickchart {\n",
              "    background-color: var(--bg-color);\n",
              "    border: none;\n",
              "    border-radius: 50%;\n",
              "    cursor: pointer;\n",
              "    display: none;\n",
              "    fill: var(--fill-color);\n",
              "    height: 32px;\n",
              "    padding: 0;\n",
              "    width: 32px;\n",
              "  }\n",
              "\n",
              "  .colab-df-quickchart:hover {\n",
              "    background-color: var(--hover-bg-color);\n",
              "    box-shadow: 0 1px 2px rgba(60, 64, 67, 0.3), 0 1px 3px 1px rgba(60, 64, 67, 0.15);\n",
              "    fill: var(--button-hover-fill-color);\n",
              "  }\n",
              "\n",
              "  .colab-df-quickchart-complete:disabled,\n",
              "  .colab-df-quickchart-complete:disabled:hover {\n",
              "    background-color: var(--disabled-bg-color);\n",
              "    fill: var(--disabled-fill-color);\n",
              "    box-shadow: none;\n",
              "  }\n",
              "\n",
              "  .colab-df-spinner {\n",
              "    border: 2px solid var(--fill-color);\n",
              "    border-color: transparent;\n",
              "    border-bottom-color: var(--fill-color);\n",
              "    animation:\n",
              "      spin 1s steps(1) infinite;\n",
              "  }\n",
              "\n",
              "  @keyframes spin {\n",
              "    0% {\n",
              "      border-color: transparent;\n",
              "      border-bottom-color: var(--fill-color);\n",
              "      border-left-color: var(--fill-color);\n",
              "    }\n",
              "    20% {\n",
              "      border-color: transparent;\n",
              "      border-left-color: var(--fill-color);\n",
              "      border-top-color: var(--fill-color);\n",
              "    }\n",
              "    30% {\n",
              "      border-color: transparent;\n",
              "      border-left-color: var(--fill-color);\n",
              "      border-top-color: var(--fill-color);\n",
              "      border-right-color: var(--fill-color);\n",
              "    }\n",
              "    40% {\n",
              "      border-color: transparent;\n",
              "      border-right-color: var(--fill-color);\n",
              "      border-top-color: var(--fill-color);\n",
              "    }\n",
              "    60% {\n",
              "      border-color: transparent;\n",
              "      border-right-color: var(--fill-color);\n",
              "    }\n",
              "    80% {\n",
              "      border-color: transparent;\n",
              "      border-right-color: var(--fill-color);\n",
              "      border-bottom-color: var(--fill-color);\n",
              "    }\n",
              "    90% {\n",
              "      border-color: transparent;\n",
              "      border-bottom-color: var(--fill-color);\n",
              "    }\n",
              "  }\n",
              "</style>\n",
              "\n",
              "  <script>\n",
              "    async function quickchart(key) {\n",
              "      const quickchartButtonEl =\n",
              "        document.querySelector('#' + key + ' button');\n",
              "      quickchartButtonEl.disabled = true;  // To prevent multiple clicks.\n",
              "      quickchartButtonEl.classList.add('colab-df-spinner');\n",
              "      try {\n",
              "        const charts = await google.colab.kernel.invokeFunction(\n",
              "            'suggestCharts', [key], {});\n",
              "      } catch (error) {\n",
              "        console.error('Error during call to suggestCharts:', error);\n",
              "      }\n",
              "      quickchartButtonEl.classList.remove('colab-df-spinner');\n",
              "      quickchartButtonEl.classList.add('colab-df-quickchart-complete');\n",
              "    }\n",
              "    (() => {\n",
              "      let quickchartButtonEl =\n",
              "        document.querySelector('#df-1ad40b56-7556-4804-aed8-2917d8eaffcc button');\n",
              "      quickchartButtonEl.style.display =\n",
              "        google.colab.kernel.accessAllowed ? 'block' : 'none';\n",
              "    })();\n",
              "  </script>\n",
              "</div>\n",
              "\n",
              "    </div>\n",
              "  </div>\n"
            ],
            "application/vnd.google.colaboratory.intrinsic+json": {
              "type": "dataframe",
              "variable_name": "df",
              "summary": "{\n  \"name\": \"df\",\n  \"rows\": 15000,\n  \"fields\": [\n    {\n      \"column\": \"text\",\n      \"properties\": {\n        \"dtype\": \"string\",\n        \"num_unique_values\": 14994,\n        \"samples\": [\n          \"\\u0646\\u0638\\u0645\\u062a \\u0645\\u0624\\u0633\\u0633\\u0629 \\u062d\\u0643\\u0648\\u0645\\u0629 \\u062f\\u0628\\u064a \\u0627\\u0644\\u0630\\u0643\\u064a\\u0629 \\u0628\\u0627\\u0644\\u062a\\u0639\\u0627\\u0648\\u0646 \\u0645\\u0639 \\u0647\\u064a\\u0626\\u0629 \\u062a\\u0646\\u0645\\u064a\\u0629 \\u0627\\u0644\\u0645\\u062c\\u062a\\u0645\\u0639\\u060c \\u0648\\u0631\\u0634\\u0629 \\u0639\\u0645\\u0644 \\u062a\\u0636\\u0645\\u0646\\u062a \\u062c\\u0644\\u0633\\u0627\\u062a \\u062d\\u0648\\u0627\\u0631\\u064a\\u0629 \\u062d\\u0648\\u0644 \\u0627\\u0644\\u0645\\u0639\\u0627\\u064a\\u064a\\u0631 \\u0627\\u0644\\u062a\\u064a \\u062a\\u0644\\u0628\\u064a \\u0627\\u062d\\u062a\\u064a\\u0627\\u062c\\u0627\\u062a \\u0648\\u0645\\u062a\\u0637\\u0644\\u0628\\u0627\\u062a \\u0623\\u0635\\u062d\\u0627\\u0628 \\u0627\\u0644\\u0647\\u0645\\u0645 \\u0645\\u0646 \\u0627\\u0644\\u0645\\u0648\\u0627\\u0642\\u0639 \\u0627\\u0644\\u0625\\u0644\\u0643\\u062a\\u0631\\u0648\\u0646\\u064a\\u0629 \\u0648\\u0627\\u0644\\u062a\\u0637\\u0628\\u064a\\u0642\\u0627\\u062a \\u0627\\u0644\\u0630\\u0643\\u064a\\u0629 \\u0627\\u0644\\u062a\\u0627\\u0628\\u0639\\u0629 \\u0644\\u062c\\u0647\\u0627\\u062a \\u0648\\u0645\\u0624\\u0633\\u0633\\u0627\\u062a \\u0627\\u0644\\u0642\\u0637\\u0627\\u0639 \\u0627\\u0644\\u062e\\u0627\\u0635 \\u0641\\u064a \\u062f\\u0628\\u064a\\u060c \\u0633\\u0639\\u064a\\u0627\\u064b \\u0646\\u062d\\u0648 \\u062a\\u0637\\u0648\\u064a\\u0631\\u0647\\u0627 \\u0644\\u062a\\u0643\\u0648\\u0646 \\u0635\\u062f\\u064a\\u0642\\u0629 \\u0644\\u0647\\u0645 \\u0648\\u0642\\u0627\\u062f\\u0631\\u0629 \\u0639\\u0644\\u0649 \\u062a\\u0648\\u0641\\u064a\\u0631 \\u062a\\u062c\\u0627\\u0631\\u0628 \\u0633\\u0639\\u064a\\u062f\\u0629 \\u062a\\u0644\\u0628\\u064a \\u0627\\u062d\\u062a\\u064a\\u0627\\u062c\\u0627\\u062a\\u0647\\u0645. \\u0648\\u0623\\u062a\\u062a \\u0647\\u0630\\u0647 \\u0627\\u0644\\u062c\\u0644\\u0633\\u0627\\u062a \\u0627\\u0644\\u062d\\u0648\\u0627\\u0631\\u064a\\u0629 \\u0627\\u0644\\u062a\\u064a \\u062a\\u0636\\u0645 \\u0641\\u0626\\u0627\\u062a \\u0645\\u062e\\u062a\\u0627\\u0631\\u0629 \\u0645\\u0646 \\u0623\\u0635\\u062d\\u0627\\u0628 \\u0627\\u0644\\u0647\\u0645\\u0645 \\u0643\\u0645\\u0631\\u062d\\u0644\\u0629 \\u0623\\u0648\\u0644\\u0649 \\u0645\\u0646 \\u0645\\u0628\\u0627\\u062f\\u0631\\u0629 \\u0646\\u0648\\u0639\\u064a\\u0629 \\u0648\\u0634\\u0627\\u0645\\u0644\\u0629\\u060c \\u0628\\u0647\\u062f\\u0641 \\u062a\\u0648\\u062c\\u064a\\u0647 \\u0645\\u0624\\u0633\\u0633\\u0627\\u062a \\u0627\\u0644\\u0642\\u0637\\u0627\\u0639 \\u0627\\u0644\\u062e\\u0627\\u0635 \\u0627\\u0644\\u0639\\u0627\\u0645\\u0644\\u0629 \\u0641\\u064a \\u0625\\u0645\\u0627\\u0631\\u0629 \\u062f\\u0628\\u064a \\u0644\\u062a\\u0623\\u0647\\u064a\\u0644 \\u0645\\u0648\\u0627\\u0642\\u0639\\u0647\\u0627 \\u0627\\u0644\\u0625\\u0644\\u0643\\u062a\\u0631\\u0648\\u0646\\u064a\\u0629 \\u0648\\u062a\\u0637\\u0628\\u064a\\u0642\\u0627\\u062a\\u0647\\u0627 \\u0627\\u0644\\u0630\\u0643\\u064a\\u0629 \\u0644\\u062a\\u0635\\u0628\\u062d \\u0645\\u062a\\u0637\\u0627\\u0628\\u0642\\u0629 \\u0645\\u0639 \\u0627\\u0644\\u0645\\u0639\\u0627\\u064a\\u064a\\u0631 \\u0627\\u0644\\u0642\\u064a\\u0627\\u0633\\u064a\\u0629 \\u0644\\u0625\\u0645\\u0643\\u0627\\u0646\\u064a\\u0629 \\u0648\\u0635\\u0648\\u0644 \\u0648\\u0627\\u0633\\u062a\\u062e\\u062f\\u0627\\u0645 \\u0623\\u0635\\u062d\\u0627\\u0628 \\u0627\\u0644\\u0647\\u0645\\u0645\\u060c \\u0648\\u0644\\u062a\\u062a\\u064a\\u062d \\u0644\\u0647\\u0645 \\u0625\\u0645\\u0643\\u0627\\u0646 \\u0627\\u0644\\u0648\\u0635\\u0648\\u0644 \\u0628\\u0643\\u0644 \\u0633\\u0647\\u0648\\u0644\\u0629 \\u0648\\u0633\\u0644\\u0627\\u0633\\u0629. \\u0648\\u062a\\u0645 \\u062e\\u0644\\u0627\\u0644 \\u0627\\u0644\\u062c\\u0644\\u0633\\u0627\\u062a \\u0625\\u0634\\u0631\\u0627\\u0643 \\u0623\\u0635\\u062d\\u0627\\u0628 \\u0627\\u0644\\u0647\\u0645\\u0645 \\u0641\\u064a \\u062a\\u062d\\u062f\\u064a\\u062f \\u0625\\u0631\\u0634\\u0627\\u062f\\u0627\\u062a \\u0627\\u0644\\u062a\\u0635\\u0645\\u064a\\u0645 \\u0627\\u0644\\u0645\\u064f\\u062a\\u0639\\u0644\\u0642\\u0629 \\u0628\\u0648\\u0627\\u062c\\u0647\\u0629 \\u0627\\u0644\\u062a\\u0637\\u0628\\u064a\\u0642\\u0627\\u062a \\u0627\\u0644\\u0630\\u0643\\u064a\\u0629 \\u0648\\u0627\\u0644\\u0645\\u0648\\u0627\\u0642\\u0639 \\u0627\\u0644\\u0625\\u0644\\u0643\\u062a\\u0631\\u0648\\u0646\\u064a\\u0629\\u060c \\u0648\\u0627\\u0644\\u0623\\u0644\\u0648\\u0627\\u0646 \\u0627\\u0644\\u0645\\u0631\\u064a\\u062d\\u0629 \\u0627\\u0644\\u0645\\u0641\\u0636\\u0644\\u0629 \\u0644\\u062f\\u064a\\u0647\\u0645. \\u0648\\u0623\\u0643\\u062f\\u062a \\u0627\\u0644\\u062f\\u0643\\u062a\\u0648\\u0631\\u0629 \\u0639\\u0627\\u0626\\u0634\\u0629 \\u0628\\u0646\\u062a \\u0628\\u0637\\u064a \\u0628\\u0646 \\u0628\\u0634\\u0631\\u060c \\u0645\\u062f\\u064a\\u0631 \\u0639\\u0627\\u0645 \\u0645\\u0643\\u062a\\u0628 \\u062f\\u0628\\u064a \\u0627\\u0644\\u0630\\u0643\\u064a\\u0629 \\u0636\\u0631\\u0648\\u0631\\u0629 \\u062a\\u0636\\u0627\\u0641\\u0631 \\u0627\\u0644\\u062c\\u0647\\u0648\\u062f \\u0628\\u064a\\u0646 \\u062c\\u0645\\u064a\\u0639 \\u0627\\u0644\\u062c\\u0647\\u0627\\u062a \\u0627\\u0644\\u062d\\u0643\\u0648\\u0645\\u064a\\u0629 \\u0648\\u0627\\u0644\\u062e\\u0627\\u0635\\u0629 \\u0641\\u064a \\u062f\\u0628\\u064a\\u060c \\u0648\\u0627\\u0644\\u0639\\u0645\\u0644 \\u0627\\u0644\\u062f\\u0624\\u0648\\u0628 \\u0648\\u0627\\u0644\\u062a\\u0631\\u0643\\u064a\\u0632 \\u0639\\u0644\\u0649 \\u062a\\u0646\\u0641\\u064a\\u0630 \\u062c\\u0645\\u064a\\u0639 \\u0627\\u0644\\u0645\\u0628\\u0627\\u062f\\u0631\\u0627\\u062a. \\u0648\\u0642\\u0627\\u0644 \\u0648\\u0633\\u0627\\u0645 \\u0644\\u0648\\u062a\\u0627\\u0647\\u060c \\u0627\\u0644\\u0645\\u062f\\u064a\\u0631 \\u0627\\u0644\\u062a\\u0646\\u0641\\u064a\\u0630\\u064a \\u0644\\u0645\\u0624\\u0633\\u0633\\u0629 \\u062d\\u0643\\u0648\\u0645\\u0629 \\u062f\\u0628\\u064a \\u0627\\u0644\\u0630\\u0643\\u064a\\u0629: \\u0625\\u0646 \\u0639\\u0645\\u0644\\u064a\\u0629 \\u062a\\u0623\\u0647\\u064a\\u0644 \\u0627\\u0644\\u0645\\u0648\\u0627\\u0642\\u0639 \\u0627\\u0644\\u0625\\u0644\\u0643\\u062a\\u0631\\u0648\\u0646\\u064a\\u0629 \\u0648\\u0627\\u0644\\u062a\\u0637\\u0628\\u064a\\u0642\\u0627\\u062a \\u0627\\u0644\\u0630\\u0643\\u064a\\u0629 \\u0641\\u064a \\u062c\\u0647\\u0627\\u062a \\u0627\\u0644\\u0642\\u0637\\u0627\\u0639 \\u0627\\u0644\\u062e\\u0627\\u0635 \\u0628\\u062f\\u0628\\u064a\\u060c \\u062a\\u0623\\u062a\\u064a \\u0641\\u064a \\u0625\\u0637\\u0627\\u0631 \\u062c\\u0647\\u0648\\u062f \\u00ab\\u062f\\u0628\\u064a \\u0627\\u0644\\u0630\\u0643\\u064a\\u0629\\u00bb \\u0627\\u0644\\u0647\\u0627\\u062f\\u0641\\u0629 \\u0625\\u0644\\u0649 \\u062a\\u062d\\u0648\\u064a\\u0644 \\u062f\\u0628\\u064a \\u0628\\u0627\\u0644\\u0643\\u0627\\u0645\\u0644 \\u0625\\u0644\\u0649 \\u0645\\u062f\\u064a\\u0646\\u0629 \\u0635\\u062f\\u064a\\u0642\\u0629 \\u0644\\u0623\\u0635\\u062d\\u0627\\u0628 \\u0627\\u0644\\u0647\\u0645\\u0645 \\u0628\\u062d\\u0644\\u0648\\u0644 \\u0639\\u0627\\u0645 2020. \\u0645\\u0646 \\u062c\\u0647\\u062a\\u0647 \\u0623\\u0643\\u062f \\u0623\\u062d\\u0645\\u062f \\u0639\\u0628\\u062f \\u0627\\u0644\\u0643\\u0631\\u064a\\u0645 \\u062c\\u0644\\u0641\\u0627\\u0631\\u060c \\u0645\\u062f\\u064a\\u0631 \\u0639\\u0627\\u0645 \\u0647\\u064a\\u0626\\u0629 \\u062a\\u0646\\u0645\\u064a\\u0629 \\u0627\\u0644\\u0645\\u062c\\u062a\\u0645\\u0639 \\u0636\\u0631\\u0648\\u0631\\u0629 \\u062a\\u0648\\u0641\\u064a\\u0631 \\u0628\\u064a\\u0626\\u0629 \\u062f\\u0627\\u0645\\u062c\\u0629 \\u0648\\u0645\\u0645\\u0643\\u0646\\u0629 \\u0644\\u0623\\u0635\\u062d\\u0627\\u0628 \\u0627\\u0644\\u0647\\u0645\\u0645 \\u062a\\u062a\\u064a\\u062d \\u0644\\u0647\\u0645 \\u0627\\u0644\\u0648\\u0635\\u0648\\u0644 \\u0627\\u0644\\u0643\\u0627\\u0645\\u0644 \\u0644\\u0643\\u0627\\u0641\\u0629 \\u062d\\u0642\\u0648\\u0642\\u0647\\u0645\\u060c \\u0644\\u0627\\u0641\\u062a\\u0627\\u064b \\u0625\\u0644\\u0649 \\u0623\\u0646 \\u0627\\u0644\\u062a\\u062d\\u0648\\u0644 \\u0627\\u0644\\u0630\\u0643\\u064a \\u0627\\u0644\\u0630\\u064a \\u062a\\u0634\\u0647\\u062f\\u0647 \\u062d\\u0643\\u0648\\u0645\\u0629 \\u062f\\u0628\\u064a \\u0628\\u062c\\u0645\\u064a\\u0639 \\u062e\\u062f\\u0645\\u0627\\u062a\\u0647\\u0627 \\u0645\\u0646 \\u0634\\u0623\\u0646\\u0647 \\u0623\\u0646 \\u064a\\u062a\\u064a\\u062d \\u0633\\u0647\\u0648\\u0644\\u0629 \\u0623\\u0643\\u0628\\u0631 \\u0641\\u064a \\u0645\\u0648\\u0627\\u0621\\u0645\\u0629 \\u0627\\u0644\\u062e\\u062f\\u0645\\u0627\\u062a \\u0644\\u0627\\u062d\\u062a\\u064a\\u0627\\u062c\\u0627\\u062a \\u0623\\u0635\\u062d\\u0627\\u0628 \\u0627\\u0644\\u0647\\u0645\\u0645.\",\n          \"\\u062d\\u0648\\u0627\\u0631: \\u0646\\u062c\\u0627\\u0629 \\u0627\\u0644\\u0641\\u0627\\u0631\\u0633 \\u0645\\u062d\\u0645\\u062f \\u0627\\u0644\\u062d\\u0645\\u0627\\u062f\\u064a \\u0643\\u0627\\u062a\\u0628 \\u0625\\u0645\\u0627\\u0631\\u0627\\u062a\\u064a \\u0641\\u0627\\u0632 \\u0628\\u0627\\u0644\\u0645\\u0631\\u0643\\u0632 \\u0627\\u0644\\u062b\\u0627\\u0644\\u062b \\u0628\\u062c\\u0627\\u0626\\u0632\\u0629 \\u0627\\u0644\\u0625\\u0645\\u0627\\u0631\\u0627\\u062a \\u0644\\u0644\\u0631\\u0648\\u0627\\u064a\\u0629 \\u0641\\u064a \\u062f\\u0648\\u0631\\u062a\\u0647\\u0627 \\u0627\\u0644\\u062b\\u0627\\u0644\\u062b\\u0629 \\u0639\\u0646 \\u0631\\u0648\\u0627\\u064a\\u062a\\u0647 \\u00ab\\u0627\\u0644\\u0628\\u062d\\u062b \\u0639\\u0646 \\u0645\\u0645\\u0644\\u0643\\u0629 \\u0627\\u0644\\u0634\\u0645\\u0633\\u00bb\\u060c \\u0643\\u0645\\u0627 \\u0641\\u0627\\u0632\\u062a \\u0631\\u0648\\u0627\\u064a\\u062a\\u0647 \\u00ab\\u0627\\u0644\\u064a\\u0648\\u0645 \\u0627\\u0644\\u0623\\u062e\\u064a\\u0631.. \\u064a\\u0648\\u0645\\u064a\\u0627\\u062a \\u0627\\u0644\\u0628\\u0631\\u0648\\u0641\\u064a\\u0633\\u0648\\u0631 \\u0645\\u0627\\u0643 \\u0622\\u064a\\u062f\\u064a\\u00bb\\u060c \\u0628\\u0627\\u0644\\u0645\\u0631\\u0643\\u0632 \\u0627\\u0644\\u0623\\u0648\\u0644 \\u0641\\u064a \\u0627\\u0644\\u062f\\u0648\\u0631\\u0629 \\u0627\\u0644\\u062b\\u0627\\u0646\\u064a\\u0629 \\u0644\\u062c\\u0627\\u0626\\u0632\\u0629 \\u0627\\u0644\\u0625\\u0645\\u0627\\u0631\\u0627\\u062a \\u0644\\u0644\\u0631\\u0648\\u0627\\u064a\\u0629 \\u0641\\u0626\\u0629 \\u0627\\u0644\\u0631\\u0648\\u0627\\u064a\\u0629 \\u0627\\u0644\\u0637\\u0648\\u064a\\u0644\\u0629\\u060c \\u062a\\u0633\\u062a\\u0647\\u0648\\u064a\\u0647 \\u0643\\u062a\\u0628 \\u0627\\u0644\\u0639\\u0644\\u0648\\u0645 \\u0643\\u0627\\u0644\\u0630\\u0631\\u0651\\u0629 \\u0648\\u0627\\u0644\\u0641\\u064a\\u0632\\u064a\\u0627\\u0621 \\u0648\\u0627\\u0644\\u0643\\u064a\\u0645\\u064a\\u0627\\u0621\\u060c \\u0625\\u0636\\u0627\\u0641\\u0629 \\u0625\\u0644\\u0649 \\u0627\\u0644\\u062a\\u0627\\u0631\\u064a\\u062e \\u0648\\u0627\\u0644\\u0633\\u064a\\u0631 \\u0627\\u0644\\u0630\\u0627\\u062a\\u064a\\u0629\\u060c \\u064a\\u0639\\u0645\\u0644 \\u062d\\u0627\\u0644\\u064a\\u0627\\u064b \\u0639\\u0644\\u0649 \\u0643\\u062a\\u0627\\u0628\\u0629 \\u0631\\u0648\\u0627\\u064a\\u0629 \\u062a\\u0627\\u0631\\u064a\\u062e\\u064a\\u0629 \\u062a\\u062d\\u062a \\u0639\\u0646\\u0648\\u0627\\u0646 \\u00ab\\u0627\\u0644\\u0646\\u062e\\u0644\\u0629\\u00bb \\u062a\\u062f\\u0648\\u0631 \\u0623\\u062d\\u062f\\u0627\\u062b\\u0647\\u0627 \\u0641\\u064a \\u0645\\u0635\\u0631 \\u0627\\u0644\\u0641\\u0631\\u0639\\u0648\\u0646\\u064a\\u0629 \\u0648\\u0627\\u0644\\u0628\\u062a\\u0631\\u0627\\u0621\\u060c \\u0648\\u0631\\u0648\\u0627\\u064a\\u0629 \\u0623\\u062e\\u0631\\u0649 \\u0628\\u0639\\u0646\\u0648\\u0627\\u0646 \\u00ab\\u0644\\u063a\\u0632 \\u0635\\u0648\\u0631\\u0629 \\u0645\\u0646 \\u0627\\u0644\\u0643\\u0648\\u0643\\u0628 \\u0627\\u0644\\u0623\\u062d\\u0645\\u0631\\u00bb\\u060c \\u0648\\u0647\\u064a \\u062c\\u0631\\u064a\\u0645\\u0629 \\u0645\\u0645\\u0632\\u0648\\u062c\\u0629 \\u0628\\u0627\\u0644\\u062e\\u064a\\u0627\\u0644 \\u0627\\u0644\\u0639\\u0644\\u0645\\u064a\\u060c \\u0643\\u062a\\u0628\\u0647\\u0627 \\u062a\\u0632\\u0627\\u0645\\u0646\\u0627\\u064b \\u0645\\u0639 \\u0627\\u0647\\u062a\\u0645\\u0627\\u0645 \\u0627\\u0644\\u0625\\u0645\\u0627\\u0631\\u0627\\u062a \\u0645\\u0624\\u062e\\u0631\\u0627\\u064b \\u0628\\u0627\\u0644\\u0641\\u0636\\u0627\\u0621 \\u0648\\u0643\\u0648\\u0643\\u0628 \\u0627\\u0644\\u0645\\u0631\\u064a\\u062e \\u062a\\u062d\\u062f\\u064a\\u062f\\u0627\\u064b\\u060c \\u0644\\u064a\\u0642\\u0631\\u0628 \\u0635\\u0648\\u0631\\u0629 \\u0627\\u0644\\u0645\\u0631\\u064a\\u062e \\u0648\\u0623\\u062c\\u0648\\u0627\\u0621\\u0647 \\u0644\\u0644\\u0642\\u0627\\u0631\\u0626 \\u0627\\u0644\\u0625\\u0645\\u0627\\u0631\\u0627\\u062a\\u064a \\u0648\\u0627\\u0644\\u0639\\u0631\\u0628\\u064a. \\u0648\\u0643\\u0627\\u0646 \\u0644\\u0640\\u00ab\\u0627\\u0644\\u062e\\u0644\\u064a\\u062c\\u00bb \\u0627\\u0644\\u062d\\u0648\\u0627\\u0631 \\u0627\\u0644\\u0622\\u062a\\u064a \\u0645\\u0639\\u0647: *\\u0643\\u064a\\u0641 \\u0648\\u0645\\u062a\\u0649 \\u0628\\u062f\\u0623\\u062a \\u0631\\u062d\\u0644\\u062a\\u0643 \\u0645\\u0639 \\u0627\\u0644\\u0643\\u062a\\u0627\\u0628\\u0629\\u061f- \\u0628\\u062f\\u0623\\u062a \\u0627\\u0644\\u0643\\u062a\\u0627\\u0628\\u0629 \\u0628\\u0631\\u0648\\u0627\\u064a\\u0629 \\u00ab\\u0627\\u0644\\u064a\\u0648\\u0645 \\u0627\\u0644\\u0623\\u062e\\u064a\\u0631\\u00bb \\u0648\\u0643\\u0627\\u0646\\u062a \\u062a\\u062c\\u0631\\u0628\\u062a\\u064a \\u0627\\u0644\\u0623\\u0648\\u0644\\u0649\\u060c \\u0648\\u0628\\u0639\\u062f \\u0641\\u0631\\u0627\\u063a\\u064a \\u0645\\u0646\\u0647\\u0627 \\u0628\\u0642\\u064a\\u062a \\u0627\\u0644\\u0631\\u0648\\u0627\\u064a\\u0629 \\u0641\\u0648\\u0642 \\u0627\\u0644\\u0631\\u0641 \\u0644\\u0633\\u0646\\u062a\\u064a\\u0646 \\u0625\\u0644\\u0649 \\u0623\\u0646 \\u0634\\u0627\\u0647\\u062f\\u062a \\u0639\\u0631\\u0636 \\u062c\\u0627\\u0626\\u0632\\u0629 \\u0627\\u0644\\u0625\\u0645\\u0627\\u0631\\u0627\\u062a \\u0644\\u0644\\u0631\\u0648\\u0627\\u064a\\u0629 \\u0641\\u064a \\u0645\\u0639\\u0631\\u0636 \\u0627\\u0644\\u0634\\u0627\\u0631\\u0642\\u0629 \\u0627\\u0644\\u062f\\u0648\\u0644\\u064a \\u0644\\u0644\\u0643\\u062a\\u0627\\u0628\\u060c \\u0648\\u0647\\u0646\\u0627\\u0643 \\u0642\\u0631\\u0631\\u062a \\u0625\\u0631\\u0633\\u0627\\u0644\\u0647\\u0627\\u060c \\u0648\\u0644\\u0645 \\u0623\\u062a\\u0648\\u0642\\u0639 \\u0627\\u0644\\u0641\\u0648\\u0632 \\u0625\\u0637\\u0644\\u0627\\u0642\\u0627\\u060c \\u0643\\u0646\\u062a \\u0645\\u062a\\u0634\\u0627\\u0626\\u0645\\u0627\\u064b \\u0628\\u0639\\u0636 \\u0627\\u0644\\u0634\\u064a\\u0621\\u060c \\u0644\\u0643\\u0646 \\u0641\\u0648\\u0632\\u0647\\u0627 \\u062f\\u0648\\u0646 \\u0645\\u0646\\u0627\\u0641\\u0633 \\u0645\\u0646\\u062d\\u0646\\u064a \\u0637\\u0627\\u0642\\u0629 \\u0644\\u0644\\u0625\\u0628\\u062f\\u0627\\u0639 \\u0623\\u0643\\u062b\\u0631\\u060c \\u0648\\u0639\\u0646\\u062f\\u0647\\u0627 \\u0643\\u062a\\u0628\\u062a \\u0631\\u0648\\u0627\\u064a\\u062a\\u064a \\u0627\\u0644\\u062b\\u0627\\u0646\\u064a\\u0629 \\u00ab\\u0628\\u0648\\u0646\\u063a\\u0627\\u0646\\u064a \\u0627\\u0644\\u0634\\u0627\\u0641\\u064a.. \\u062d\\u0643\\u0627\\u064a\\u0629 \\u0623\\u0645 \\u0625\\u0641\\u0631\\u064a\\u0642\\u064a\\u0629\\u00bb\\u060c \\u0648\\u0623\\u0639\\u062a\\u0628\\u0631\\u0647\\u0627 \\u0627\\u0644\\u0631\\u0648\\u0627\\u064a\\u0629 \\u0627\\u0644\\u0623\\u0642\\u0631\\u0628 \\u0625\\u0644\\u0649 \\u0642\\u0644\\u0628\\u064a\\u060c \\u0648\\u062a\\u0644\\u0642\\u0641\\u062a \\u0627\\u0644\\u0639\\u0645\\u0644 \\u062f\\u0627\\u0631 \\u0646\\u0634\\u0631 \\u00ab\\u0631\\u0648\\u0627\\u064a\\u0627\\u062a\\u00bb \\u0648\\u0644\\u0642\\u064a\\u062a \\u0627\\u0644\\u0631\\u0648\\u0627\\u064a\\u0629 \\u0646\\u062c\\u0627\\u062d\\u0627\\u064b \\u0637\\u064a\\u0628\\u0627\\u064b. *\\u0645\\u0627\\u0630\\u0627 \\u0639\\u0646 \\u0645\\u0634\\u0631\\u0648\\u0639\\u0643 \\u0627\\u0644\\u0623\\u062f\\u0628\\u064a \\u0627\\u0644\\u0642\\u0627\\u062f\\u0645\\u061f- \\u0645\\u0624\\u062e\\u0631\\u0627\\u064b \\u0628\\u062f\\u0623\\u062a \\u0628\\u0643\\u062a\\u0627\\u0628\\u0629 \\u0631\\u0648\\u0627\\u064a\\u0629 \\u062a\\u0627\\u0631\\u064a\\u062e\\u064a\\u0629 \\u062a\\u062d\\u062a \\u0639\\u0646\\u0648\\u0627\\u0646 \\u00ab\\u0627\\u0644\\u0646\\u062e\\u0644\\u0629\\u00bb \\u062a\\u062f\\u0648\\u0631 \\u0623\\u062d\\u062f\\u0627\\u062b\\u0647\\u0627 \\u0641\\u064a \\u0645\\u0635\\u0631 \\u0627\\u0644\\u0641\\u0631\\u0639\\u0648\\u0646\\u064a\\u0629 \\u0648\\u0627\\u0644\\u0628\\u062a\\u0631\\u0627\\u0621\\u060c \\u0641\\u064a \\u0627\\u0644\\u0623\\u0632\\u0645\\u0646\\u0629 \\u0627\\u0644\\u063a\\u0627\\u0628\\u0631\\u0629 \\u062d\\u064a\\u062b \\u062d\\u062f\\u062b\\u062a \\u0645\\u062c\\u0627\\u0639\\u0629 \\u0643\\u0628\\u0631\\u0649 \\u062f\\u0627\\u0631\\u062a \\u0628\\u0639\\u062f\\u0647\\u0627 \\u062d\\u0631\\u0648\\u0628 \\u0637\\u0627\\u062d\\u0646\\u0629\\u060c \\u062a\\u0642\\u0648\\u062f \\u0623\\u062d\\u062f\\u0627\\u062b \\u0627\\u0644\\u0631\\u0648\\u0627\\u064a\\u0629 \\u0628\\u0637\\u0644\\u062a\\u064a\\u0647\\u0627 \\u062a\\u0648\\u064a\\u0627 \\u0648\\u0623\\u062e\\u062a\\u0647\\u0627 \\u0628\\u0627\\u062a\\u0648\\u064a\\u0627 \\u0625\\u0644\\u0627 \\u0623\\u0646\\u0646\\u064a \\u062a\\u0648\\u0642\\u0641\\u062a \\u0639\\u0646 \\u0643\\u062a\\u0627\\u0628\\u062a\\u0647\\u0627 \\u0644\\u0623\\u0646\\u0646\\u064a \\u0623\\u0646\\u0634\\u0623\\u062a \\u062d\\u0633\\u0627\\u0628\\u0627\\u064b \\u0641\\u064a \\u0623\\u062d\\u062f \\u0645\\u0648\\u0627\\u0642\\u0639 \\u0627\\u0644\\u062a\\u0648\\u0627\\u0635\\u0644 \\u0627\\u0644\\u0627\\u062c\\u062a\\u0645\\u0627\\u0639\\u064a\\u060c \\u0648\\u0627\\u0646\\u0634\\u063a\\u0644\\u062a \\u0628\\u0625\\u0639\\u062f\\u0627\\u062f\\u0647 \\u0648\\u062a\\u062c\\u0647\\u064a\\u0632\\u0647 \\u0641\\u0623\\u062e\\u0630 \\u0645\\u0646\\u064a \\u0623\\u063a\\u0644\\u0628 \\u0648\\u0642\\u062a \\u0641\\u0631\\u0627\\u063a\\u064a\\u060c \\u0648\\u0623\\u0638\\u0646 \\u0623\\u0646\\u0646\\u064a \\u0633\\u0623\\u062a\\u0627\\u0628\\u0639 \\u0643\\u062a\\u0627\\u0628\\u062a\\u0647\\u0627 \\u0641\\u064a \\u0648\\u0642\\u062a \\u0644\\u0627\\u062d\\u0642 \\u0644\\u0627 \\u0623\\u0633\\u062a\\u0637\\u064a\\u0639 \\u062a\\u062d\\u062f\\u064a\\u062f\\u0647. *\\u0643\\u064a\\u0641 \\u062a\\u062e\\u062a\\u0627\\u0631 \\u0623\\u0628\\u0637\\u0627\\u0644 \\u0623\\u0639\\u0645\\u0627\\u0644\\u0643 \\u0627\\u0644\\u0623\\u062f\\u0628\\u064a\\u0629\\u061f- \\u0623\\u062e\\u062a\\u0627\\u0631 \\u0623\\u0628\\u0637\\u0627\\u0644 \\u0631\\u0648\\u0627\\u064a\\u0627\\u062a\\u064a \\u0645\\u0646 \\u0645\\u062e\\u064a\\u0644\\u062a\\u064a\\u060c \\u0644\\u0643\\u0646 \\u0623\\u062d\\u064a\\u0627\\u0646\\u0627 \\u0623\\u0636\\u0637\\u0631 \\u0644\\u0644\\u0627\\u0633\\u062a\\u0639\\u0627\\u0646\\u0629 \\u0628\\u0645\\u0639\\u0627\\u062c\\u0645 \\u0627\\u0644\\u0623\\u0633\\u0645\\u0627\\u0621 \\u0644\\u0627\\u0633\\u062a\\u0646\\u0628\\u0627\\u0637 \\u0627\\u0644\\u0627\\u0633\\u0645 \\u0627\\u0644\\u0645\\u0646\\u0627\\u0633\\u0628 \\u0645\\u062b\\u0644\\u0645\\u0627 \\u062d\\u062f\\u062b \\u0645\\u0639 \\u0631\\u0648\\u0627\\u064a\\u0629 \\u00ab\\u0628\\u0648\\u0646\\u063a\\u0627\\u0646\\u064a \\u0627\\u0644\\u0634\\u0627\\u0641\\u064a\\u00bb \\u0630\\u0627\\u062a \\u0627\\u0644\\u0623\\u0633\\u0645\\u0627\\u0621 \\u0627\\u0644\\u0625\\u0641\\u0631\\u064a\\u0642\\u064a\\u0629\\u060c \\u0648\\u0631\\u0648\\u0627\\u064a\\u0629 \\u00ab\\u0644\\u063a\\u0632 \\u0635\\u0648\\u0631\\u0629 \\u0645\\u0646 \\u0627\\u0644\\u0643\\u0648\\u0643\\u0628 \\u0627\\u0644\\u0623\\u062d\\u0645\\u0631\\u00bb \\u0630\\u0627\\u062a \\u0627\\u0644\\u0623\\u0633\\u0645\\u0627\\u0621 \\u0627\\u0644\\u0647\\u0648\\u0644\\u0646\\u062f\\u064a\\u0629 \\u0648\\u0627\\u0644\\u0631\\u0648\\u0633\\u064a\\u0629 \\u0648\\u0627\\u0644\\u0647\\u0646\\u062f\\u064a\\u0629\\u060c \\u0641\\u0628\\u0648\\u0646\\u063a\\u0627\\u0646\\u064a \\u0627\\u0633\\u0645 \\u0625\\u0641\\u0631\\u064a\\u0642\\u064a \\u0623\\u0635\\u064a\\u0644 \\u0645\\u0627 \\u0632\\u0627\\u0644 \\u0645\\u0633\\u062a\\u062e\\u062f\\u0645\\u0627\\u064b \\u062d\\u062a\\u0649 \\u0627\\u0644\\u0622\\u0646 \\u0648\\u064a\\u0639\\u0646\\u064a \\u0627\\u0644\\u0648\\u0641\\u064a \\u0627\\u0644\\u0645\\u062e\\u0644\\u0635\\u060c \\u0648\\u0627\\u0633\\u0645 \\u0627\\u0644\\u0623\\u0645 \\u0645\\u0627\\u0631\\u064a\\u062a \\u064a\\u0639\\u0646\\u064a \\u0644\\u0624\\u0644\\u0624\\u0629\\u060c \\u0648\\u0647\\u0646\\u0627\\u0643 \\u0627\\u0644\\u0637\\u0628\\u064a\\u0628 \\u0632\\u0627\\u064a\\u0631\\u064a \\u0623\\u064a \\u0646\\u0647\\u0631\\u060c \\u0648\\u0646\\u0648\\u0645\\u0627\\u0644\\u0627\\u063a\\u0627 \\u0646\\u0648\\u0631 \\u0627\\u0644\\u0634\\u0645\\u0633\\u060c \\u0648\\u0644\\u064a\\u0633\\u064a\\u062f\\u064a \\u0627\\u0645\\u0631\\u0623\\u0629 \\u0645\\u0646 \\u0646\\u0648\\u0631 \\u0648\\u0647\\u0643\\u0630\\u0627 \\u062f\\u0648\\u0627\\u0644\\u064a\\u0643. *\\u0645\\u0627 \\u0647\\u064a \\u0637\\u0628\\u064a\\u0639\\u0629 \\u0642\\u0631\\u0627\\u0621\\u0627\\u062a\\u0643\\u061f \\u0648\\u0645\\u0646 \\u0647\\u0648 \\u0627\\u0644\\u0643\\u0627\\u062a\\u0628 \\u0627\\u0644\\u0645\\u0641\\u0636\\u0644 \\u0644\\u062f\\u064a\\u0643 \\u0648\\u0644\\u0645\\u0627\\u0630\\u0627\\u061f- \\u0628\\u0627\\u0644\\u0646\\u0633\\u0628\\u0629 \\u0644\\u0642\\u0631\\u0627\\u0621\\u0627\\u062a\\u064a \\u0646\\u0627\\u062f\\u0631\\u0627\\u064b \\u0645\\u0627 \\u0623\\u0642\\u0631\\u0623 \\u0627\\u0644\\u0631\\u0648\\u0627\\u064a\\u0627\\u062a\\u060c \\u0625\\u0630 \\u062a\\u0633\\u062a\\u0647\\u0648\\u064a\\u0646\\u064a \\u0643\\u062a\\u0628 \\u0627\\u0644\\u0639\\u0644\\u0648\\u0645 \\u0643\\u0627\\u0644\\u0630\\u0631\\u0651\\u0629 \\u0648\\u0627\\u0644\\u0641\\u064a\\u0632\\u064a\\u0627\\u0621 \\u0648\\u0627\\u0644\\u0643\\u064a\\u0645\\u064a\\u0627\\u0621\\u060c \\u0625\\u0636\\u0627\\u0641\\u0629 \\u0625\\u0644\\u0649 \\u0627\\u0644\\u062a\\u0627\\u0631\\u064a\\u062e \\u0648\\u0627\\u0644\\u0633\\u064a\\u0631 \\u0627\\u0644\\u0630\\u0627\\u062a\\u064a\\u0629\\u060c \\u0648\\u0625\\u0646 \\u0643\\u0627\\u0646 \\u0647\\u0646\\u0627\\u0644\\u0643 \\u0643\\u0627\\u062a\\u0628 \\u0623\\u0639\\u0634\\u0642 \\u0643\\u062a\\u0628\\u0647 \\u0641\\u0647\\u0648 \\u062c\\u0648\\u0644 \\u0641\\u064a\\u0631\\u0646 \\u0627\\u0644\\u0645\\u0644\\u0642\\u0628 \\u0628\\u0623\\u0628\\u064a \\u0627\\u0644\\u062e\\u064a\\u0627\\u0644 \\u0627\\u0644\\u0639\\u0644\\u0645\\u064a\\u060c \\u0648\\u0623\\u0645\\u064a\\u0644 \\u0623\\u062d\\u064a\\u0627\\u0646\\u0627\\u064b \\u0644\\u0642\\u0631\\u0627\\u0621\\u0629 \\u0623\\u0639\\u0645\\u0627\\u0644 \\u062c\\u064a \\u0643\\u064a \\u0631\\u0648\\u0644\\u0646\\u063a \\u0645\\u0624\\u0644\\u0641\\u0629 \\u0633\\u0644\\u0633\\u0644\\u0629 \\u0647\\u0627\\u0631\\u064a \\u0628\\u0648\\u062a\\u0631 \\u0648\\u0628\\u0639\\u0636 \\u0627\\u0644\\u0642\\u0635\\u0635 \\u0627\\u0644\\u0623\\u062e\\u0631\\u0649\\u060c \\u0625\\u0630 \\u064a\\u0639\\u062c\\u0628\\u0646\\u064a \\u0623\\u0633\\u0644\\u0648\\u0628\\u0647\\u0627 \\u0627\\u0644\\u0645\\u0628\\u0647\\u0631 \\u062c\\u062f\\u0627\\u064b \\u0641\\u064a \\u0627\\u0644\\u062e\\u064a\\u0627\\u0644\\u060c \\u0648\\u0642\\u0635\\u0629 \\u0646\\u062c\\u0627\\u062d\\u0647\\u0627 \\u0627\\u0644\\u0645\\u0644\\u0647\\u0645\\u0629 \\u062c\\u062f\\u0627\\u064b \\u0628\\u0627\\u0644\\u0646\\u0633\\u0628\\u0629 \\u0644\\u064a\\u060c \\u0648\\u0645\\u0646 \\u0627\\u0644\\u0643\\u062a\\u0628 \\u0627\\u0644\\u0639\\u0631\\u0628\\u064a\\u0629 \\u062a\\u0633\\u062a\\u0647\\u0648\\u064a\\u0646\\u064a \\u0643\\u062a\\u0627\\u0628\\u0627\\u062a \\u062c\\u0645\\u0627\\u0644 \\u0627\\u0644\\u0634\\u062d\\u064a\\u060c \\u0625\\u0630 \\u0625\\u0646 \\u0633\\u0637\\u0648\\u0631 \\u0643\\u062a\\u0627\\u0628\\u0627\\u062a\\u0647 \\u062a\\u062d\\u062a\\u0648\\u064a \\u0639\\u0644\\u0649 \\u062c\\u0645\\u0644 \\u0641\\u0644\\u0633\\u0641\\u064a\\u0629 \\u0639\\u0645\\u064a\\u0642\\u0629 \\u0644\\u0647\\u0627 \\u0644\\u0630\\u062a\\u0647\\u0627 \\u0627\\u0644\\u062e\\u0627\\u0635\\u0629 \\u0641\\u064a \\u0646\\u0641\\u0633\\u064a\\u060c \\u0641\\u0647\\u0648 \\u064a\\u0633\\u062a\\u0637\\u064a\\u0639 \\u0623\\u0646 \\u064a\\u0634\\u0627\\u0647\\u062f \\u0627\\u0644\\u0623\\u0645\\u0648\\u0631 \\u0645\\u0646 \\u0632\\u0627\\u0648\\u064a\\u0629 \\u0645\\u062e\\u062a\\u0644\\u0641\\u0629. *\\u0645\\u0627 \\u0623\\u0647\\u0645 \\u0627\\u0644\\u062a\\u062d\\u062f\\u064a\\u0627\\u062a \\u0627\\u0644\\u062a\\u064a \\u0648\\u0627\\u062c\\u0647\\u062a\\u0643 \\u0623\\u062b\\u0646\\u0627\\u0621 \\u0631\\u062d\\u0644\\u062a\\u0643 \\u0645\\u0639 \\u0627\\u0644\\u0643\\u0644\\u0645\\u0629\\u061f- \\u0627\\u0644\\u062a\\u062d\\u062f\\u064a\\u0627\\u062a \\u0627\\u0644\\u062a\\u064a \\u062a\\u0648\\u0627\\u062c\\u0647 \\u0627\\u0644\\u0643\\u0627\\u062a\\u0628 \\u0643\\u062b\\u064a\\u0631\\u0629\\u060c \\u0641\\u0641\\u064a \\u0627\\u0644\\u0628\\u062f\\u0627\\u064a\\u0629 \\u064a\\u062a\\u0631\\u062a\\u0628 \\u0639\\u0644\\u064a\\u0647 \\u0623\\u0646 \\u064a\\u062a\\u063a\\u0644\\u0628 \\u0639\\u0644\\u0649 \\u0646\\u0641\\u0633\\u0647\\u060c \\u0641\\u0627\\u0644\\u0643\\u062a\\u0627\\u0628\\u0629 \\u0623\\u0645\\u0631 \\u0645\\u0631\\u0647\\u0642 \\u0648\\u064a\\u062a\\u0637\\u0644\\u0628 \\u0645\\u062c\\u0647\\u0648\\u062f\\u0627\\u064b \\u0641\\u0643\\u0631\\u064a\\u0627\\u064b \\u0648\\u062d\\u062a\\u0649 \\u062c\\u0633\\u062f\\u064a\\u0627\\u064b \\u0643\\u0628\\u064a\\u0631\\u0627\\u064b\\u060c \\u0641\\u0639\\u0644\\u064a\\u0647 \\u0623\\u0646 \\u064a\\u0624\\u0644\\u0641 \\u0639\\u0627\\u0644\\u0645\\u0627\\u064b \\u0645\\u062a\\u0643\\u0627\\u0645\\u0644\\u0627\\u064b \\u0628\\u0643\\u0644 \\u062a\\u0641\\u0627\\u0635\\u064a\\u0644\\u0647 \\u0648\\u064a\\u062a\\u062e\\u064a\\u0644 \\u0643\\u0644 \\u0630\\u0644\\u0643\\u060c \\u062b\\u0645 \\u0625\\u0646 \\u0627\\u0644\\u062c\\u0644\\u0648\\u0633 \\u0644\\u0641\\u062a\\u0631\\u0627\\u062a \\u0637\\u0648\\u064a\\u0644\\u0629 \\u0623\\u0645\\u0627\\u0645 \\u0627\\u0644\\u062d\\u0627\\u0633\\u0648\\u0628 \\u0623\\u0645\\u0631 \\u0645\\u0631\\u0647\\u0642 \\u0644\\u0644\\u0639\\u064a\\u0646\\u064a\\u0646 \\u0648\\u0627\\u0644\\u0638\\u0647\\u0631\\u060c \\u0623\\u0636\\u064a\\u0641\\u064a \\u0625\\u0644\\u0649 \\u0630\\u0644\\u0643 \\u0627\\u0644\\u062a\\u063a\\u0644\\u0628 \\u0639\\u0644\\u0649 \\u0627\\u0644\\u0623\\u0641\\u0643\\u0627\\u0631 \\u0627\\u0644\\u0633\\u0644\\u0628\\u064a\\u0629 \\u0627\\u0644\\u062a\\u064a \\u062a\\u062f\\u0639\\u0648\\u0647 \\u0644\\u0644\\u0631\\u0627\\u062d\\u0629 \\u0648\\u062a\\u0631\\u0643 \\u0627\\u0644\\u0639\\u0645\\u0644\\u060c \\u0641\\u0625\\u0646 \\u0646\\u062c\\u062d \\u0641\\u064a \\u0630\\u0644\\u0643 \\u0633\\u064a\\u0643\\u0648\\u0646 \\u0627\\u0644\\u0628\\u0627\\u0642\\u064a \\u0623\\u0633\\u0647\\u0644 \\u0644\\u0643\\u0646 \\u0644\\u0627 \\u064a\\u062e\\u0644\\u0648 \\u0645\\u0646 \\u0627\\u0644\\u062a\\u062d\\u062f\\u064a\\u060c \\u0641\\u0627\\u0644\\u0628\\u062d\\u062b \\u0639\\u0646 \\u0646\\u0627\\u0634\\u0631 \\u064a\\u0642\\u0628\\u0644 \\u0628\\u0646\\u0634\\u0631 \\u0627\\u0644\\u0639\\u0645\\u0644 \\u0623\\u0645\\u0631 \\u0645\\u062a\\u0639\\u0628\\u060c \\u0648\\u0625\\u0646 \\u0642\\u0628\\u0644 \\u0623\\u062d\\u062f\\u0647\\u0645 \\u0628\\u0627\\u0644\\u0639\\u0645\\u0644 \\u0641\\u0625\\u0646\\u0647 \\u0641\\u064a \\u0627\\u0644\\u063a\\u0627\\u0644\\u0628 \\u064a\\u0637\\u0644\\u0628 \\u0627\\u0644\\u0643\\u062b\\u064a\\u0631 \\u0645\\u0646 \\u0627\\u0644\\u062a\\u0635\\u062d\\u064a\\u062d \\u0648\\u0627\\u0644\\u062a\\u063a\\u064a\\u064a\\u0631\\u060c \\u0648\\u0645\\u0646\\u0647\\u0645 \\u0645\\u0646 \\u064a\\u0637\\u0627\\u0644\\u0628 \\u0627\\u0644\\u0643\\u0627\\u062a\\u0628 \\u0628\\u0627\\u0633\\u062a\\u062e\\u0631\\u0627\\u062c \\u0627\\u0644\\u0623\\u0648\\u0631\\u0627\\u0642 \\u0627\\u0644\\u0631\\u0633\\u0645\\u064a\\u0629 \\u0644\\u0644\\u0639\\u0645\\u0644 \\u0628\\u0646\\u0641\\u0633\\u0647 \\u0645\\u0627 \\u064a\\u062c\\u0644\\u0628 \\u0627\\u0644\\u0645\\u0634\\u0642\\u0629 \\u0648\\u0627\\u0644\\u0639\\u0646\\u0627\\u0621\\u060c \\u0648\\u0628\\u0639\\u062f \\u0643\\u0644 \\u0630\\u0644\\u0643 \\u064a\\u0642\\u0648\\u0645 \\u0627\\u0644\\u0646\\u0627\\u0634\\u0631 \\u0628\\u062a\\u062c\\u0647\\u064a\\u0632 \\u0627\\u0644\\u0646\\u0633\\u062e\\u0629 \\u0644\\u0644\\u0643\\u062a\\u0627\\u0628\\u0629 \\u0648\\u064a\\u0631\\u0633\\u0644\\u0647\\u0627 \\u0644\\u0644\\u0643\\u0627\\u062a\\u0628 \\u0644\\u064a\\u0631\\u0627\\u062c\\u0639\\u0647\\u0627 \\u0645\\u062c\\u062f\\u062f\\u0627\\u064b \\u0648\\u0644\\u0644\\u0645\\u0631\\u0629 \\u0627\\u0644\\u0623\\u062e\\u064a\\u0631\\u0629 \\u0648\\u064a\\u0645\\u0647\\u0644\\u0647 \\u0641\\u062a\\u0631\\u0629 \\u0644\\u0627 \\u062a\\u062a\\u0639\\u062f\\u0649 \\u0627\\u0644\\u062e\\u0645\\u0633\\u0629 \\u0639\\u0634\\u0631 \\u064a\\u0648\\u0645\\u0627\\u064b \\u0641\\u064a \\u0623\\u063a\\u0644\\u0628 \\u0627\\u0644\\u0623\\u062d\\u064a\\u0627\\u0646\\u060c \\u0648\\u062a\\u0643\\u0648\\u0646 \\u0647\\u064a \\u0627\\u0644\\u0641\\u0631\\u0635\\u0629 \\u0627\\u0644\\u0623\\u062e\\u064a\\u0631\\u0629 \\u0644\\u0644\\u0643\\u0627\\u062a\\u0628 \\u0644\\u0625\\u062c\\u0631\\u0627\\u0621 \\u0627\\u0644\\u062a\\u063a\\u064a\\u064a\\u0631\\u0627\\u062a\\u060c \\u0645\\u0627 \\u064a\\u062f\\u0641\\u0639\\u0647 \\u0644\\u0644\\u0627\\u0646\\u0634\\u063a\\u0627\\u0644 \\u0641\\u064a \\u0647\\u0630\\u0647 \\u0627\\u0644\\u0641\\u062a\\u0631\\u0629 \\u0648\\u0627\\u0644\\u063a\\u0631\\u0642 \\u0641\\u064a \\u0639\\u0645\\u0644\\u0647 \\u0625\\u0644\\u0649 \\u062c\\u0627\\u0646\\u0628 \\u0623\\u0639\\u0628\\u0627\\u0621 \\u062d\\u064a\\u0627\\u062a\\u0647 \\u0627\\u0644\\u064a\\u0648\\u0645\\u064a\\u0629 \\u0645\\u0646 \\u0639\\u0645\\u0644\\u064d \\u0648\\u0639\\u0627\\u0626\\u0644\\u0629\\u060c \\u0648\\u0647\\u0630\\u0627 \\u0641\\u064a \\u062d\\u062f \\u0630\\u0627\\u062a\\u0647 \\u064a\\u0634\\u0643\\u0644 \\u0636\\u063a\\u0637\\u0627\\u064b \\u0643\\u0628\\u064a\\u0631\\u0627\\u064b \\u0639\\u0644\\u064a\\u0647 \\u0648\\u0645\\u062f\\u0639\\u0627\\u0629 \\u0644\\u0644\\u062a\\u0631\\u0627\\u062c\\u0639\\u060c \\u0644\\u0643\\u0646 \\u0645\\u0627 \\u0623\\u0646 \\u064a\\u062a\\u0645 \\u0637\\u0628\\u0627\\u0639\\u0629 \\u0627\\u0644\\u0639\\u0645\\u0644 \\u0648\\u064a\\u0645\\u0633\\u0643\\u0647 \\u0627\\u0644\\u0643\\u0627\\u062a\\u0628 \\u0628\\u064a\\u0646 \\u064a\\u062f\\u064a\\u0647 \\u062d\\u062a\\u0649 \\u064a\\u062a\\u0628\\u062f\\u0644 \\u0627\\u0644\\u062a\\u0639\\u0628 \\u0625\\u0644\\u0649 \\u0633\\u0631\\u0648\\u0631\\u064d \\u063a\\u0627\\u0645\\u0631\\u060c \\u0647\\u0648 \\u0634\\u0639\\u0648\\u0631 \\u064a\\u0634\\u0628\\u0647 \\u0625\\u0644\\u0649 \\u062d\\u062f \\u0643\\u0628\\u064a\\u0631 \\u0627\\u0644\\u0634\\u0639\\u0648\\u0631 \\u0628\\u0648\\u0644\\u0627\\u062f\\u0629 \\u0637\\u0641\\u0644.\",\n          \"\\u0623\\u0628\\u0648\\u0638\\u0628\\u064a - \\u0639\\u0644\\u064a \\u0623\\u0633\\u0639\\u062f:\\u062d\\u0642\\u0642\\u062a \\u0627\\u0644\\u0623\\u0633\\u0647\\u0645 \\u0645\\u0643\\u0627\\u0633\\u0628 \\u062c\\u062f\\u064a\\u062f\\u0629 \\u0641\\u064a \\u0642\\u064a\\u0645\\u062a\\u0647\\u0627 \\u0627\\u0644\\u0633\\u0648\\u0642\\u064a\\u0629 \\u0628\\u0642\\u064a\\u0645\\u0629 239 \\u0645\\u0644\\u064a\\u0648\\u0646 \\u062f\\u0631\\u0647\\u0645 \\u0644\\u062a\\u0631\\u062a\\u0641\\u0639 \\u0625\\u0644\\u0649 54 .803 \\u0645\\u0644\\u064a\\u0627\\u0631 \\u062f\\u0631\\u0647\\u0645\\u060c \\u0648\\u0633\\u0637 \\u062a\\u062d\\u0633\\u0646 \\u062c\\u064a\\u062f \\u0641\\u064a \\u0627\\u0644\\u0633\\u064a\\u0648\\u0644\\u0629 \\u0627\\u0644\\u062a\\u064a \\u062a\\u062c\\u0627\\u0648\\u0632\\u062a 267 .2 \\u0645\\u0644\\u064a\\u0627\\u0631 \\u062f\\u0631\\u0647\\u0645\\u060c \\u0648\\u0627\\u0633\\u062a\\u062d\\u0648\\u0630 \\u0633\\u0647\\u0645 \\u0623\\u0631\\u0627\\u0628\\u062a\\u0643 \\u0627\\u0644\\u0642\\u0627\\u0628\\u0636\\u0629 \\u0639\\u0644\\u0649 1 .51% \\u0645\\u0646 \\u0625\\u062c\\u0645\\u0627\\u0644\\u064a \\u0627\\u0644\\u062a\\u062f\\u0627\\u0648\\u0644 \\u0641\\u064a \\u0633\\u0648\\u0642\\u064a \\u0623\\u0628\\u0648\\u0638\\u0628\\u064a \\u0648\\u062f\\u0628\\u064a \\u0627\\u0644\\u0645\\u0627\\u0644\\u064a\\u064a\\u0646\\u060c \\u0648\\u0647\\u0648 \\u0645\\u0627 \\u0623\\u062f\\u0649 \\u0625\\u0644\\u0649 \\u0636\\u063a\\u0637 \\u0627\\u0644\\u062a\\u062f\\u0627\\u0648\\u0644 \\u0639\\u0644\\u0649 \\u0627\\u0644\\u0639\\u062f\\u064a\\u062f \\u0645\\u0646 \\u0627\\u0644\\u0623\\u0633\\u0647\\u0645 \\u0628\\u0639\\u062f \\u0642\\u064a\\u0627\\u0645 \\u0645\\u0633\\u062a\\u062b\\u0645\\u0631\\u064a\\u0646 \\u0628\\u0627\\u0644\\u062a\\u0633\\u064a\\u064a\\u0644 \\u0639\\u0644\\u0649 \\u0628\\u0639\\u0636 \\u0627\\u0644\\u0623\\u0633\\u0647\\u0645 \\u0644\\u0634\\u0631\\u0627\\u0621 \\\"\\u0623\\u0631\\u0627\\u0628\\u062a\\u0643\\\" \\u0627\\u0644\\u0630\\u064a \\u0623\\u063a\\u0644\\u0642 \\u0639\\u0644\\u0649 \\u0627\\u0631\\u062a\\u0641\\u0627\\u0639 \\u0628\\u0646\\u0633\\u0628\\u0629 81 .4% \\u0639\\u0646\\u062f 79 .4 \\u062f\\u0631\\u0647\\u0645 \\u0645\\u062a\\u0623\\u062b\\u0631\\u0627\\u064b \\u0628\\u062a\\u0648\\u0642\\u0639\\u0627\\u062a \\u0628\\u0639\\u0636 \\u0627\\u0644\\u0645\\u0633\\u062a\\u062b\\u0645\\u0631\\u064a\\u0646 \\u0628\\u0642\\u064a\\u0627\\u0645 \\u062d\\u0633\\u0646 \\u0623\\u0633\\u0645\\u064a\\u0643 \\u0627\\u0644\\u0631\\u0626\\u064a\\u0633 \\u0627\\u0644\\u062a\\u0646\\u0641\\u064a\\u0630\\u064a \\u0627\\u0644\\u0633\\u0627\\u0628\\u0642 \\u0644\\u0644\\u0634\\u0631\\u0643\\u0629 \\u0628\\u0628\\u064a\\u0639 \\u062b\\u0644\\u062b \\u062d\\u0635\\u062a\\u0647 \\u0641\\u064a \\u0627\\u0644\\u0634\\u0631\\u0643\\u0629 \\u0628\\u0633\\u0639\\u0631 5 \\u062f\\u0631\\u0627\\u0647\\u0645 \\u0644\\u0644\\u0633\\u0647\\u0645 \\u0627\\u0644\\u0648\\u0627\\u062d\\u062f .\\u0648\\u0627\\u0631\\u062a\\u0641\\u0639 \\u0645\\u0624\\u0634\\u0631 \\u0633\\u0648\\u0642 \\u062f\\u0628\\u064a \\u0627\\u0644\\u0645\\u0627\\u0644\\u064a 23 .0% \\u0639\\u0646\\u062f \\u0645\\u0633\\u062a\\u0648\\u0649 13 .4986 \\u0646\\u0642\\u0637\\u0629\\u060c \\u0648\\u0645\\u0624\\u0634\\u0631 \\u0633\\u0648\\u0642 \\u0623\\u0628\\u0648\\u0638\\u0628\\u064a 26 .0% \\u0639\\u0646\\u062f \\u0645\\u0633\\u062a\\u0648\\u0649 82 .5128 \\u0646\\u0642\\u0637\\u0629 . \\u0648\\u0627\\u0631\\u062a\\u0641\\u0639 \\u0645\\u0624\\u0634\\u0631 \\u0633\\u0648\\u0642 \\u0627\\u0644\\u0625\\u0645\\u0627\\u0631\\u0627\\u062a 03 .0% \\u0639\\u0646\\u062f 12 .5350 \\u0646\\u0642\\u0637\\u0629 \\u0628\\u062f\\u0639\\u0645 \\u0631\\u0626\\u064a\\u0633 \\u0645\\u0646 \\u0623\\u0633\\u0647\\u0645 \\u0634\\u0631\\u0643\\u0627\\u062a \\u0627\\u0644\\u0639\\u0642\\u0627\\u0631 \\u0648\\u0627\\u0644\\u0635\\u0646\\u0627\\u0639\\u0629 \\u0648\\u0627\\u0644\\u062a\\u0623\\u0645\\u064a\\u0646 \\u0627\\u0644\\u062a\\u064a \\u0627\\u0631\\u062a\\u0641\\u0639\\u062a \\u0645\\u0624\\u0634\\u0631\\u0627\\u062a\\u0647\\u0627 \\u0627\\u0644\\u0642\\u0637\\u0627\\u0639\\u064a\\u0629 \\u0628\\u0646\\u0633\\u0628 \\u0645\\u062a\\u0641\\u0627\\u0648\\u062a\\u0629 \\u0623\\u0643\\u062b\\u0631\\u0647\\u0627 \\u0627\\u0631\\u062a\\u0641\\u0627\\u0639\\u0627\\u064b \\u0645\\u0624\\u0634\\u0631 \\u0627\\u0644\\u0639\\u0642\\u0627\\u0631 \\u0628\\u0646\\u0633\\u0628\\u0629 877 .0% . \\u0648\\u062a\\u0645 \\u062a\\u062f\\u0627\\u0648\\u0644 \\u0623\\u0633\\u0647\\u0645 65 \\u0634\\u0631\\u0643\\u0629 \\u0628\\u0645\\u0642\\u062f\\u0627\\u0631 27 .748 \\u0645\\u0644\\u064a\\u0648\\u0646 \\u0633\\u0647\\u0645 \\u0646\\u0641\\u0630\\u062a \\u0645\\u0646 \\u062e\\u0644\\u0627\\u0644 11991 \\u0635\\u0641\\u0642\\u0629 \\u0628\\u0642\\u064a\\u0645\\u0629 267 .2 \\u0645\\u0644\\u064a\\u0627\\u0631 \\u062f\\u0631\\u0647\\u0645\\u060c \\u0648\\u0627\\u0633\\u062a\\u062d\\u0648\\u0630\\u062a \\u0623\\u0633\\u0647\\u0645 \\u0634\\u0631\\u0643\\u0627\\u062a \\u0627\\u0644\\u0639\\u0642\\u0627\\u0631 \\u0639\\u0644\\u0649 \\u0627\\u0644\\u062d\\u0635\\u0629 \\u0627\\u0644\\u0623\\u0643\\u0628\\u0631 \\u0645\\u0646 \\u0627\\u0644\\u0633\\u064a\\u0648\\u0644\\u0629 \\u0628\\u0642\\u064a\\u0645\\u0629 805 .1 \\u0645\\u0644\\u064a\\u0627\\u0631 \\u062f\\u0631\\u0647\\u0645 .\\u0648\\u062a\\u0635\\u062f\\u0631 \\u0633\\u0647\\u0645 \\u0623\\u0631\\u0627\\u0628\\u062a\\u0643 \\u0642\\u0627\\u0626\\u0645\\u0629 \\u0627\\u0644\\u0623\\u0633\\u0647\\u0645 \\u0627\\u0644\\u0623\\u0643\\u062b\\u0631 \\u062a\\u062f\\u0627\\u0648\\u0644\\u0627\\u064b \\u0628\\u0642\\u064a\\u0645\\u0629 159 .1 \\u0645\\u0644\\u064a\\u0627\\u0631 \\u062f\\u0631\\u0647\\u0645\\u060c \\u0648\\u0623\\u063a\\u0644\\u0642 \\u0633\\u0639\\u0631 \\u0627\\u0644\\u0633\\u0647\\u0645 \\u0639\\u0644\\u0649 \\u0627\\u0631\\u062a\\u0641\\u0627\\u0639 \\u0628\\u0646\\u0633\\u0628\\u0629 81 .4% \\u0639\\u0646\\u062f 79 .4 \\u062f\\u0631\\u0647\\u0645\\u060c \\u0648\\u0646\\u0641\\u0630\\u062a \\u0635\\u0641\\u0642\\u0627\\u062a \\u0639\\u0644\\u0649 \\u0627\\u0644\\u0633\\u0647\\u0645 \\u0639\\u0646\\u062f \\u0633\\u0639\\u0631 94 .4 \\u062f\\u0631\\u0647\\u0645\\u060c \\u0648\\u0647\\u0648 \\u0623\\u0639\\u0644\\u0649 \\u0633\\u0639\\u0631 \\u0646\\u0641\\u0630 \\u0639\\u0644\\u064a\\u0629 \\u062e\\u0644\\u0627\\u0644 \\u062c\\u0644\\u0633\\u0629 \\u064a\\u0648\\u0645 \\u0623\\u0645\\u0633\\u060c \\u0648\\u0639\\u0627\\u062f \\u0627\\u0644\\u0633\\u0647\\u0645 \\u0648\\u062a\\u0631\\u0627\\u062c\\u0639 \\u0625\\u0644\\u0649 79 .4 \\u062f\\u0631\\u0647\\u0645 \\u062a\\u062d\\u062a \\u0636\\u063a\\u0637 \\u0639\\u0645\\u0644\\u064a\\u0627\\u062a \\u062c\\u0646\\u064a \\u0627\\u0644\\u0623\\u0631\\u0628\\u0627\\u062d \\u062e\\u0644\\u0627\\u0644 \\u0627\\u0644\\u062c\\u0644\\u0633\\u0629 \\u0646\\u0641\\u0633\\u0647\\u0627 . \\u0648\\u062c\\u0627\\u0621 \\u0633\\u0647\\u0645 \\u0627\\u0644\\u062f\\u0627\\u0631 \\u0627\\u0644\\u0639\\u0642\\u0627\\u0631\\u064a\\u0629 \\u0641\\u064a \\u0627\\u0644\\u0645\\u0631\\u0643\\u0632 \\u0627\\u0644\\u062b\\u0627\\u0646\\u064a \\u0628\\u062a\\u062f\\u0627\\u0648\\u0644 2 .268 \\u0645\\u0644\\u064a\\u0648\\u0646 \\u062f\\u0631\\u0647\\u0645\\u060c \\u0648\\u0627\\u0631\\u062a\\u0641\\u0639 \\u0633\\u0639\\u0631 \\u0627\\u0644\\u0633\\u0647\\u0645 8 \\u0641\\u0644\\u0648\\u0633 \\u0639\\u0646\\u062f 02 .4 \\u062f\\u0631\\u0647\\u0645 . \\u0648\\u062c\\u0627\\u0621 \\u0633\\u0647\\u0645 \\u0625\\u0639\\u0645\\u0627\\u0631 \\u0627\\u0644\\u0639\\u0642\\u0627\\u0631\\u064a\\u0629 \\u0641\\u064a \\u0627\\u0644\\u0645\\u0631\\u0643\\u0632 \\u0627\\u0644\\u062b\\u0627\\u0644\\u062b \\u0628\\u062a\\u062f\\u0627\\u0648\\u0644 8 .125 \\u0645\\u0644\\u064a\\u0648\\u0646 \\u062f\\u0631\\u0647\\u0645\\u060c \\u0648\\u062a\\u0631\\u0627\\u062c\\u0639 \\u0627\\u0644\\u0633\\u0647\\u0645 5 \\u0641\\u0644\\u0648\\u0633 \\u0646\\u062d\\u0648 48 .0% \\u0639\\u0646\\u062f 4 .10 \\u062f\\u0631\\u0647\\u0645 . \\u0648\\u0627\\u062d\\u062a\\u0644 \\u0633\\u0647\\u0645 \\u0627\\u0644\\u0627\\u062a\\u062d\\u0627\\u062f \\u0627\\u0644\\u0639\\u0642\\u0627\\u0631\\u064a\\u0629 \\u0627\\u0644\\u0645\\u0631\\u0643\\u0632 \\u0627\\u0644\\u0631\\u0627\\u0628\\u0639 \\u0628\\u062a\\u062f\\u0627\\u0648\\u0644 123 \\u0645\\u0644\\u064a\\u0648\\u0646 \\u062f\\u0631\\u0647\\u0645 \\u0648\\u062a\\u0631\\u0627\\u062c\\u0639 \\u0627\\u0644\\u0633\\u0647\\u0645 \\u0641\\u0644\\u0633\\u0627\\u064b \\u0648\\u0627\\u062d\\u062f\\u0627\\u064b \\u0646\\u062d\\u0648 44 .0% \\u0639\\u0646\\u062f 28 .2 \\u062f\\u0631\\u0647\\u0645 . \\u0648\\u062c\\u0627\\u0621 \\u0633\\u0647\\u0645 \\u0633\\u0648\\u0642 \\u062f\\u0628\\u064a \\u0627\\u0644\\u0645\\u0627\\u0644\\u064a \\u0641\\u064a \\u0627\\u0644\\u0645\\u0631\\u0643\\u0632 \\u0627\\u0644\\u062e\\u0627\\u0645\\u0633 \\u0628\\u062a\\u062f\\u0627\\u0648\\u0644 3 .83 \\u0645\\u0644\\u064a\\u0648\\u0646 \\u062f\\u0631\\u0647\\u0645\\u060c \\u0648\\u062a\\u0631\\u0627\\u062c\\u0639 \\u0627\\u0644\\u0633\\u0647\\u0645 14 .1 % \\u0639\\u0646\\u062f 47 .3 \\u062f\\u0631\\u0647\\u0645 .\\u0648\\u062a\\u0635\\u062f\\u0631 \\u0633\\u0647\\u0645 \\u062f\\u0628\\u064a \\u0627\\u0644\\u0648\\u0637\\u0646\\u064a\\u0629 \\u0644\\u0644\\u062a\\u0623\\u0645\\u064a\\u0646 \\u0642\\u0627\\u0626\\u0645\\u0629 \\u0627\\u0644\\u0623\\u0633\\u0647\\u0645 \\u0627\\u0644\\u0623\\u0643\\u062b\\u0631 \\u0627\\u0631\\u062a\\u0641\\u0627\\u0639\\u0627\\u064b \\u0641\\u064a \\u0627\\u0644\\u0623\\u0633\\u0639\\u0627\\u0631\\u060c \\u0648\\u0635\\u0639\\u062f \\u0627\\u0644\\u0633\\u0647\\u0645 \\u0628\\u0627\\u0644\\u062d\\u062f \\u0627\\u0644\\u0623\\u0639\\u0644\\u0649 71 .14% \\u0639\\u0646\\u062f 9 .3 \\u062f\\u0631\\u0647\\u0645 \\u0645\\u062d\\u0642\\u0642\\u0627\\u064b \\u0645\\u0643\\u0627\\u0633\\u0628 \\u0645\\u0642\\u062f\\u0627\\u0631\\u0647\\u0627 50 \\u0641\\u0644\\u0633\\u0627\\u064b \\u0648\\u0633\\u0637 \\u062a\\u062f\\u0627\\u0648\\u0644\\u0627\\u062a \\u0636\\u0639\\u064a\\u0641\\u0629 \\u0628\\u0644\\u063a\\u062a \\u0623\\u0642\\u0644 \\u0645\\u0646 2000 \\u062f\\u0631\\u0647\\u0645 \\u0641\\u0642\\u0637 . \\u0643\\u0645\\u0627 \\u0627\\u0631\\u062a\\u0641\\u0639 \\u0633\\u0647\\u0645 \\u0627\\u0644\\u0647\\u0644\\u0627\\u0644 \\u0627\\u0644\\u0623\\u062e\\u0636\\u0631 \\u0644\\u0644\\u062a\\u0623\\u0645\\u064a\\u0646 12 .6% \\u0625\\u0644\\u0649 4_ .1 \\u062f\\u0631\\u0647\\u0645 . \\u0648\\u0641\\u064a \\u0627\\u0644\\u0645\\u0642\\u0627\\u0628\\u0644 \\u062a\\u0635\\u062f\\u0631 \\u0633\\u0647\\u0645 \\\"\\u0623\\u0631\\u064a\\u062c\\\" \\u0642\\u0627\\u0626\\u0645\\u0629 \\u0627\\u0644\\u0623\\u0633\\u0647\\u0645 \\u0627\\u0644\\u0623\\u0643\\u062b\\u0631 \\u062a\\u0631\\u0627\\u062c\\u0639\\u0627\\u064b \\u0641\\u064a \\u0627\\u0644\\u0623\\u0633\\u0639\\u0627\\u0631\\u060c \\u0648\\u0647\\u0628\\u0637 \\u0627\\u0644\\u0633\\u0647\\u0645 \\u0628\\u0627\\u0644\\u062d\\u062f \\u0627\\u0644\\u0623\\u062f\\u0646\\u0649 10% \\u0639\\u0646\\u062f 97 .2 \\u062f\\u0631\\u0647\\u0645 . \\u0643\\u0645\\u0627 \\u0647\\u0628\\u0637 \\u0633\\u0647\\u0645 \\u0627\\u0644\\u0628\\u0646\\u0643 \\u0627\\u0644\\u0639\\u0631\\u0628\\u064a \\u0627\\u0644\\u0645\\u062a\\u062d\\u062f 43 .8% \\u0639\\u0646\\u062f 41 .6 \\u062f\\u0631\\u0647\\u0645 .\\u0648\\u0627\\u062a\\u062c\\u0647 \\u0627\\u0644\\u0645\\u0633\\u062a\\u062b\\u0645\\u0631\\u0648\\u0646 \\u0627\\u0644\\u0645\\u0648\\u0627\\u0637\\u0646\\u0648\\u0646 \\u062e\\u0644\\u0627\\u0644 \\u062c\\u0644\\u0633\\u0629 \\u0623\\u0645\\u0633 \\u0646\\u062d\\u0648 \\u0634\\u0631\\u0627\\u0621 \\u0627\\u0644\\u0623\\u0633\\u0647\\u0645 \\u0628\\u0642\\u064a\\u0645\\u0629 437 .1 \\u0645\\u0644\\u064a\\u0627\\u0631 \\u062f\\u0631\\u0647\\u0645\\u060c \\u0648\\u0628\\u0644\\u063a\\u062a \\u0645\\u0628\\u064a\\u0639\\u0627\\u062a\\u0647\\u0645 376 .1 \\u0645\\u0644\\u064a\\u0627\\u0631 \\u062f\\u0631\\u0647\\u0645\\u060c \\u0648\\u0648\\u0635\\u0644 \\u0635\\u0627\\u0641\\u064a \\u0627\\u0633\\u062a\\u062b\\u0645\\u0627\\u0631\\u062a\\u0647\\u0645 \\u0625\\u0644\\u0649 6 .60 \\u0645\\u0644\\u064a\\u0648\\u0646 \\u062f\\u0631\\u0647\\u0645 \\u0645\\u062d\\u0635\\u0644\\u0629 \\u0634\\u0631\\u0627\\u0621 . \\u0643\\u0645\\u0627 \\u0627\\u062a\\u062c\\u0647 \\u0627\\u0644\\u0645\\u0633\\u062a\\u062b\\u0645\\u0631\\u0648\\u0646 \\u0627\\u0644\\u0623\\u062c\\u0627\\u0646\\u0628 \\u0645\\u0646 \\u063a\\u064a\\u0631 \\u0627\\u0644\\u0639\\u0631\\u0628 \\u0646\\u062d\\u0648 \\u0634\\u0631\\u0627\\u0621 \\u0627\\u0644\\u0623\\u0633\\u0647\\u0645 \\u0628\\u0642\\u064a\\u0645\\u0629 8 .267 \\u0645\\u0644\\u064a\\u0648\\u0646 \\u062f\\u0631\\u0647\\u0645\\u060c \\u0648\\u0628\\u0644\\u063a\\u062a \\u0645\\u0628\\u064a\\u0639\\u0627\\u062a\\u0647\\u0645 7 .237 \\u0645\\u0644\\u064a\\u0648\\u0646 \\u062f\\u0631\\u0647\\u0645\\u060c \\u0648\\u0648\\u0635\\u0644 \\u0635\\u0627\\u0641\\u064a \\u0627\\u0633\\u062a\\u062b\\u0645\\u0627\\u0631\\u0627\\u062a\\u0647\\u0645 \\u0625\\u0644\\u0649 2 .30 \\u0645\\u0644\\u064a\\u0648\\u0646 \\u062f\\u0631\\u0647\\u0645 \\u0645\\u062d\\u0635\\u0644\\u0629 \\u0634\\u0631\\u0627\\u0621 . \\u0648\\u0631\\u0643\\u0632 \\u0627\\u0644\\u0645\\u0633\\u062a\\u062b\\u0645\\u0631\\u0648\\u0646 \\u0627\\u0644\\u0623\\u062c\\u0627\\u0646\\u0628 \\u0645\\u0634\\u062a\\u0631\\u064a\\u0627\\u062a\\u0647\\u0645 \\u0639\\u0644\\u0649 \\u0623\\u0633\\u0647\\u0645 \\u0645\\u062d\\u062f\\u062f\\u0629\\u060c \\u0648\\u0632\\u0627\\u062f\\u0648\\u0627 \\u0645\\u0644\\u0643\\u064a\\u062a\\u0647\\u0645 \\u0641\\u064a \\u0627\\u0644\\u0627\\u062a\\u062d\\u0627\\u062f \\u0627\\u0644\\u0639\\u0642\\u0627\\u0631\\u064a\\u0629 \\u0628\\u0645\\u0642\\u062f\\u0627\\u0631 5 .3 \\u0645\\u0644\\u064a\\u0648\\u0646 \\u0633\\u0647\\u0645\\u060c \\u0648\\u0641\\u064a \\u0631\\u0623\\u0633 \\u0627\\u0644\\u062e\\u064a\\u0645\\u0629 \\u0628\\u0645\\u0642\\u062f\\u0627\\u063199 .2 \\u0645\\u0644\\u064a\\u0648\\u0646 \\u0633\\u0647\\u0645\\u060c \\u0648\\u0641\\u064a \\u0625\\u0639\\u0645\\u0627\\u0631 \\u0627\\u0644\\u0639\\u0642\\u0627\\u0631\\u064a\\u0629 \\u0628\\u0645\\u0642\\u062f\\u0627\\u0631 7 .2 \\u0645\\u0644\\u064a\\u0648\\u0646 \\u0633\\u0647\\u0645\\u060c \\u0648\\u0641\\u064a \\u0627\\u0644\\u062f\\u0627\\u0631 \\u0627\\u0644\\u0639\\u0642\\u0627\\u0631\\u064a\\u0629 \\u0628\\u0645\\u0642\\u062f\\u0627\\u0631 4 .1 \\u0645\\u0644\\u064a\\u0648\\u0646 \\u0633\\u0647\\u0645 . \\u0648\\u0641\\u064a \\u0627\\u0644\\u0645\\u0642\\u0627\\u0628\\u0644 \\u062e\\u0641\\u0636\\u0648\\u0627 \\u0645\\u0644\\u0643\\u064a\\u062a\\u0647\\u0645 \\u0641\\u064a \\u0623\\u0631\\u0627\\u0628\\u062a\\u0643 \\u0628\\u0645\\u0642\\u062f\\u0627\\u0631 7 .5 \\u0645\\u0644\\u064a\\u0648\\u0646 \\u0633\\u0647\\u0645\\u060c \\u0648\\u0641\\u064a \\u062f\\u0628\\u064a \\u0627\\u0644\\u0645\\u0627\\u0644\\u064a \\u0628\\u0645\\u0642\\u062f\\u0627\\u0631 4 .2 \\u0645\\u0644\\u064a\\u0648\\u0646 \\u0633\\u0647\\u0645\\u060c \\u0648\\u0641\\u064a \\u0633\\u064a\\u0631\\u0627\\u0645\\u064a\\u0643 \\u0631\\u0623\\u0633 \\u0627\\u0644\\u062e\\u064a\\u0645\\u0629 \\u0628\\u0645\\u0642\\u062f\\u0627\\u0631 4 .640 \\u0623\\u0644\\u0641 \\u0633\\u0647\\u0645 .\\u0648\\u0627\\u062a\\u062c\\u0647 \\u0627\\u0644\\u0645\\u0633\\u062a\\u062b\\u0645\\u0631\\u0648\\u0646 \\u0627\\u0644\\u062e\\u0644\\u064a\\u062c\\u064a\\u0648\\u0646 \\u0648\\u0627\\u0644\\u0639\\u0631\\u0628 \\u0646\\u062d\\u0648 \\u0628\\u064a\\u0639 \\u0627\\u0644\\u0623\\u0633\\u0647\\u0645\\u060c \\u0648\\u0634\\u0643\\u0644\\u062a \\u0645\\u0628\\u064a\\u0639\\u0627\\u062a\\u0647\\u0645 \\u0636\\u063a\\u0648\\u0637\\u0627\\u064b \\u0639\\u0644\\u0649 \\u062d\\u0631\\u0643\\u0629 \\u0627\\u0644\\u0623\\u0633\\u0648\\u0627\\u0642\\u060c \\u0648\\u0628\\u0644\\u063a \\u0635\\u0627\\u0641\\u064a \\u0627\\u0633\\u062a\\u062b\\u0645\\u0627\\u0631\\u0627\\u062a \\u0627\\u0644\\u0639\\u0631\\u0628 7 .27 \\u0645\\u0644\\u064a\\u0648\\u0646 \\u0633\\u0647\\u0645 \\u0645\\u062d\\u0635\\u0644\\u0629 \\u0628\\u064a\\u0639\\u060c \\u0641\\u064a\\u0645\\u0627 \\u0628\\u0644\\u063a \\u0635\\u0627\\u0641\\u064a \\u0627\\u0633\\u062a\\u062b\\u0645\\u0627\\u0631\\u0627\\u062a \\u0627\\u0644\\u062e\\u0644\\u064a\\u062c\\u064a\\u064a\\u0646 1 .63 \\u0645\\u0644\\u064a\\u0648\\u0646 \\u0633\\u0647\\u0645 \\u0645\\u062d\\u0635\\u0644\\u0629 \\u0628\\u064a\\u0639 . \\u0628\\u062f\\u0648\\u0631\\u0647\\u0627 \\u0627\\u062a\\u062c\\u0647\\u062a \\u0627\\u0644\\u0645\\u062d\\u0627\\u0641\\u0638 \\u0627\\u0644\\u0627\\u0633\\u062a\\u062b\\u0645\\u0627\\u0631\\u064a\\u0629 \\u0646\\u062d\\u0648 \\u0628\\u064a\\u0639 \\u0627\\u0644\\u0623\\u0633\\u0647\\u0645 \\u0648\\u0634\\u0643\\u0644\\u062a \\u0645\\u0628\\u064a\\u0639\\u0627\\u062a\\u0647\\u0627 \\u0627\\u0644\\u0628\\u0627\\u0644\\u063a\\u0629 3 .490 \\u0645\\u0644\\u064a\\u0648\\u0646 \\u062f\\u0631\\u0647\\u0645 \\u0636\\u063a\\u0648\\u0637\\u0627\\u064b \\u0639\\u0644\\u0649 \\u062d\\u0631\\u0643\\u0629 \\u0627\\u0644\\u0623\\u0633\\u0648\\u0627\\u0642\\u060c \\u0641\\u064a\\u0645\\u0627 \\u0628\\u0644\\u063a\\u062a \\u0645\\u0634\\u062a\\u0631\\u064a\\u0627\\u062a\\u0647\\u0627 7 .382 \\u0645\\u0644\\u064a\\u0648\\u0646 \\u062f\\u0631\\u0647\\u0645\\u060c \\u0648\\u0648\\u0635\\u0644 \\u0635\\u0627\\u0641\\u064a \\u0627\\u0633\\u062a\\u062b\\u0645\\u0627\\u0631\\u0627\\u062a\\u0647\\u0627 \\u0625\\u0644\\u0649 7 .107 \\u0645\\u0644\\u064a\\u0648\\u0646 \\u062f\\u0631\\u0647\\u0645 \\u0645\\u062d\\u0635\\u0644\\u0629 \\u0628\\u064a\\u0639\\u060c \\u0648\\u0641\\u064a \\u0627\\u0644\\u0645\\u0642\\u0627\\u0628\\u0644 \\u0627\\u062a\\u062c\\u0647 \\u0627\\u0644\\u0645\\u0633\\u062a\\u062b\\u0645\\u0631\\u0648\\u0646 \\u0627\\u0644\\u0623\\u0641\\u0631\\u0627\\u062f \\u0646\\u062d\\u0648 \\u0634\\u0631\\u0627\\u0621 \\u0627\\u0644\\u0623\\u0633\\u0647\\u0645 \\u0628\\u0635\\u0627\\u0641\\u064a \\u0627\\u0633\\u062a\\u062b\\u0645\\u0627\\u0631 \\u0648\\u0635\\u0644 \\u0625\\u0644\\u0649 7 .107 \\u0645\\u0644\\u064a\\u0648\\u0646 \\u062f\\u0631\\u0647\\u0645 \\u0645\\u062d\\u0635\\u0644\\u0629 \\u0634\\u0631\\u0627\\u0621 . \\u0623\\u0633\\u0645\\u064a\\u0643 \\u064a\\u0631\\u0641\\u0636 \\u0639\\u0631\\u0636\\u0627\\u064b \\u0644\\u0628\\u064a\\u0639 \\u062c\\u0632\\u0621 \\u0645\\u0646 \\u062d\\u0635\\u062a\\u0647 \\u0641\\u064a \\\"\\u0623\\u0631\\u0627\\u0628\\u062a\\u0643\\\" \\u0628\\u0640 5 \\u062f\\u0631\\u0627\\u0647\\u0645 \\u0644\\u0644\\u0633\\u0647\\u0645 \\u0631\\u0641\\u0636 \\u062d\\u0633\\u0646 \\u0623\\u0633\\u0645\\u064a\\u0643\\u060c \\u0627\\u0644\\u0631\\u0626\\u064a\\u0633 \\u0627\\u0644\\u062a\\u0646\\u0641\\u064a\\u0630\\u064a \\u0627\\u0644\\u0633\\u0627\\u0628\\u0642 \\u0644\\u0634\\u0631\\u0643\\u0629 \\\"\\u0623\\u0631\\u0627\\u0628\\u062a\\u0643 \\u0627\\u0644\\u0642\\u0627\\u0628\\u0636\\u0629\\\" \\u0639\\u0631\\u0636\\u0627\\u064b \\u0645\\u0646 \\u0642\\u0628\\u0644 \\u0634\\u0631\\u0643\\u0629 \\\"\\u0622\\u0628\\u0627\\u0631 \\u0644\\u0644\\u0627\\u0633\\u062a\\u062b\\u0645\\u0627\\u0631\\\" \\u0644\\u0628\\u064a\\u0639 \\u062c\\u0632\\u0621 \\u0645\\u0646 \\u062d\\u0635\\u062a\\u0647 \\u0641\\u064a \\\"\\u0623\\u0631\\u0627\\u0628\\u062a\\u0643\\\" \\u0628\\u0642\\u064a\\u0645\\u0629 5 \\u062f\\u0631\\u0627\\u0647\\u0645 \\u0644\\u0644\\u0633\\u0647\\u0645 \\u0627\\u0644\\u0648\\u0627\\u062d\\u062f . \\u0648\\u0623\\u0648\\u0636\\u062d \\u0623\\u0633\\u0645\\u064a\\u0643 \\u0641\\u064a \\u0645\\u0642\\u0627\\u0628\\u0644\\u0629 \\u0647\\u0627\\u062a\\u0641\\u064a\\u0629 \\u0645\\u0639 \\\"\\u0628\\u0644\\u0648\\u0645\\u0628\\u064a\\u0631\\u063a\\\" \\u0623\\u0646 \\\"\\u0622\\u0628\\u0627\\u0631\\\" \\u0644\\u0627 \\u062a\\u0632\\u0627\\u0644 \\u062a\\u062a\\u0641\\u0627\\u0648\\u0636 \\u0645\\u0639\\u0647 \\u0644\\u0628\\u064a\\u0639 \\u0646\\u0635\\u0641 \\u062d\\u0635\\u062a\\u0647 \\u0641\\u064a \\u0627\\u0644\\u0634\\u0631\\u0643\\u0629\\u060c \\u0645\\u0634\\u064a\\u0631\\u0627\\u064b \\u0625\\u0644\\u0649 \\u0623\\u0646\\u0647 \\u064a\\u0633\\u0639\\u0649 \\u0625\\u0644\\u0649 \\u0628\\u064a\\u0639 \\u062d\\u0635\\u062a\\u0647 \\u0628\\u0633\\u0639\\u0631 \\u064a\\u0632\\u064a\\u062f \\u0639\\u0644\\u0649 5 \\u062f\\u0631\\u0627\\u0647\\u0645 \\u0644\\u0644\\u0633\\u0647\\u0645 .\\u0645\\u0646 \\u062c\\u0647\\u0629 \\u0623\\u062e\\u0631\\u0649\\u060c \\u0642\\u0627\\u0644 \\u062d\\u0633\\u0646 \\u0623\\u0633\\u0645\\u064a\\u0643 \\u0625\\u0646\\u0647 \\u064a\\u062c\\u0631\\u064a \\u0645\\u062d\\u0627\\u062f\\u062b\\u0627\\u062a \\u062d\\u0648\\u0644 \\u0628\\u064a\\u0639 \\u062c\\u0632\\u0621 \\u0645\\u0646 \\u062d\\u0635\\u062a\\u0647 \\u0627\\u0644\\u0628\\u0627\\u0644\\u063a\\u0629 9 .27% \\u0644\\u0635\\u0646\\u062f\\u0648\\u0642 \\u0622\\u0628\\u0627\\u0631 \\u0644\\u0644\\u0627\\u0633\\u062a\\u062b\\u0645\\u0627\\u0631\\u0627\\u062a \\u0641\\u064a \\u0623\\u0628\\u0648\\u0638\\u0628\\u064a \\u0648\\u064a\\u0631\\u064a\\u062f \\u0633\\u0639\\u0631\\u0627\\u064b \\u064a\\u062a\\u062c\\u0627\\u0648\\u0632 5 \\u062f\\u0631\\u0627\\u0647\\u0645 \\u0644\\u0644\\u0633\\u0647\\u0645\\u060c \\u0648\\u0647\\u0648 \\u0645\\u0627 \\u064a\\u0641\\u0648\\u0642 \\u0633\\u0639\\u0631 \\u0627\\u0644\\u0633\\u0648\\u0642 \\u0627\\u0644\\u062d\\u0627\\u0644\\u064a \\u0628\\u0646\\u062d\\u0648 4% .\\u0648\\u0642\\u0627\\u0644 \\u0644\\\"\\u0631\\u0648\\u064a\\u062a\\u0631\\u0632\\\" \\u0639\\u0628\\u0631 \\u0627\\u0644\\u0647\\u0627\\u062a\\u0641: \\\"\\u062e\\u0645\\u0633\\u0629 \\u062f\\u0631\\u0627\\u0647\\u0645 \\u0644\\u0644\\u0633\\u0647\\u0645 \\u0644\\u064a\\u0633\\u062a \\u0645\\u0642\\u0628\\u0648\\u0644\\u0629 \\u0628\\u0627\\u0644\\u0646\\u0633\\u0628\\u0629 \\u0625\\u0644\\u064a\\\" .\\u0648\\u0642\\u0641\\u0632 \\u0633\\u0639\\u0631 \\u0633\\u0647\\u0645 \\u0623\\u0631\\u0627\\u0628\\u062a\\u0643 13% \\u0625\\u0644\\u0649 97 .4 \\u062f\\u0631\\u0647\\u0645 \\u0641\\u064a \\u0627\\u0644\\u062c\\u0644\\u0633\\u0627\\u062a \\u0627\\u0644\\u0623\\u0631\\u0628\\u0639 \\u0627\\u0644\\u0623\\u062e\\u064a\\u0631\\u0629 .\"\n        ],\n        \"semantic_type\": \"\",\n        \"description\": \"\"\n      }\n    },\n    {\n      \"column\": \"label\",\n      \"properties\": {\n        \"dtype\": \"category\",\n        \"num_unique_values\": 3,\n        \"samples\": [\n          \"Culture\",\n          \"Finance\",\n          \"Medical\"\n        ],\n        \"semantic_type\": \"\",\n        \"description\": \"\"\n      }\n    }\n  ]\n}"
            }
          },
          "metadata": {},
          "execution_count": 10
        }
      ]
    },
    {
      "cell_type": "markdown",
      "id": "790b4a9e",
      "metadata": {
        "id": "790b4a9e"
      },
      "source": [
        "## Step 3: Splitting the Dataset"
      ]
    },
    {
      "cell_type": "markdown",
      "id": "66c8c1f4",
      "metadata": {
        "id": "66c8c1f4"
      },
      "source": [
        "Split the dataset into training and testing sets, ensuring that 20% of the data is used for testing."
      ]
    },
    {
      "cell_type": "code",
      "source": [
        "df.columns"
      ],
      "metadata": {
        "id": "SMBwtez4kb2o",
        "outputId": "57d3a4a4-ff29-40c7-d659-927295b4d4ae",
        "colab": {
          "base_uri": "https://localhost:8080/"
        }
      },
      "id": "SMBwtez4kb2o",
      "execution_count": null,
      "outputs": [
        {
          "output_type": "execute_result",
          "data": {
            "text/plain": [
              "Index(['text', 'label'], dtype='object')"
            ]
          },
          "metadata": {},
          "execution_count": 11
        }
      ]
    },
    {
      "cell_type": "code",
      "execution_count": null,
      "id": "3f839fea",
      "metadata": {
        "id": "3f839fea"
      },
      "outputs": [],
      "source": [
        "from sklearn.model_selection import train_test_split\n",
        "\n",
        "\n",
        "\n",
        "#X=df['text']\n",
        "#y=df['label']\n",
        "\n",
        "#X_train,X_test,y_train,y_test= train_test_split(X,y, test_size=0.2, random_state=42)\n",
        "\n"
      ]
    },
    {
      "cell_type": "code",
      "source": [
        "train_df , test_df=train_test_split(df ,test_size=0.2, random_state=42)"
      ],
      "metadata": {
        "id": "U2HqEpOav_Ml"
      },
      "id": "U2HqEpOav_Ml",
      "execution_count": null,
      "outputs": []
    },
    {
      "cell_type": "markdown",
      "id": "091d3694",
      "metadata": {
        "id": "091d3694"
      },
      "source": [
        "## Step 4: Tokenizing the Data"
      ]
    },
    {
      "cell_type": "markdown",
      "id": "c6418768",
      "metadata": {
        "id": "c6418768"
      },
      "source": [
        "Initialize a tokenizer for the model."
      ]
    },
    {
      "cell_type": "code",
      "execution_count": null,
      "id": "89a28bfc",
      "metadata": {
        "id": "89a28bfc",
        "outputId": "b5d34d54-4484-4d17-b957-e74785444f9f",
        "colab": {
          "base_uri": "https://localhost:8080/"
        }
      },
      "outputs": [
        {
          "output_type": "stream",
          "name": "stderr",
          "text": [
            "/usr/local/lib/python3.10/dist-packages/transformers/tokenization_utils_base.py:1601: FutureWarning: `clean_up_tokenization_spaces` was not set. It will be set to `True` by default. This behavior will be depracted in transformers v4.45, and will be then set to `False` by default. For more details check this issue: https://github.com/huggingface/transformers/issues/31884\n",
            "  warnings.warn(\n"
          ]
        }
      ],
      "source": [
        "\n",
        "\n",
        "from transformers import AutoTokenizer\n",
        "\n",
        "tokenizer = AutoTokenizer.from_pretrained(\"aubmindlab/bert-base-arabertv02\")\n",
        "\n",
        "def tokenize_function(examples):\n",
        "    return tokenizer(examples[\"text\"], padding=\"max_length\", truncation=True)\n",
        "\n",
        "train_encodings = train_df.apply(lambda row: tokenize_function({\"text\": row[\"text\"]}), axis=1)\n",
        "test_encodings = test_df.apply(lambda row: tokenize_function({\"text\": row[\"text\"]}), axis=1)\n"
      ]
    },
    {
      "cell_type": "markdown",
      "id": "89500748",
      "metadata": {
        "id": "89500748"
      },
      "source": [
        "## Step 5: Preprocessing the Text"
      ]
    },
    {
      "cell_type": "markdown",
      "id": "30bd6fab",
      "metadata": {
        "id": "30bd6fab"
      },
      "source": [
        "Map the tokenization function to the dataset. Ensure the text data is processed using truncation to handle sequences that exceed the model's input size. Please do any further preprocessing.\n",
        "\n",
        "**Bonus**: If you performed more comprehensive preprocessing, such as removing links, converting text to lowercase, or applying additional preprocessing techniques."
      ]
    },
    {
      "cell_type": "code",
      "source": [
        "df.isnull().sum()"
      ],
      "metadata": {
        "id": "b8a91S9rTciQ",
        "outputId": "6e73a607-30d9-42b3-f042-189df9896a85",
        "colab": {
          "base_uri": "https://localhost:8080/",
          "height": 178
        }
      },
      "id": "b8a91S9rTciQ",
      "execution_count": null,
      "outputs": [
        {
          "output_type": "execute_result",
          "data": {
            "text/plain": [
              "Unnamed: 0    0\n",
              "text          0\n",
              "label         0\n",
              "dtype: int64"
            ],
            "text/html": [
              "<div>\n",
              "<style scoped>\n",
              "    .dataframe tbody tr th:only-of-type {\n",
              "        vertical-align: middle;\n",
              "    }\n",
              "\n",
              "    .dataframe tbody tr th {\n",
              "        vertical-align: top;\n",
              "    }\n",
              "\n",
              "    .dataframe thead th {\n",
              "        text-align: right;\n",
              "    }\n",
              "</style>\n",
              "<table border=\"1\" class=\"dataframe\">\n",
              "  <thead>\n",
              "    <tr style=\"text-align: right;\">\n",
              "      <th></th>\n",
              "      <th>0</th>\n",
              "    </tr>\n",
              "  </thead>\n",
              "  <tbody>\n",
              "    <tr>\n",
              "      <th>Unnamed: 0</th>\n",
              "      <td>0</td>\n",
              "    </tr>\n",
              "    <tr>\n",
              "      <th>text</th>\n",
              "      <td>0</td>\n",
              "    </tr>\n",
              "    <tr>\n",
              "      <th>label</th>\n",
              "      <td>0</td>\n",
              "    </tr>\n",
              "  </tbody>\n",
              "</table>\n",
              "</div><br><label><b>dtype:</b> int64</label>"
            ]
          },
          "metadata": {},
          "execution_count": 139
        }
      ]
    },
    {
      "cell_type": "code",
      "source": [
        "df.duplicated().sum()"
      ],
      "metadata": {
        "id": "J2ZhWbM9aZKy",
        "outputId": "c4c755bd-796a-48b0-a99d-dd568abc60d6",
        "colab": {
          "base_uri": "https://localhost:8080/"
        }
      },
      "id": "J2ZhWbM9aZKy",
      "execution_count": null,
      "outputs": [
        {
          "output_type": "execute_result",
          "data": {
            "text/plain": [
              "0"
            ]
          },
          "metadata": {},
          "execution_count": 140
        }
      ]
    },
    {
      "cell_type": "code",
      "source": [
        "df.drop_duplicates().sum()"
      ],
      "metadata": {
        "id": "O-VMOcPtae78",
        "outputId": "0a3712d6-a67c-4857-e879-28f617e07fac",
        "colab": {
          "base_uri": "https://localhost:8080/",
          "height": 178
        }
      },
      "id": "O-VMOcPtae78",
      "execution_count": null,
      "outputs": [
        {
          "output_type": "execute_result",
          "data": {
            "text/plain": [
              "Unnamed: 0                                             57349845\n",
              "text          صدر عن \"دار صديقات لنشر وتوزيع الكتب\" الكتاب ا...\n",
              "label         CultureCultureFinanceCultureFinanceFinanceMedi...\n",
              "dtype: object"
            ],
            "text/html": [
              "<div>\n",
              "<style scoped>\n",
              "    .dataframe tbody tr th:only-of-type {\n",
              "        vertical-align: middle;\n",
              "    }\n",
              "\n",
              "    .dataframe tbody tr th {\n",
              "        vertical-align: top;\n",
              "    }\n",
              "\n",
              "    .dataframe thead th {\n",
              "        text-align: right;\n",
              "    }\n",
              "</style>\n",
              "<table border=\"1\" class=\"dataframe\">\n",
              "  <thead>\n",
              "    <tr style=\"text-align: right;\">\n",
              "      <th></th>\n",
              "      <th>0</th>\n",
              "    </tr>\n",
              "  </thead>\n",
              "  <tbody>\n",
              "    <tr>\n",
              "      <th>Unnamed: 0</th>\n",
              "      <td>57349845</td>\n",
              "    </tr>\n",
              "    <tr>\n",
              "      <th>text</th>\n",
              "      <td>صدر عن \"دار صديقات لنشر وتوزيع الكتب\" الكتاب ا...</td>\n",
              "    </tr>\n",
              "    <tr>\n",
              "      <th>label</th>\n",
              "      <td>CultureCultureFinanceCultureFinanceFinanceMedi...</td>\n",
              "    </tr>\n",
              "  </tbody>\n",
              "</table>\n",
              "</div><br><label><b>dtype:</b> object</label>"
            ]
          },
          "metadata": {},
          "execution_count": 141
        }
      ]
    },
    {
      "cell_type": "code",
      "source": [
        "df.duplicated().sum()"
      ],
      "metadata": {
        "id": "mxAKnSsWcIiM",
        "outputId": "141a3893-b0ee-41ab-98a0-2df5e2c200cb",
        "colab": {
          "base_uri": "https://localhost:8080/"
        }
      },
      "id": "mxAKnSsWcIiM",
      "execution_count": null,
      "outputs": [
        {
          "output_type": "execute_result",
          "data": {
            "text/plain": [
              "0"
            ]
          },
          "metadata": {},
          "execution_count": 142
        }
      ]
    },
    {
      "cell_type": "markdown",
      "id": "5f05ad70",
      "metadata": {
        "id": "5f05ad70"
      },
      "source": [
        "### Step 6: Label Encoding"
      ]
    },
    {
      "cell_type": "markdown",
      "id": "87441817",
      "metadata": {
        "id": "87441817"
      },
      "source": [
        "Convert the categorical labels into numerical format using a label encoder if needed."
      ]
    },
    {
      "cell_type": "code",
      "execution_count": null,
      "id": "dcb0ce69",
      "metadata": {
        "id": "dcb0ce69"
      },
      "outputs": [],
      "source": [
        "from sklearn.preprocessing import LabelEncoder\n",
        "\n",
        "label_encoder = LabelEncoder()\n",
        "y_train_encoder = label_encoder.fit_transform(train_df['label'])\n",
        "y_test_encoder = label_encoder.transform(test_df['label'])"
      ]
    },
    {
      "cell_type": "markdown",
      "id": "2c2cde80",
      "metadata": {
        "id": "2c2cde80"
      },
      "source": [
        "### Step 7: Data Collation for Padding"
      ]
    },
    {
      "cell_type": "markdown",
      "id": "130522fd",
      "metadata": {
        "id": "130522fd"
      },
      "source": [
        "Prepare the data for training by ensuring all sequences in a batch are padded to the same length. Use a data collator to handle dynamic padding."
      ]
    },
    {
      "cell_type": "code",
      "execution_count": null,
      "id": "fe5832f9",
      "metadata": {
        "id": "fe5832f9"
      },
      "outputs": [],
      "source": [
        "\n",
        "from transformers import DataCollatorWithPadding\n",
        "\n",
        "data_collator = DataCollatorWithPadding(tokenizer=tokenizer)"
      ]
    },
    {
      "cell_type": "markdown",
      "id": "08125f2b",
      "metadata": {
        "id": "08125f2b"
      },
      "source": [
        "### Step 8: Model Initialization"
      ]
    },
    {
      "cell_type": "markdown",
      "id": "a209e8e8",
      "metadata": {
        "id": "a209e8e8"
      },
      "source": [
        "Initialize a sequence classification model using the BERT-based architecture. Set the the right amount of output labels."
      ]
    },
    {
      "cell_type": "code",
      "execution_count": null,
      "id": "9d45858f",
      "metadata": {
        "id": "9d45858f",
        "outputId": "89da36b4-36e5-4a39-c4d0-4d8ddbf65a29",
        "colab": {
          "base_uri": "https://localhost:8080/"
        }
      },
      "outputs": [
        {
          "output_type": "stream",
          "name": "stderr",
          "text": [
            "Some weights of the model checkpoint at aubmindlab/bert-base-arabertv02 were not used when initializing BertForMaskedLM: ['bert.pooler.dense.bias', 'bert.pooler.dense.weight', 'cls.seq_relationship.bias', 'cls.seq_relationship.weight']\n",
            "- This IS expected if you are initializing BertForMaskedLM from the checkpoint of a model trained on another task or with another architecture (e.g. initializing a BertForSequenceClassification model from a BertForPreTraining model).\n",
            "- This IS NOT expected if you are initializing BertForMaskedLM from the checkpoint of a model that you expect to be exactly identical (initializing a BertForSequenceClassification model from a BertForSequenceClassification model).\n"
          ]
        }
      ],
      "source": [
        "from transformers import AutoModelForMaskedLM\n",
        "\n",
        "model = AutoModelForMaskedLM.from_pretrained(\"aubmindlab/bert-base-arabertv02\")\n"
      ]
    },
    {
      "cell_type": "markdown",
      "id": "c662a02e",
      "metadata": {
        "id": "c662a02e"
      },
      "source": [
        "## Step 9: Training Arguments"
      ]
    },
    {
      "cell_type": "markdown",
      "id": "fc922a37",
      "metadata": {
        "id": "fc922a37"
      },
      "source": [
        "Define the training arguments, including parameters such as learning rate, batch size, number of epochs, and weight decay."
      ]
    },
    {
      "cell_type": "code",
      "execution_count": null,
      "id": "086bbafb",
      "metadata": {
        "id": "086bbafb",
        "outputId": "3e88ca46-716b-48d5-8092-fdb64a748c04",
        "colab": {
          "base_uri": "https://localhost:8080/"
        }
      },
      "outputs": [
        {
          "output_type": "stream",
          "name": "stderr",
          "text": [
            "/usr/local/lib/python3.10/dist-packages/transformers/tokenization_utils_base.py:1601: FutureWarning: `clean_up_tokenization_spaces` was not set. It will be set to `True` by default. This behavior will be depracted in transformers v4.45, and will be then set to `False` by default. For more details check this issue: https://github.com/huggingface/transformers/issues/31884\n",
            "  warnings.warn(\n"
          ]
        }
      ],
      "source": [
        "from transformers import AutoTokenizer, AutoModelForMaskedLM\n",
        "\n",
        "tokenizer = AutoTokenizer.from_pretrained(\"aubmindlab/bert-base-arabertv02\")"
      ]
    },
    {
      "cell_type": "code",
      "source": [
        "from transformers import Trainer, TrainingArguments\n",
        "\n",
        "training_args = TrainingArguments(\n",
        "    output_dir='./results',\n",
        "    evaluation_strategy=\"no\",\n",
        "    learning_rate=3e-5,\n",
        "    per_device_train_batch_size=8,\n",
        "    num_train_epochs=1\n",
        ")"
      ],
      "metadata": {
        "id": "hsOw-e7PgeBl",
        "outputId": "32cd4301-cdcd-47cd-ef2f-efe2c1be9897",
        "colab": {
          "base_uri": "https://localhost:8080/"
        }
      },
      "id": "hsOw-e7PgeBl",
      "execution_count": null,
      "outputs": [
        {
          "output_type": "stream",
          "name": "stderr",
          "text": [
            "/usr/local/lib/python3.10/dist-packages/transformers/training_args.py:1525: FutureWarning: `evaluation_strategy` is deprecated and will be removed in version 4.46 of 🤗 Transformers. Use `eval_strategy` instead\n",
            "  warnings.warn(\n"
          ]
        }
      ]
    },
    {
      "cell_type": "markdown",
      "id": "74aabddb",
      "metadata": {
        "id": "74aabddb"
      },
      "source": [
        "## Step 10: Trainer Initialization and Training"
      ]
    },
    {
      "cell_type": "markdown",
      "id": "3d3b4bf5",
      "metadata": {
        "id": "3d3b4bf5"
      },
      "source": [
        "Set up the trainer with the model, training arguments, dataset, tokenizer, and data collator. Train the model using the dataset you processed earlier."
      ]
    },
    {
      "cell_type": "code",
      "source": [
        "trainer = Trainer(\n",
        "    model=model,\n",
        "    args=training_args,\n",
        "    train_dataset=X_train,\n",
        "    eval_dataset=X_test,\n",
        "    tokenizer=tokenizer,\n",
        "    data_collator=data_collator\n",
        " )"
      ],
      "metadata": {
        "id": "tumZhU1wmrMp"
      },
      "id": "tumZhU1wmrMp",
      "execution_count": null,
      "outputs": []
    },
    {
      "cell_type": "code",
      "source": [
        "y_train_encoder"
      ],
      "metadata": {
        "id": "im6mdNzwjAKb",
        "outputId": "8c14886c-2984-40a6-cca8-3e57617e58d8",
        "colab": {
          "base_uri": "https://localhost:8080/"
        }
      },
      "id": "im6mdNzwjAKb",
      "execution_count": null,
      "outputs": [
        {
          "output_type": "execute_result",
          "data": {
            "text/plain": [
              "array([0, 2, 1, ..., 1, 0, 1])"
            ]
          },
          "metadata": {},
          "execution_count": 152
        }
      ]
    },
    {
      "cell_type": "code",
      "source": [
        "X_train.shape , y_train.shape"
      ],
      "metadata": {
        "id": "ssom1DvVolBk",
        "outputId": "43dfbd13-1b3e-4261-9141-70d229ec251a",
        "colab": {
          "base_uri": "https://localhost:8080/"
        }
      },
      "id": "ssom1DvVolBk",
      "execution_count": null,
      "outputs": [
        {
          "output_type": "execute_result",
          "data": {
            "text/plain": [
              "((6144,), (6144,))"
            ]
          },
          "metadata": {},
          "execution_count": 156
        }
      ]
    },
    {
      "source": [
        "X_train = X_train.reset_index(drop=True)\n",
        "y_train = y_train.reset_index(drop=True)"
      ],
      "cell_type": "code",
      "metadata": {
        "id": "pBBXuT_YpAUr"
      },
      "id": "pBBXuT_YpAUr",
      "execution_count": null,
      "outputs": []
    },
    {
      "cell_type": "code",
      "source": [
        "trainer.train()"
      ],
      "metadata": {
        "id": "0uOsqy-3hHam",
        "outputId": "f99d1d2e-42d7-4733-b59d-35f66968d3ae",
        "colab": {
          "base_uri": "https://localhost:8080/",
          "height": 547
        }
      },
      "id": "0uOsqy-3hHam",
      "execution_count": null,
      "outputs": [
        {
          "output_type": "error",
          "ename": "KeyError",
          "evalue": "3366",
          "traceback": [
            "\u001b[0;31m---------------------------------------------------------------------------\u001b[0m",
            "\u001b[0;31mKeyError\u001b[0m                                  Traceback (most recent call last)",
            "\u001b[0;32m/usr/local/lib/python3.10/dist-packages/pandas/core/indexes/base.py\u001b[0m in \u001b[0;36mget_loc\u001b[0;34m(self, key)\u001b[0m\n\u001b[1;32m   3790\u001b[0m         \u001b[0;32mtry\u001b[0m\u001b[0;34m:\u001b[0m\u001b[0;34m\u001b[0m\u001b[0;34m\u001b[0m\u001b[0m\n\u001b[0;32m-> 3791\u001b[0;31m             \u001b[0;32mreturn\u001b[0m \u001b[0mself\u001b[0m\u001b[0;34m.\u001b[0m\u001b[0m_engine\u001b[0m\u001b[0;34m.\u001b[0m\u001b[0mget_loc\u001b[0m\u001b[0;34m(\u001b[0m\u001b[0mcasted_key\u001b[0m\u001b[0;34m)\u001b[0m\u001b[0;34m\u001b[0m\u001b[0;34m\u001b[0m\u001b[0m\n\u001b[0m\u001b[1;32m   3792\u001b[0m         \u001b[0;32mexcept\u001b[0m \u001b[0mKeyError\u001b[0m \u001b[0;32mas\u001b[0m \u001b[0merr\u001b[0m\u001b[0;34m:\u001b[0m\u001b[0;34m\u001b[0m\u001b[0;34m\u001b[0m\u001b[0m\n",
            "\u001b[0;32mindex.pyx\u001b[0m in \u001b[0;36mpandas._libs.index.IndexEngine.get_loc\u001b[0;34m()\u001b[0m\n",
            "\u001b[0;32mindex.pyx\u001b[0m in \u001b[0;36mpandas._libs.index.IndexEngine.get_loc\u001b[0;34m()\u001b[0m\n",
            "\u001b[0;32mpandas/_libs/hashtable_class_helper.pxi\u001b[0m in \u001b[0;36mpandas._libs.hashtable.Int64HashTable.get_item\u001b[0;34m()\u001b[0m\n",
            "\u001b[0;32mpandas/_libs/hashtable_class_helper.pxi\u001b[0m in \u001b[0;36mpandas._libs.hashtable.Int64HashTable.get_item\u001b[0;34m()\u001b[0m\n",
            "\u001b[0;31mKeyError\u001b[0m: 3366",
            "\nThe above exception was the direct cause of the following exception:\n",
            "\u001b[0;31mKeyError\u001b[0m                                  Traceback (most recent call last)",
            "\u001b[0;32m<ipython-input-160-3435b262f1ae>\u001b[0m in \u001b[0;36m<cell line: 1>\u001b[0;34m()\u001b[0m\n\u001b[0;32m----> 1\u001b[0;31m \u001b[0mtrainer\u001b[0m\u001b[0;34m.\u001b[0m\u001b[0mtrain\u001b[0m\u001b[0;34m(\u001b[0m\u001b[0;34m)\u001b[0m\u001b[0;34m\u001b[0m\u001b[0;34m\u001b[0m\u001b[0m\n\u001b[0m",
            "\u001b[0;32m/usr/local/lib/python3.10/dist-packages/transformers/trainer.py\u001b[0m in \u001b[0;36mtrain\u001b[0;34m(self, resume_from_checkpoint, trial, ignore_keys_for_eval, **kwargs)\u001b[0m\n\u001b[1;32m   1936\u001b[0m                 \u001b[0mhf_hub_utils\u001b[0m\u001b[0;34m.\u001b[0m\u001b[0menable_progress_bars\u001b[0m\u001b[0;34m(\u001b[0m\u001b[0;34m)\u001b[0m\u001b[0;34m\u001b[0m\u001b[0;34m\u001b[0m\u001b[0m\n\u001b[1;32m   1937\u001b[0m         \u001b[0;32melse\u001b[0m\u001b[0;34m:\u001b[0m\u001b[0;34m\u001b[0m\u001b[0;34m\u001b[0m\u001b[0m\n\u001b[0;32m-> 1938\u001b[0;31m             return inner_training_loop(\n\u001b[0m\u001b[1;32m   1939\u001b[0m                 \u001b[0margs\u001b[0m\u001b[0;34m=\u001b[0m\u001b[0margs\u001b[0m\u001b[0;34m,\u001b[0m\u001b[0;34m\u001b[0m\u001b[0;34m\u001b[0m\u001b[0m\n\u001b[1;32m   1940\u001b[0m                 \u001b[0mresume_from_checkpoint\u001b[0m\u001b[0;34m=\u001b[0m\u001b[0mresume_from_checkpoint\u001b[0m\u001b[0;34m,\u001b[0m\u001b[0;34m\u001b[0m\u001b[0;34m\u001b[0m\u001b[0m\n",
            "\u001b[0;32m/usr/local/lib/python3.10/dist-packages/transformers/trainer.py\u001b[0m in \u001b[0;36m_inner_training_loop\u001b[0;34m(self, batch_size, args, resume_from_checkpoint, trial, ignore_keys_for_eval)\u001b[0m\n\u001b[1;32m   2234\u001b[0m \u001b[0;34m\u001b[0m\u001b[0m\n\u001b[1;32m   2235\u001b[0m             \u001b[0mstep\u001b[0m \u001b[0;34m=\u001b[0m \u001b[0;34m-\u001b[0m\u001b[0;36m1\u001b[0m\u001b[0;34m\u001b[0m\u001b[0;34m\u001b[0m\u001b[0m\n\u001b[0;32m-> 2236\u001b[0;31m             \u001b[0;32mfor\u001b[0m \u001b[0mstep\u001b[0m\u001b[0;34m,\u001b[0m \u001b[0minputs\u001b[0m \u001b[0;32min\u001b[0m \u001b[0menumerate\u001b[0m\u001b[0;34m(\u001b[0m\u001b[0mepoch_iterator\u001b[0m\u001b[0;34m)\u001b[0m\u001b[0;34m:\u001b[0m\u001b[0;34m\u001b[0m\u001b[0;34m\u001b[0m\u001b[0m\n\u001b[0m\u001b[1;32m   2237\u001b[0m                 \u001b[0mtotal_batched_samples\u001b[0m \u001b[0;34m+=\u001b[0m \u001b[0;36m1\u001b[0m\u001b[0;34m\u001b[0m\u001b[0;34m\u001b[0m\u001b[0m\n\u001b[1;32m   2238\u001b[0m \u001b[0;34m\u001b[0m\u001b[0m\n",
            "\u001b[0;32m/usr/local/lib/python3.10/dist-packages/accelerate/data_loader.py\u001b[0m in \u001b[0;36m__iter__\u001b[0;34m(self)\u001b[0m\n\u001b[1;32m    548\u001b[0m         \u001b[0;31m# We iterate one batch ahead to check when we are at the end\u001b[0m\u001b[0;34m\u001b[0m\u001b[0;34m\u001b[0m\u001b[0m\n\u001b[1;32m    549\u001b[0m         \u001b[0;32mtry\u001b[0m\u001b[0;34m:\u001b[0m\u001b[0;34m\u001b[0m\u001b[0;34m\u001b[0m\u001b[0m\n\u001b[0;32m--> 550\u001b[0;31m             \u001b[0mcurrent_batch\u001b[0m \u001b[0;34m=\u001b[0m \u001b[0mnext\u001b[0m\u001b[0;34m(\u001b[0m\u001b[0mdataloader_iter\u001b[0m\u001b[0;34m)\u001b[0m\u001b[0;34m\u001b[0m\u001b[0;34m\u001b[0m\u001b[0m\n\u001b[0m\u001b[1;32m    551\u001b[0m         \u001b[0;32mexcept\u001b[0m \u001b[0mStopIteration\u001b[0m\u001b[0;34m:\u001b[0m\u001b[0;34m\u001b[0m\u001b[0;34m\u001b[0m\u001b[0m\n\u001b[1;32m    552\u001b[0m             \u001b[0;32myield\u001b[0m\u001b[0;34m\u001b[0m\u001b[0;34m\u001b[0m\u001b[0m\n",
            "\u001b[0;32m/usr/local/lib/python3.10/dist-packages/torch/utils/data/dataloader.py\u001b[0m in \u001b[0;36m__next__\u001b[0;34m(self)\u001b[0m\n\u001b[1;32m    628\u001b[0m                 \u001b[0;31m# TODO(https://github.com/pytorch/pytorch/issues/76750)\u001b[0m\u001b[0;34m\u001b[0m\u001b[0;34m\u001b[0m\u001b[0m\n\u001b[1;32m    629\u001b[0m                 \u001b[0mself\u001b[0m\u001b[0;34m.\u001b[0m\u001b[0m_reset\u001b[0m\u001b[0;34m(\u001b[0m\u001b[0;34m)\u001b[0m  \u001b[0;31m# type: ignore[call-arg]\u001b[0m\u001b[0;34m\u001b[0m\u001b[0;34m\u001b[0m\u001b[0m\n\u001b[0;32m--> 630\u001b[0;31m             \u001b[0mdata\u001b[0m \u001b[0;34m=\u001b[0m \u001b[0mself\u001b[0m\u001b[0;34m.\u001b[0m\u001b[0m_next_data\u001b[0m\u001b[0;34m(\u001b[0m\u001b[0;34m)\u001b[0m\u001b[0;34m\u001b[0m\u001b[0;34m\u001b[0m\u001b[0m\n\u001b[0m\u001b[1;32m    631\u001b[0m             \u001b[0mself\u001b[0m\u001b[0;34m.\u001b[0m\u001b[0m_num_yielded\u001b[0m \u001b[0;34m+=\u001b[0m \u001b[0;36m1\u001b[0m\u001b[0;34m\u001b[0m\u001b[0;34m\u001b[0m\u001b[0m\n\u001b[1;32m    632\u001b[0m             \u001b[0;32mif\u001b[0m \u001b[0mself\u001b[0m\u001b[0;34m.\u001b[0m\u001b[0m_dataset_kind\u001b[0m \u001b[0;34m==\u001b[0m \u001b[0m_DatasetKind\u001b[0m\u001b[0;34m.\u001b[0m\u001b[0mIterable\u001b[0m \u001b[0;32mand\u001b[0m\u001b[0;31m \u001b[0m\u001b[0;31m\\\u001b[0m\u001b[0;34m\u001b[0m\u001b[0;34m\u001b[0m\u001b[0m\n",
            "\u001b[0;32m/usr/local/lib/python3.10/dist-packages/torch/utils/data/dataloader.py\u001b[0m in \u001b[0;36m_next_data\u001b[0;34m(self)\u001b[0m\n\u001b[1;32m    671\u001b[0m     \u001b[0;32mdef\u001b[0m \u001b[0m_next_data\u001b[0m\u001b[0;34m(\u001b[0m\u001b[0mself\u001b[0m\u001b[0;34m)\u001b[0m\u001b[0;34m:\u001b[0m\u001b[0;34m\u001b[0m\u001b[0;34m\u001b[0m\u001b[0m\n\u001b[1;32m    672\u001b[0m         \u001b[0mindex\u001b[0m \u001b[0;34m=\u001b[0m \u001b[0mself\u001b[0m\u001b[0;34m.\u001b[0m\u001b[0m_next_index\u001b[0m\u001b[0;34m(\u001b[0m\u001b[0;34m)\u001b[0m  \u001b[0;31m# may raise StopIteration\u001b[0m\u001b[0;34m\u001b[0m\u001b[0;34m\u001b[0m\u001b[0m\n\u001b[0;32m--> 673\u001b[0;31m         \u001b[0mdata\u001b[0m \u001b[0;34m=\u001b[0m \u001b[0mself\u001b[0m\u001b[0;34m.\u001b[0m\u001b[0m_dataset_fetcher\u001b[0m\u001b[0;34m.\u001b[0m\u001b[0mfetch\u001b[0m\u001b[0;34m(\u001b[0m\u001b[0mindex\u001b[0m\u001b[0;34m)\u001b[0m  \u001b[0;31m# may raise StopIteration\u001b[0m\u001b[0;34m\u001b[0m\u001b[0;34m\u001b[0m\u001b[0m\n\u001b[0m\u001b[1;32m    674\u001b[0m         \u001b[0;32mif\u001b[0m \u001b[0mself\u001b[0m\u001b[0;34m.\u001b[0m\u001b[0m_pin_memory\u001b[0m\u001b[0;34m:\u001b[0m\u001b[0;34m\u001b[0m\u001b[0;34m\u001b[0m\u001b[0m\n\u001b[1;32m    675\u001b[0m             \u001b[0mdata\u001b[0m \u001b[0;34m=\u001b[0m \u001b[0m_utils\u001b[0m\u001b[0;34m.\u001b[0m\u001b[0mpin_memory\u001b[0m\u001b[0;34m.\u001b[0m\u001b[0mpin_memory\u001b[0m\u001b[0;34m(\u001b[0m\u001b[0mdata\u001b[0m\u001b[0;34m,\u001b[0m \u001b[0mself\u001b[0m\u001b[0;34m.\u001b[0m\u001b[0m_pin_memory_device\u001b[0m\u001b[0;34m)\u001b[0m\u001b[0;34m\u001b[0m\u001b[0;34m\u001b[0m\u001b[0m\n",
            "\u001b[0;32m/usr/local/lib/python3.10/dist-packages/torch/utils/data/_utils/fetch.py\u001b[0m in \u001b[0;36mfetch\u001b[0;34m(self, possibly_batched_index)\u001b[0m\n\u001b[1;32m     50\u001b[0m                 \u001b[0mdata\u001b[0m \u001b[0;34m=\u001b[0m \u001b[0mself\u001b[0m\u001b[0;34m.\u001b[0m\u001b[0mdataset\u001b[0m\u001b[0;34m.\u001b[0m\u001b[0m__getitems__\u001b[0m\u001b[0;34m(\u001b[0m\u001b[0mpossibly_batched_index\u001b[0m\u001b[0;34m)\u001b[0m\u001b[0;34m\u001b[0m\u001b[0;34m\u001b[0m\u001b[0m\n\u001b[1;32m     51\u001b[0m             \u001b[0;32melse\u001b[0m\u001b[0;34m:\u001b[0m\u001b[0;34m\u001b[0m\u001b[0;34m\u001b[0m\u001b[0m\n\u001b[0;32m---> 52\u001b[0;31m                 \u001b[0mdata\u001b[0m \u001b[0;34m=\u001b[0m \u001b[0;34m[\u001b[0m\u001b[0mself\u001b[0m\u001b[0;34m.\u001b[0m\u001b[0mdataset\u001b[0m\u001b[0;34m[\u001b[0m\u001b[0midx\u001b[0m\u001b[0;34m]\u001b[0m \u001b[0;32mfor\u001b[0m \u001b[0midx\u001b[0m \u001b[0;32min\u001b[0m \u001b[0mpossibly_batched_index\u001b[0m\u001b[0;34m]\u001b[0m\u001b[0;34m\u001b[0m\u001b[0;34m\u001b[0m\u001b[0m\n\u001b[0m\u001b[1;32m     53\u001b[0m         \u001b[0;32melse\u001b[0m\u001b[0;34m:\u001b[0m\u001b[0;34m\u001b[0m\u001b[0;34m\u001b[0m\u001b[0m\n\u001b[1;32m     54\u001b[0m             \u001b[0mdata\u001b[0m \u001b[0;34m=\u001b[0m \u001b[0mself\u001b[0m\u001b[0;34m.\u001b[0m\u001b[0mdataset\u001b[0m\u001b[0;34m[\u001b[0m\u001b[0mpossibly_batched_index\u001b[0m\u001b[0;34m]\u001b[0m\u001b[0;34m\u001b[0m\u001b[0;34m\u001b[0m\u001b[0m\n",
            "\u001b[0;32m/usr/local/lib/python3.10/dist-packages/torch/utils/data/_utils/fetch.py\u001b[0m in \u001b[0;36m<listcomp>\u001b[0;34m(.0)\u001b[0m\n\u001b[1;32m     50\u001b[0m                 \u001b[0mdata\u001b[0m \u001b[0;34m=\u001b[0m \u001b[0mself\u001b[0m\u001b[0;34m.\u001b[0m\u001b[0mdataset\u001b[0m\u001b[0;34m.\u001b[0m\u001b[0m__getitems__\u001b[0m\u001b[0;34m(\u001b[0m\u001b[0mpossibly_batched_index\u001b[0m\u001b[0;34m)\u001b[0m\u001b[0;34m\u001b[0m\u001b[0;34m\u001b[0m\u001b[0m\n\u001b[1;32m     51\u001b[0m             \u001b[0;32melse\u001b[0m\u001b[0;34m:\u001b[0m\u001b[0;34m\u001b[0m\u001b[0;34m\u001b[0m\u001b[0m\n\u001b[0;32m---> 52\u001b[0;31m                 \u001b[0mdata\u001b[0m \u001b[0;34m=\u001b[0m \u001b[0;34m[\u001b[0m\u001b[0mself\u001b[0m\u001b[0;34m.\u001b[0m\u001b[0mdataset\u001b[0m\u001b[0;34m[\u001b[0m\u001b[0midx\u001b[0m\u001b[0;34m]\u001b[0m \u001b[0;32mfor\u001b[0m \u001b[0midx\u001b[0m \u001b[0;32min\u001b[0m \u001b[0mpossibly_batched_index\u001b[0m\u001b[0;34m]\u001b[0m\u001b[0;34m\u001b[0m\u001b[0;34m\u001b[0m\u001b[0m\n\u001b[0m\u001b[1;32m     53\u001b[0m         \u001b[0;32melse\u001b[0m\u001b[0;34m:\u001b[0m\u001b[0;34m\u001b[0m\u001b[0;34m\u001b[0m\u001b[0m\n\u001b[1;32m     54\u001b[0m             \u001b[0mdata\u001b[0m \u001b[0;34m=\u001b[0m \u001b[0mself\u001b[0m\u001b[0;34m.\u001b[0m\u001b[0mdataset\u001b[0m\u001b[0;34m[\u001b[0m\u001b[0mpossibly_batched_index\u001b[0m\u001b[0;34m]\u001b[0m\u001b[0;34m\u001b[0m\u001b[0;34m\u001b[0m\u001b[0m\n",
            "\u001b[0;32m/usr/local/lib/python3.10/dist-packages/pandas/core/series.py\u001b[0m in \u001b[0;36m__getitem__\u001b[0;34m(self, key)\u001b[0m\n\u001b[1;32m   1038\u001b[0m \u001b[0;34m\u001b[0m\u001b[0m\n\u001b[1;32m   1039\u001b[0m         \u001b[0;32melif\u001b[0m \u001b[0mkey_is_scalar\u001b[0m\u001b[0;34m:\u001b[0m\u001b[0;34m\u001b[0m\u001b[0;34m\u001b[0m\u001b[0m\n\u001b[0;32m-> 1040\u001b[0;31m             \u001b[0;32mreturn\u001b[0m \u001b[0mself\u001b[0m\u001b[0;34m.\u001b[0m\u001b[0m_get_value\u001b[0m\u001b[0;34m(\u001b[0m\u001b[0mkey\u001b[0m\u001b[0;34m)\u001b[0m\u001b[0;34m\u001b[0m\u001b[0;34m\u001b[0m\u001b[0m\n\u001b[0m\u001b[1;32m   1041\u001b[0m \u001b[0;34m\u001b[0m\u001b[0m\n\u001b[1;32m   1042\u001b[0m         \u001b[0;31m# Convert generator to list before going through hashable part\u001b[0m\u001b[0;34m\u001b[0m\u001b[0;34m\u001b[0m\u001b[0m\n",
            "\u001b[0;32m/usr/local/lib/python3.10/dist-packages/pandas/core/series.py\u001b[0m in \u001b[0;36m_get_value\u001b[0;34m(self, label, takeable)\u001b[0m\n\u001b[1;32m   1154\u001b[0m \u001b[0;34m\u001b[0m\u001b[0m\n\u001b[1;32m   1155\u001b[0m         \u001b[0;31m# Similar to Index.get_value, but we do not fall back to positional\u001b[0m\u001b[0;34m\u001b[0m\u001b[0;34m\u001b[0m\u001b[0m\n\u001b[0;32m-> 1156\u001b[0;31m         \u001b[0mloc\u001b[0m \u001b[0;34m=\u001b[0m \u001b[0mself\u001b[0m\u001b[0;34m.\u001b[0m\u001b[0mindex\u001b[0m\u001b[0;34m.\u001b[0m\u001b[0mget_loc\u001b[0m\u001b[0;34m(\u001b[0m\u001b[0mlabel\u001b[0m\u001b[0;34m)\u001b[0m\u001b[0;34m\u001b[0m\u001b[0;34m\u001b[0m\u001b[0m\n\u001b[0m\u001b[1;32m   1157\u001b[0m \u001b[0;34m\u001b[0m\u001b[0m\n\u001b[1;32m   1158\u001b[0m         \u001b[0;32mif\u001b[0m \u001b[0mis_integer\u001b[0m\u001b[0;34m(\u001b[0m\u001b[0mloc\u001b[0m\u001b[0;34m)\u001b[0m\u001b[0;34m:\u001b[0m\u001b[0;34m\u001b[0m\u001b[0;34m\u001b[0m\u001b[0m\n",
            "\u001b[0;32m/usr/local/lib/python3.10/dist-packages/pandas/core/indexes/base.py\u001b[0m in \u001b[0;36mget_loc\u001b[0;34m(self, key)\u001b[0m\n\u001b[1;32m   3796\u001b[0m             ):\n\u001b[1;32m   3797\u001b[0m                 \u001b[0;32mraise\u001b[0m \u001b[0mInvalidIndexError\u001b[0m\u001b[0;34m(\u001b[0m\u001b[0mkey\u001b[0m\u001b[0;34m)\u001b[0m\u001b[0;34m\u001b[0m\u001b[0;34m\u001b[0m\u001b[0m\n\u001b[0;32m-> 3798\u001b[0;31m             \u001b[0;32mraise\u001b[0m \u001b[0mKeyError\u001b[0m\u001b[0;34m(\u001b[0m\u001b[0mkey\u001b[0m\u001b[0;34m)\u001b[0m \u001b[0;32mfrom\u001b[0m \u001b[0merr\u001b[0m\u001b[0;34m\u001b[0m\u001b[0;34m\u001b[0m\u001b[0m\n\u001b[0m\u001b[1;32m   3799\u001b[0m         \u001b[0;32mexcept\u001b[0m \u001b[0mTypeError\u001b[0m\u001b[0;34m:\u001b[0m\u001b[0;34m\u001b[0m\u001b[0;34m\u001b[0m\u001b[0m\n\u001b[1;32m   3800\u001b[0m             \u001b[0;31m# If we have a listlike key, _check_indexing_error will raise\u001b[0m\u001b[0;34m\u001b[0m\u001b[0;34m\u001b[0m\u001b[0m\n",
            "\u001b[0;31mKeyError\u001b[0m: 3366"
          ]
        }
      ]
    },
    {
      "cell_type": "markdown",
      "id": "0c5ed70c",
      "metadata": {
        "id": "0c5ed70c"
      },
      "source": [
        "Once the model is trained, perform inference on a sample text to evaluate the model's prediction capabilities. Use the tokenizer to process the text, and then feed it into the model to get the predicted label."
      ]
    },
    {
      "cell_type": "code",
      "execution_count": null,
      "id": "0d90a5b5",
      "metadata": {
        "id": "0d90a5b5"
      },
      "outputs": [],
      "source": []
    }
  ],
  "metadata": {
    "language_info": {
      "name": "python"
    },
    "colab": {
      "provenance": []
    },
    "kernelspec": {
      "name": "python3",
      "display_name": "Python 3"
    },
    "widgets": {
      "application/vnd.jupyter.widget-state+json": {
        "0c3bf1dae4a4411a8bd83ba75d422805": {
          "model_module": "@jupyter-widgets/controls",
          "model_name": "HBoxModel",
          "model_module_version": "1.5.0",
          "state": {
            "_dom_classes": [],
            "_model_module": "@jupyter-widgets/controls",
            "_model_module_version": "1.5.0",
            "_model_name": "HBoxModel",
            "_view_count": null,
            "_view_module": "@jupyter-widgets/controls",
            "_view_module_version": "1.5.0",
            "_view_name": "HBoxView",
            "box_style": "",
            "children": [
              "IPY_MODEL_391b219fbfbb4a9989ea79f904eeffba",
              "IPY_MODEL_58fe914d69294ea4852c4c650d67fff7",
              "IPY_MODEL_8b4505994f684254beea3c41ee692c38"
            ],
            "layout": "IPY_MODEL_c149b79561f9472eae59956cc5b2748c"
          }
        },
        "391b219fbfbb4a9989ea79f904eeffba": {
          "model_module": "@jupyter-widgets/controls",
          "model_name": "HTMLModel",
          "model_module_version": "1.5.0",
          "state": {
            "_dom_classes": [],
            "_model_module": "@jupyter-widgets/controls",
            "_model_module_version": "1.5.0",
            "_model_name": "HTMLModel",
            "_view_count": null,
            "_view_module": "@jupyter-widgets/controls",
            "_view_module_version": "1.5.0",
            "_view_name": "HTMLView",
            "description": "",
            "description_tooltip": null,
            "layout": "IPY_MODEL_2ddb08c65c89458db3a525ab44799507",
            "placeholder": "​",
            "style": "IPY_MODEL_8a91b3fba1404c94946edae01d62cdd1",
            "value": "model.safetensors: 100%"
          }
        },
        "58fe914d69294ea4852c4c650d67fff7": {
          "model_module": "@jupyter-widgets/controls",
          "model_name": "FloatProgressModel",
          "model_module_version": "1.5.0",
          "state": {
            "_dom_classes": [],
            "_model_module": "@jupyter-widgets/controls",
            "_model_module_version": "1.5.0",
            "_model_name": "FloatProgressModel",
            "_view_count": null,
            "_view_module": "@jupyter-widgets/controls",
            "_view_module_version": "1.5.0",
            "_view_name": "ProgressView",
            "bar_style": "success",
            "description": "",
            "description_tooltip": null,
            "layout": "IPY_MODEL_2997a074785344c788b9ea708b37fe5f",
            "max": 543432324,
            "min": 0,
            "orientation": "horizontal",
            "style": "IPY_MODEL_4e0ce52717a947db84b2d7dcdeee3a31",
            "value": 543432324
          }
        },
        "8b4505994f684254beea3c41ee692c38": {
          "model_module": "@jupyter-widgets/controls",
          "model_name": "HTMLModel",
          "model_module_version": "1.5.0",
          "state": {
            "_dom_classes": [],
            "_model_module": "@jupyter-widgets/controls",
            "_model_module_version": "1.5.0",
            "_model_name": "HTMLModel",
            "_view_count": null,
            "_view_module": "@jupyter-widgets/controls",
            "_view_module_version": "1.5.0",
            "_view_name": "HTMLView",
            "description": "",
            "description_tooltip": null,
            "layout": "IPY_MODEL_5a361c42c7c34bd28b6baf9f1d389f37",
            "placeholder": "​",
            "style": "IPY_MODEL_d8e4c42a601043bb83ccb9118b98e79f",
            "value": " 543M/543M [00:10&lt;00:00, 60.7MB/s]"
          }
        },
        "c149b79561f9472eae59956cc5b2748c": {
          "model_module": "@jupyter-widgets/base",
          "model_name": "LayoutModel",
          "model_module_version": "1.2.0",
          "state": {
            "_model_module": "@jupyter-widgets/base",
            "_model_module_version": "1.2.0",
            "_model_name": "LayoutModel",
            "_view_count": null,
            "_view_module": "@jupyter-widgets/base",
            "_view_module_version": "1.2.0",
            "_view_name": "LayoutView",
            "align_content": null,
            "align_items": null,
            "align_self": null,
            "border": null,
            "bottom": null,
            "display": null,
            "flex": null,
            "flex_flow": null,
            "grid_area": null,
            "grid_auto_columns": null,
            "grid_auto_flow": null,
            "grid_auto_rows": null,
            "grid_column": null,
            "grid_gap": null,
            "grid_row": null,
            "grid_template_areas": null,
            "grid_template_columns": null,
            "grid_template_rows": null,
            "height": null,
            "justify_content": null,
            "justify_items": null,
            "left": null,
            "margin": null,
            "max_height": null,
            "max_width": null,
            "min_height": null,
            "min_width": null,
            "object_fit": null,
            "object_position": null,
            "order": null,
            "overflow": null,
            "overflow_x": null,
            "overflow_y": null,
            "padding": null,
            "right": null,
            "top": null,
            "visibility": null,
            "width": null
          }
        },
        "2ddb08c65c89458db3a525ab44799507": {
          "model_module": "@jupyter-widgets/base",
          "model_name": "LayoutModel",
          "model_module_version": "1.2.0",
          "state": {
            "_model_module": "@jupyter-widgets/base",
            "_model_module_version": "1.2.0",
            "_model_name": "LayoutModel",
            "_view_count": null,
            "_view_module": "@jupyter-widgets/base",
            "_view_module_version": "1.2.0",
            "_view_name": "LayoutView",
            "align_content": null,
            "align_items": null,
            "align_self": null,
            "border": null,
            "bottom": null,
            "display": null,
            "flex": null,
            "flex_flow": null,
            "grid_area": null,
            "grid_auto_columns": null,
            "grid_auto_flow": null,
            "grid_auto_rows": null,
            "grid_column": null,
            "grid_gap": null,
            "grid_row": null,
            "grid_template_areas": null,
            "grid_template_columns": null,
            "grid_template_rows": null,
            "height": null,
            "justify_content": null,
            "justify_items": null,
            "left": null,
            "margin": null,
            "max_height": null,
            "max_width": null,
            "min_height": null,
            "min_width": null,
            "object_fit": null,
            "object_position": null,
            "order": null,
            "overflow": null,
            "overflow_x": null,
            "overflow_y": null,
            "padding": null,
            "right": null,
            "top": null,
            "visibility": null,
            "width": null
          }
        },
        "8a91b3fba1404c94946edae01d62cdd1": {
          "model_module": "@jupyter-widgets/controls",
          "model_name": "DescriptionStyleModel",
          "model_module_version": "1.5.0",
          "state": {
            "_model_module": "@jupyter-widgets/controls",
            "_model_module_version": "1.5.0",
            "_model_name": "DescriptionStyleModel",
            "_view_count": null,
            "_view_module": "@jupyter-widgets/base",
            "_view_module_version": "1.2.0",
            "_view_name": "StyleView",
            "description_width": ""
          }
        },
        "2997a074785344c788b9ea708b37fe5f": {
          "model_module": "@jupyter-widgets/base",
          "model_name": "LayoutModel",
          "model_module_version": "1.2.0",
          "state": {
            "_model_module": "@jupyter-widgets/base",
            "_model_module_version": "1.2.0",
            "_model_name": "LayoutModel",
            "_view_count": null,
            "_view_module": "@jupyter-widgets/base",
            "_view_module_version": "1.2.0",
            "_view_name": "LayoutView",
            "align_content": null,
            "align_items": null,
            "align_self": null,
            "border": null,
            "bottom": null,
            "display": null,
            "flex": null,
            "flex_flow": null,
            "grid_area": null,
            "grid_auto_columns": null,
            "grid_auto_flow": null,
            "grid_auto_rows": null,
            "grid_column": null,
            "grid_gap": null,
            "grid_row": null,
            "grid_template_areas": null,
            "grid_template_columns": null,
            "grid_template_rows": null,
            "height": null,
            "justify_content": null,
            "justify_items": null,
            "left": null,
            "margin": null,
            "max_height": null,
            "max_width": null,
            "min_height": null,
            "min_width": null,
            "object_fit": null,
            "object_position": null,
            "order": null,
            "overflow": null,
            "overflow_x": null,
            "overflow_y": null,
            "padding": null,
            "right": null,
            "top": null,
            "visibility": null,
            "width": null
          }
        },
        "4e0ce52717a947db84b2d7dcdeee3a31": {
          "model_module": "@jupyter-widgets/controls",
          "model_name": "ProgressStyleModel",
          "model_module_version": "1.5.0",
          "state": {
            "_model_module": "@jupyter-widgets/controls",
            "_model_module_version": "1.5.0",
            "_model_name": "ProgressStyleModel",
            "_view_count": null,
            "_view_module": "@jupyter-widgets/base",
            "_view_module_version": "1.2.0",
            "_view_name": "StyleView",
            "bar_color": null,
            "description_width": ""
          }
        },
        "5a361c42c7c34bd28b6baf9f1d389f37": {
          "model_module": "@jupyter-widgets/base",
          "model_name": "LayoutModel",
          "model_module_version": "1.2.0",
          "state": {
            "_model_module": "@jupyter-widgets/base",
            "_model_module_version": "1.2.0",
            "_model_name": "LayoutModel",
            "_view_count": null,
            "_view_module": "@jupyter-widgets/base",
            "_view_module_version": "1.2.0",
            "_view_name": "LayoutView",
            "align_content": null,
            "align_items": null,
            "align_self": null,
            "border": null,
            "bottom": null,
            "display": null,
            "flex": null,
            "flex_flow": null,
            "grid_area": null,
            "grid_auto_columns": null,
            "grid_auto_flow": null,
            "grid_auto_rows": null,
            "grid_column": null,
            "grid_gap": null,
            "grid_row": null,
            "grid_template_areas": null,
            "grid_template_columns": null,
            "grid_template_rows": null,
            "height": null,
            "justify_content": null,
            "justify_items": null,
            "left": null,
            "margin": null,
            "max_height": null,
            "max_width": null,
            "min_height": null,
            "min_width": null,
            "object_fit": null,
            "object_position": null,
            "order": null,
            "overflow": null,
            "overflow_x": null,
            "overflow_y": null,
            "padding": null,
            "right": null,
            "top": null,
            "visibility": null,
            "width": null
          }
        },
        "d8e4c42a601043bb83ccb9118b98e79f": {
          "model_module": "@jupyter-widgets/controls",
          "model_name": "DescriptionStyleModel",
          "model_module_version": "1.5.0",
          "state": {
            "_model_module": "@jupyter-widgets/controls",
            "_model_module_version": "1.5.0",
            "_model_name": "DescriptionStyleModel",
            "_view_count": null,
            "_view_module": "@jupyter-widgets/base",
            "_view_module_version": "1.2.0",
            "_view_name": "StyleView",
            "description_width": ""
          }
        },
        "8b7a427e5baa4bc9a7521900de94b984": {
          "model_module": "@jupyter-widgets/controls",
          "model_name": "HBoxModel",
          "model_module_version": "1.5.0",
          "state": {
            "_dom_classes": [],
            "_model_module": "@jupyter-widgets/controls",
            "_model_module_version": "1.5.0",
            "_model_name": "HBoxModel",
            "_view_count": null,
            "_view_module": "@jupyter-widgets/controls",
            "_view_module_version": "1.5.0",
            "_view_name": "HBoxView",
            "box_style": "",
            "children": [
              "IPY_MODEL_2410de4fe0474b35bd4751eb636cd1e0",
              "IPY_MODEL_9ab0e107c1244a4888465c82fcdf273c",
              "IPY_MODEL_f17f104563054276b7fe489ecd0cd60e"
            ],
            "layout": "IPY_MODEL_aa7bd696685246a9b87978a9e96a0818"
          }
        },
        "2410de4fe0474b35bd4751eb636cd1e0": {
          "model_module": "@jupyter-widgets/controls",
          "model_name": "HTMLModel",
          "model_module_version": "1.5.0",
          "state": {
            "_dom_classes": [],
            "_model_module": "@jupyter-widgets/controls",
            "_model_module_version": "1.5.0",
            "_model_name": "HTMLModel",
            "_view_count": null,
            "_view_module": "@jupyter-widgets/controls",
            "_view_module_version": "1.5.0",
            "_view_name": "HTMLView",
            "description": "",
            "description_tooltip": null,
            "layout": "IPY_MODEL_3775fb8d6a7f42f7a53bda4675c19627",
            "placeholder": "​",
            "style": "IPY_MODEL_fd7018eacdb6478a9763af8c4fdfbaf3",
            "value": "sanad_df.csv: 100%"
          }
        },
        "9ab0e107c1244a4888465c82fcdf273c": {
          "model_module": "@jupyter-widgets/controls",
          "model_name": "FloatProgressModel",
          "model_module_version": "1.5.0",
          "state": {
            "_dom_classes": [],
            "_model_module": "@jupyter-widgets/controls",
            "_model_module_version": "1.5.0",
            "_model_name": "FloatProgressModel",
            "_view_count": null,
            "_view_module": "@jupyter-widgets/controls",
            "_view_module_version": "1.5.0",
            "_view_name": "ProgressView",
            "bar_style": "success",
            "description": "",
            "description_tooltip": null,
            "layout": "IPY_MODEL_cb36586857534acc9ef04ec7a46f7197",
            "max": 50330073,
            "min": 0,
            "orientation": "horizontal",
            "style": "IPY_MODEL_5bdfa8df1507444e9f55b5e187d312bf",
            "value": 50330073
          }
        },
        "f17f104563054276b7fe489ecd0cd60e": {
          "model_module": "@jupyter-widgets/controls",
          "model_name": "HTMLModel",
          "model_module_version": "1.5.0",
          "state": {
            "_dom_classes": [],
            "_model_module": "@jupyter-widgets/controls",
            "_model_module_version": "1.5.0",
            "_model_name": "HTMLModel",
            "_view_count": null,
            "_view_module": "@jupyter-widgets/controls",
            "_view_module_version": "1.5.0",
            "_view_name": "HTMLView",
            "description": "",
            "description_tooltip": null,
            "layout": "IPY_MODEL_3ff3d2aa0d184539a2303aea612a5222",
            "placeholder": "​",
            "style": "IPY_MODEL_9a9fc3e2333948c1bfc4091cc2b210e9",
            "value": " 50.3M/50.3M [00:00&lt;00:00, 72.0MB/s]"
          }
        },
        "aa7bd696685246a9b87978a9e96a0818": {
          "model_module": "@jupyter-widgets/base",
          "model_name": "LayoutModel",
          "model_module_version": "1.2.0",
          "state": {
            "_model_module": "@jupyter-widgets/base",
            "_model_module_version": "1.2.0",
            "_model_name": "LayoutModel",
            "_view_count": null,
            "_view_module": "@jupyter-widgets/base",
            "_view_module_version": "1.2.0",
            "_view_name": "LayoutView",
            "align_content": null,
            "align_items": null,
            "align_self": null,
            "border": null,
            "bottom": null,
            "display": null,
            "flex": null,
            "flex_flow": null,
            "grid_area": null,
            "grid_auto_columns": null,
            "grid_auto_flow": null,
            "grid_auto_rows": null,
            "grid_column": null,
            "grid_gap": null,
            "grid_row": null,
            "grid_template_areas": null,
            "grid_template_columns": null,
            "grid_template_rows": null,
            "height": null,
            "justify_content": null,
            "justify_items": null,
            "left": null,
            "margin": null,
            "max_height": null,
            "max_width": null,
            "min_height": null,
            "min_width": null,
            "object_fit": null,
            "object_position": null,
            "order": null,
            "overflow": null,
            "overflow_x": null,
            "overflow_y": null,
            "padding": null,
            "right": null,
            "top": null,
            "visibility": null,
            "width": null
          }
        },
        "3775fb8d6a7f42f7a53bda4675c19627": {
          "model_module": "@jupyter-widgets/base",
          "model_name": "LayoutModel",
          "model_module_version": "1.2.0",
          "state": {
            "_model_module": "@jupyter-widgets/base",
            "_model_module_version": "1.2.0",
            "_model_name": "LayoutModel",
            "_view_count": null,
            "_view_module": "@jupyter-widgets/base",
            "_view_module_version": "1.2.0",
            "_view_name": "LayoutView",
            "align_content": null,
            "align_items": null,
            "align_self": null,
            "border": null,
            "bottom": null,
            "display": null,
            "flex": null,
            "flex_flow": null,
            "grid_area": null,
            "grid_auto_columns": null,
            "grid_auto_flow": null,
            "grid_auto_rows": null,
            "grid_column": null,
            "grid_gap": null,
            "grid_row": null,
            "grid_template_areas": null,
            "grid_template_columns": null,
            "grid_template_rows": null,
            "height": null,
            "justify_content": null,
            "justify_items": null,
            "left": null,
            "margin": null,
            "max_height": null,
            "max_width": null,
            "min_height": null,
            "min_width": null,
            "object_fit": null,
            "object_position": null,
            "order": null,
            "overflow": null,
            "overflow_x": null,
            "overflow_y": null,
            "padding": null,
            "right": null,
            "top": null,
            "visibility": null,
            "width": null
          }
        },
        "fd7018eacdb6478a9763af8c4fdfbaf3": {
          "model_module": "@jupyter-widgets/controls",
          "model_name": "DescriptionStyleModel",
          "model_module_version": "1.5.0",
          "state": {
            "_model_module": "@jupyter-widgets/controls",
            "_model_module_version": "1.5.0",
            "_model_name": "DescriptionStyleModel",
            "_view_count": null,
            "_view_module": "@jupyter-widgets/base",
            "_view_module_version": "1.2.0",
            "_view_name": "StyleView",
            "description_width": ""
          }
        },
        "cb36586857534acc9ef04ec7a46f7197": {
          "model_module": "@jupyter-widgets/base",
          "model_name": "LayoutModel",
          "model_module_version": "1.2.0",
          "state": {
            "_model_module": "@jupyter-widgets/base",
            "_model_module_version": "1.2.0",
            "_model_name": "LayoutModel",
            "_view_count": null,
            "_view_module": "@jupyter-widgets/base",
            "_view_module_version": "1.2.0",
            "_view_name": "LayoutView",
            "align_content": null,
            "align_items": null,
            "align_self": null,
            "border": null,
            "bottom": null,
            "display": null,
            "flex": null,
            "flex_flow": null,
            "grid_area": null,
            "grid_auto_columns": null,
            "grid_auto_flow": null,
            "grid_auto_rows": null,
            "grid_column": null,
            "grid_gap": null,
            "grid_row": null,
            "grid_template_areas": null,
            "grid_template_columns": null,
            "grid_template_rows": null,
            "height": null,
            "justify_content": null,
            "justify_items": null,
            "left": null,
            "margin": null,
            "max_height": null,
            "max_width": null,
            "min_height": null,
            "min_width": null,
            "object_fit": null,
            "object_position": null,
            "order": null,
            "overflow": null,
            "overflow_x": null,
            "overflow_y": null,
            "padding": null,
            "right": null,
            "top": null,
            "visibility": null,
            "width": null
          }
        },
        "5bdfa8df1507444e9f55b5e187d312bf": {
          "model_module": "@jupyter-widgets/controls",
          "model_name": "ProgressStyleModel",
          "model_module_version": "1.5.0",
          "state": {
            "_model_module": "@jupyter-widgets/controls",
            "_model_module_version": "1.5.0",
            "_model_name": "ProgressStyleModel",
            "_view_count": null,
            "_view_module": "@jupyter-widgets/base",
            "_view_module_version": "1.2.0",
            "_view_name": "StyleView",
            "bar_color": null,
            "description_width": ""
          }
        },
        "3ff3d2aa0d184539a2303aea612a5222": {
          "model_module": "@jupyter-widgets/base",
          "model_name": "LayoutModel",
          "model_module_version": "1.2.0",
          "state": {
            "_model_module": "@jupyter-widgets/base",
            "_model_module_version": "1.2.0",
            "_model_name": "LayoutModel",
            "_view_count": null,
            "_view_module": "@jupyter-widgets/base",
            "_view_module_version": "1.2.0",
            "_view_name": "LayoutView",
            "align_content": null,
            "align_items": null,
            "align_self": null,
            "border": null,
            "bottom": null,
            "display": null,
            "flex": null,
            "flex_flow": null,
            "grid_area": null,
            "grid_auto_columns": null,
            "grid_auto_flow": null,
            "grid_auto_rows": null,
            "grid_column": null,
            "grid_gap": null,
            "grid_row": null,
            "grid_template_areas": null,
            "grid_template_columns": null,
            "grid_template_rows": null,
            "height": null,
            "justify_content": null,
            "justify_items": null,
            "left": null,
            "margin": null,
            "max_height": null,
            "max_width": null,
            "min_height": null,
            "min_width": null,
            "object_fit": null,
            "object_position": null,
            "order": null,
            "overflow": null,
            "overflow_x": null,
            "overflow_y": null,
            "padding": null,
            "right": null,
            "top": null,
            "visibility": null,
            "width": null
          }
        },
        "9a9fc3e2333948c1bfc4091cc2b210e9": {
          "model_module": "@jupyter-widgets/controls",
          "model_name": "DescriptionStyleModel",
          "model_module_version": "1.5.0",
          "state": {
            "_model_module": "@jupyter-widgets/controls",
            "_model_module_version": "1.5.0",
            "_model_name": "DescriptionStyleModel",
            "_view_count": null,
            "_view_module": "@jupyter-widgets/base",
            "_view_module_version": "1.2.0",
            "_view_name": "StyleView",
            "description_width": ""
          }
        },
        "4e460051e62640b6834dcc582107f730": {
          "model_module": "@jupyter-widgets/controls",
          "model_name": "HBoxModel",
          "model_module_version": "1.5.0",
          "state": {
            "_dom_classes": [],
            "_model_module": "@jupyter-widgets/controls",
            "_model_module_version": "1.5.0",
            "_model_name": "HBoxModel",
            "_view_count": null,
            "_view_module": "@jupyter-widgets/controls",
            "_view_module_version": "1.5.0",
            "_view_name": "HBoxView",
            "box_style": "",
            "children": [
              "IPY_MODEL_091c67f0895448d7bd642f9b795c9a03",
              "IPY_MODEL_9ea85897c7ef49e48ea139bc6ce53e3f",
              "IPY_MODEL_d8f0448efaed455d9f10135d405233db"
            ],
            "layout": "IPY_MODEL_3be256b7d30a42d19bf50ec0ae778d90"
          }
        },
        "091c67f0895448d7bd642f9b795c9a03": {
          "model_module": "@jupyter-widgets/controls",
          "model_name": "HTMLModel",
          "model_module_version": "1.5.0",
          "state": {
            "_dom_classes": [],
            "_model_module": "@jupyter-widgets/controls",
            "_model_module_version": "1.5.0",
            "_model_name": "HTMLModel",
            "_view_count": null,
            "_view_module": "@jupyter-widgets/controls",
            "_view_module_version": "1.5.0",
            "_view_name": "HTMLView",
            "description": "",
            "description_tooltip": null,
            "layout": "IPY_MODEL_089901e215754769b6ff21a8abeeb9f2",
            "placeholder": "​",
            "style": "IPY_MODEL_d0d798992c914bff8d7bd959ea7855d3",
            "value": "Generating train split: 100%"
          }
        },
        "9ea85897c7ef49e48ea139bc6ce53e3f": {
          "model_module": "@jupyter-widgets/controls",
          "model_name": "FloatProgressModel",
          "model_module_version": "1.5.0",
          "state": {
            "_dom_classes": [],
            "_model_module": "@jupyter-widgets/controls",
            "_model_module_version": "1.5.0",
            "_model_name": "FloatProgressModel",
            "_view_count": null,
            "_view_module": "@jupyter-widgets/controls",
            "_view_module_version": "1.5.0",
            "_view_name": "ProgressView",
            "bar_style": "success",
            "description": "",
            "description_tooltip": null,
            "layout": "IPY_MODEL_d013542e18e94d22b0cb2756e8d56e00",
            "max": 15000,
            "min": 0,
            "orientation": "horizontal",
            "style": "IPY_MODEL_87552c61d23a4154b29a05c5ad266408",
            "value": 15000
          }
        },
        "d8f0448efaed455d9f10135d405233db": {
          "model_module": "@jupyter-widgets/controls",
          "model_name": "HTMLModel",
          "model_module_version": "1.5.0",
          "state": {
            "_dom_classes": [],
            "_model_module": "@jupyter-widgets/controls",
            "_model_module_version": "1.5.0",
            "_model_name": "HTMLModel",
            "_view_count": null,
            "_view_module": "@jupyter-widgets/controls",
            "_view_module_version": "1.5.0",
            "_view_name": "HTMLView",
            "description": "",
            "description_tooltip": null,
            "layout": "IPY_MODEL_68bd08479d014d2194974f035f97285f",
            "placeholder": "​",
            "style": "IPY_MODEL_cadda7a41933456a90fe09f39372d520",
            "value": " 15000/15000 [00:01&lt;00:00, 9922.34 examples/s]"
          }
        },
        "3be256b7d30a42d19bf50ec0ae778d90": {
          "model_module": "@jupyter-widgets/base",
          "model_name": "LayoutModel",
          "model_module_version": "1.2.0",
          "state": {
            "_model_module": "@jupyter-widgets/base",
            "_model_module_version": "1.2.0",
            "_model_name": "LayoutModel",
            "_view_count": null,
            "_view_module": "@jupyter-widgets/base",
            "_view_module_version": "1.2.0",
            "_view_name": "LayoutView",
            "align_content": null,
            "align_items": null,
            "align_self": null,
            "border": null,
            "bottom": null,
            "display": null,
            "flex": null,
            "flex_flow": null,
            "grid_area": null,
            "grid_auto_columns": null,
            "grid_auto_flow": null,
            "grid_auto_rows": null,
            "grid_column": null,
            "grid_gap": null,
            "grid_row": null,
            "grid_template_areas": null,
            "grid_template_columns": null,
            "grid_template_rows": null,
            "height": null,
            "justify_content": null,
            "justify_items": null,
            "left": null,
            "margin": null,
            "max_height": null,
            "max_width": null,
            "min_height": null,
            "min_width": null,
            "object_fit": null,
            "object_position": null,
            "order": null,
            "overflow": null,
            "overflow_x": null,
            "overflow_y": null,
            "padding": null,
            "right": null,
            "top": null,
            "visibility": null,
            "width": null
          }
        },
        "089901e215754769b6ff21a8abeeb9f2": {
          "model_module": "@jupyter-widgets/base",
          "model_name": "LayoutModel",
          "model_module_version": "1.2.0",
          "state": {
            "_model_module": "@jupyter-widgets/base",
            "_model_module_version": "1.2.0",
            "_model_name": "LayoutModel",
            "_view_count": null,
            "_view_module": "@jupyter-widgets/base",
            "_view_module_version": "1.2.0",
            "_view_name": "LayoutView",
            "align_content": null,
            "align_items": null,
            "align_self": null,
            "border": null,
            "bottom": null,
            "display": null,
            "flex": null,
            "flex_flow": null,
            "grid_area": null,
            "grid_auto_columns": null,
            "grid_auto_flow": null,
            "grid_auto_rows": null,
            "grid_column": null,
            "grid_gap": null,
            "grid_row": null,
            "grid_template_areas": null,
            "grid_template_columns": null,
            "grid_template_rows": null,
            "height": null,
            "justify_content": null,
            "justify_items": null,
            "left": null,
            "margin": null,
            "max_height": null,
            "max_width": null,
            "min_height": null,
            "min_width": null,
            "object_fit": null,
            "object_position": null,
            "order": null,
            "overflow": null,
            "overflow_x": null,
            "overflow_y": null,
            "padding": null,
            "right": null,
            "top": null,
            "visibility": null,
            "width": null
          }
        },
        "d0d798992c914bff8d7bd959ea7855d3": {
          "model_module": "@jupyter-widgets/controls",
          "model_name": "DescriptionStyleModel",
          "model_module_version": "1.5.0",
          "state": {
            "_model_module": "@jupyter-widgets/controls",
            "_model_module_version": "1.5.0",
            "_model_name": "DescriptionStyleModel",
            "_view_count": null,
            "_view_module": "@jupyter-widgets/base",
            "_view_module_version": "1.2.0",
            "_view_name": "StyleView",
            "description_width": ""
          }
        },
        "d013542e18e94d22b0cb2756e8d56e00": {
          "model_module": "@jupyter-widgets/base",
          "model_name": "LayoutModel",
          "model_module_version": "1.2.0",
          "state": {
            "_model_module": "@jupyter-widgets/base",
            "_model_module_version": "1.2.0",
            "_model_name": "LayoutModel",
            "_view_count": null,
            "_view_module": "@jupyter-widgets/base",
            "_view_module_version": "1.2.0",
            "_view_name": "LayoutView",
            "align_content": null,
            "align_items": null,
            "align_self": null,
            "border": null,
            "bottom": null,
            "display": null,
            "flex": null,
            "flex_flow": null,
            "grid_area": null,
            "grid_auto_columns": null,
            "grid_auto_flow": null,
            "grid_auto_rows": null,
            "grid_column": null,
            "grid_gap": null,
            "grid_row": null,
            "grid_template_areas": null,
            "grid_template_columns": null,
            "grid_template_rows": null,
            "height": null,
            "justify_content": null,
            "justify_items": null,
            "left": null,
            "margin": null,
            "max_height": null,
            "max_width": null,
            "min_height": null,
            "min_width": null,
            "object_fit": null,
            "object_position": null,
            "order": null,
            "overflow": null,
            "overflow_x": null,
            "overflow_y": null,
            "padding": null,
            "right": null,
            "top": null,
            "visibility": null,
            "width": null
          }
        },
        "87552c61d23a4154b29a05c5ad266408": {
          "model_module": "@jupyter-widgets/controls",
          "model_name": "ProgressStyleModel",
          "model_module_version": "1.5.0",
          "state": {
            "_model_module": "@jupyter-widgets/controls",
            "_model_module_version": "1.5.0",
            "_model_name": "ProgressStyleModel",
            "_view_count": null,
            "_view_module": "@jupyter-widgets/base",
            "_view_module_version": "1.2.0",
            "_view_name": "StyleView",
            "bar_color": null,
            "description_width": ""
          }
        },
        "68bd08479d014d2194974f035f97285f": {
          "model_module": "@jupyter-widgets/base",
          "model_name": "LayoutModel",
          "model_module_version": "1.2.0",
          "state": {
            "_model_module": "@jupyter-widgets/base",
            "_model_module_version": "1.2.0",
            "_model_name": "LayoutModel",
            "_view_count": null,
            "_view_module": "@jupyter-widgets/base",
            "_view_module_version": "1.2.0",
            "_view_name": "LayoutView",
            "align_content": null,
            "align_items": null,
            "align_self": null,
            "border": null,
            "bottom": null,
            "display": null,
            "flex": null,
            "flex_flow": null,
            "grid_area": null,
            "grid_auto_columns": null,
            "grid_auto_flow": null,
            "grid_auto_rows": null,
            "grid_column": null,
            "grid_gap": null,
            "grid_row": null,
            "grid_template_areas": null,
            "grid_template_columns": null,
            "grid_template_rows": null,
            "height": null,
            "justify_content": null,
            "justify_items": null,
            "left": null,
            "margin": null,
            "max_height": null,
            "max_width": null,
            "min_height": null,
            "min_width": null,
            "object_fit": null,
            "object_position": null,
            "order": null,
            "overflow": null,
            "overflow_x": null,
            "overflow_y": null,
            "padding": null,
            "right": null,
            "top": null,
            "visibility": null,
            "width": null
          }
        },
        "cadda7a41933456a90fe09f39372d520": {
          "model_module": "@jupyter-widgets/controls",
          "model_name": "DescriptionStyleModel",
          "model_module_version": "1.5.0",
          "state": {
            "_model_module": "@jupyter-widgets/controls",
            "_model_module_version": "1.5.0",
            "_model_name": "DescriptionStyleModel",
            "_view_count": null,
            "_view_module": "@jupyter-widgets/base",
            "_view_module_version": "1.2.0",
            "_view_name": "StyleView",
            "description_width": ""
          }
        }
      }
    }
  },
  "nbformat": 4,
  "nbformat_minor": 5
}